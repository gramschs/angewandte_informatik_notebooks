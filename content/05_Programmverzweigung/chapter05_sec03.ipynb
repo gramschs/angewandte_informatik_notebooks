{
 "cells": [
  {
   "cell_type": "markdown",
   "id": "fe2b0fed",
   "metadata": {},
   "source": [
    "# 5.3 Programmverzweigungen mit mehreren Zweigen: if -- elif -- else\n",
    "\n",
    "In unserem Alltag kommen häufig Entscheidungen zwischen zwei Möglichkeiten vor.\n",
    "Wenn ich an eine T-Kreuzung komme, muss ich mich entscheiden: links oder rechts?\n",
    "Betrete ich ein Gebäude, entscheide ich zwischen Treppe und Fahrstuhl. Mein\n",
    "Alter entscheidet darüber, ob ich etwas darf oder nicht darf. Für diese Wahl\n",
    "zwischen zwei Möglichkeiten gibt es Programmverzweigungen mit zwei Weigen. Und\n",
    "auch bei Programmverzweigungen mit zwei Zweigen hört es noch nicht auf, denn\n",
    "vielleicht kommt man ja an eine Viererkreuzung. Daher behandeln wir in diesem\n",
    "Kapitel Programmverzweigungen mit mehreren Zweigen.\n",
    "\n",
    "## Lernziele\n",
    "\n",
    "* Sie können Programmverzweigungen mit zwei Zweigen mittels **if - else**\n",
    "  implementieren.\n",
    "* Sie können mehrteilige Programmverzweigungen mit **if - elif - else**\n",
    "  implementieren.\n",
    "\n",
    "## Programmverzweigungen mit zwei Zweigen: if – else\n",
    "\n",
    "Wir erweitern die Syntax mit dem if-Block um ein neues Element, nämlich den\n",
    "sogenannten **else-Block**:\n",
    "\n",
    "```python\n",
    "if bedingung:\n",
    "    anweisungsblock 1\n",
    "else:\n",
    "    anweisungsblock 2\n",
    "```\n",
    "\n",
    "Wichtig ist, dass die Anweisungen, die nur bedingt ausgeführt werden sollen,\n",
    "eingerückt sind!\n",
    "\n",
    "Falls die Bedingung erfüllt ist, wird der 1. Anweisungsblock ausgeführt,\n",
    "ansonsten der 2. Anweisungsblock. Danach führt der Python-Interpreter alles nach\n",
    "dem if-else-Konstrukt aus, d.h. der Interpreter macht mit dem normalen\n",
    "Programmablauf weiter.\n",
    "\n",
    "Hier erneut ein Beispiel mit dem Alter."
   ]
  },
  {
   "cell_type": "code",
   "execution_count": null,
   "id": "457997ff",
   "metadata": {},
   "outputs": [],
   "source": [
    "alter = int(input('Wie alt sind Sie? '))\n",
    "if alter >= 18:\n",
    "    print('Sie sind volljährig, Sie dürfen Alkohol kaufen.')\n",
    "else:\n",
    "    print('Sie sind noch nicht volljährig und dürfen daher keinen Alkohol kaufen.')\n",
    "\n",
    "print('Jetzt haben wir aber genug über den Alkoholkauf geredet...')"
   ]
  },
  {
   "cell_type": "markdown",
   "id": "9f13ce98",
   "metadata": {},
   "source": [
    "Wir vertiefen die zweifache Verzweigung mit einer Mini-Übung.\n",
    "\n",
    "**Mini-Übung**\n",
    "Schreiben Sie ein Skript, das nach der aktuellen Temperatur fragt. Wenn die\n",
    "aktuelle Temperatur kleiner gleich 3 ˚C ist, dann lassen Sie ausgeben:\n",
    "\"Vorsicht, es besteht Glatteisgefahr!\" und ansonsten \"Kein Grund zur Sorge.\""
   ]
  },
  {
   "cell_type": "code",
   "execution_count": null,
   "id": "ae20e5da",
   "metadata": {},
   "outputs": [],
   "source": [
    "# Geben Sie nach diesem Kommentar Ihren Code ein:\n"
   ]
  },
  {
   "cell_type": "markdown",
   "id": "29f5b747",
   "metadata": {},
   "source": [
    "## Programmverzweigungen mit vielen Zweigen: if – elif – else\n",
    "\n",
    "Eins, zwei, drei -- viele ... häufig müssen mehr als zwei Fälle unterschieden\n",
    "werden. In einer Mini-Übung haben wir beispielsweise überprüft, ob eine Zahl\n",
    "negativ oder positiv oder Null ist. Ein Beispiel aus dem Alltag ist der Kauf\n",
    "einer Fahrkarte für den ÖPNV. Meist wird beim Ticketpreis unterschieden, ob die\n",
    "Person jünger als 6 ist (keine Fahrkarte notwendig), zwischen 6 und 14 ist\n",
    "(Schülerfahrkarte) oder älter als 14 (Erwachsenenfahrkarte). Da es jetzt drei\n",
    "Altersklassen gibt, können wir kein if-else-Konstrukt benutzen, denn nur weil\n",
    "die Person beispielsweise nicht jünger als 6 ist wissen wir noch lange nicht, ob\n",
    "die Person eine Schülerfahrkarte oder eine Erwachsenenfahrkarte braucht.\n",
    "\n",
    "Beachten Sie die Wahl der Vergleichsoperatoren: Bei `alter <= 14` ist eine\n",
    "Person mit genau 14 Jahren noch in der Kategorie 'Schülerfahrkarte'. Bei `alter\n",
    "< 15` wäre dies ebenso der Fall. Überlegen Sie bei der Implementierung genau, ob\n",
    "Randwerte in- oder exklusiv behandelt werden sollen.\n",
    "\n",
    "Probieren wir es einfach:"
   ]
  },
  {
   "cell_type": "code",
   "execution_count": null,
   "id": "ca672254",
   "metadata": {},
   "outputs": [],
   "source": [
    "alter = 8\n",
    "if alter < 6:\n",
    "    print('keine Fahrkarte notwendig')\n",
    "if alter <= 14:\n",
    "    print('Schülerfahrkarte')\n",
    "if alter > 14:\n",
    "    print('Erwachsenenfahrkarte')"
   ]
  },
  {
   "cell_type": "markdown",
   "id": "73e01ce6",
   "metadata": {},
   "source": [
    "Sieht zunächst einmal gut aus. Für ein Alter von 8 Jahren wird tatsächlich\n",
    "Schülerfahrkarte ausgegeben. Wenn wir jetzt aber das Alter auf 5 Jahre setzen,\n",
    "so bekommen wir zwei Ausgaben:"
   ]
  },
  {
   "cell_type": "code",
   "execution_count": null,
   "id": "6f3cbeab",
   "metadata": {},
   "outputs": [],
   "source": [
    "alter = 5\n",
    "if alter < 6:\n",
    "    print('keine Fahrkarte notwendig')\n",
    "if alter <= 14:\n",
    "    print('Schülerfahrkarte')\n",
    "if alter > 14:\n",
    "    print('Erwachsenenfahrkarte')"
   ]
  },
  {
   "cell_type": "markdown",
   "id": "69802837",
   "metadata": {},
   "source": [
    "Wir erhalten die Ausgabe `\"keine Fahrkarte notwendig\"`, weil die Bedingung des\n",
    "ersten if-Konstrukts erfüllt ist (`alter < 6`). Danach wird aber auch noch die\n",
    "Ausgabe `\"Schülerfahrkarte\"` angezeigt, weil auch die Bedingung des zweiten\n",
    "if-Konstrukts (`alter <= 14`) erfüllt ist. Diese Variante eignet sich also nicht\n",
    "zur Unterscheidung dreier Bedingungen.\n",
    "\n",
    "Probieren wir es mit einem zusätzlichen if-else-Konstrukt für die Unterscheidung\n",
    "der Kinder."
   ]
  },
  {
   "cell_type": "code",
   "execution_count": null,
   "id": "3a3640f4",
   "metadata": {},
   "outputs": [],
   "source": [
    "alter = 5\n",
    "\n",
    "if alter < 6:\n",
    "    print('keine Fahrkarte notwendig')\n",
    "else:\n",
    "    print('Schülerfahrkarte')\n",
    "\n",
    "if alter > 14:\n",
    "    print('Erwachsenenfahrkarte')"
   ]
  },
  {
   "cell_type": "markdown",
   "id": "8c4ea676",
   "metadata": {},
   "source": [
    "Jetzt sind aber Erwachsene problematisch:"
   ]
  },
  {
   "cell_type": "code",
   "execution_count": null,
   "id": "b3724a60",
   "metadata": {},
   "outputs": [],
   "source": [
    "alter = 27\n",
    "\n",
    "if alter < 6:\n",
    "    print('keine Fahrkarte notwendig')\n",
    "else:\n",
    "    print('Schülerfahrkarte')\n",
    "\n",
    "if alter > 14:\n",
    "    print('Erwachsenenfahrkarte')"
   ]
  },
  {
   "cell_type": "markdown",
   "id": "176b2681",
   "metadata": {},
   "source": [
    "Der Programmcode funktioniert nur korrekt, wenn wir in den else-Zweig noch\n",
    "zusätzlich zwischen \"jünger als 14\" und \"älter als 14\" unterscheiden.\n",
    "\n",
    "Führen Sie die folgende Code-Zelle mehrfach aus. Ändern Sie dabei das Alter.\n",
    "Probieren Sie beispielsweise 5, 8, 11, 16, 21 und Ihr Alter aus."
   ]
  },
  {
   "cell_type": "code",
   "execution_count": null,
   "id": "969577f5",
   "metadata": {},
   "outputs": [],
   "source": [
    "alter = 27\n",
    "\n",
    "if alter < 6:\n",
    "    print('keine Fahrkarte notwendig')\n",
    "else:\n",
    "    if alter <= 14:\n",
    "        print('Schülerfahrkarte')\n",
    "    else:\n",
    "        print('Erwachsenenfahrkarte')"
   ]
  },
  {
   "cell_type": "markdown",
   "id": "7d481e92",
   "metadata": {},
   "source": [
    "Es wäre schöner, wenn es für solche Mehrfachverzweigungen etwas\n",
    "übersichtlicheren Code gäbe. Und in der Tat, den gibt es. Man könnte sozusagen\n",
    "den Start des else-Konstruktes mit dem nachfolgenden if-Konstrukt verschmelzen.\n",
    "`elif` ist eine Kurzform für `else if` und ermöglicht es, mehrere Bedingungen\n",
    "nacheinander zu prüfen, ohne die Einrückungstiefe zu erhöhen. Das Ergebnis davon\n",
    "ist die if-elif-else-Syntax. Allgemein sieht das **if-elif-else-Konstrukt** so\n",
    "aus:\n",
    "\n",
    "```python\n",
    "if bedingung 1:\n",
    "    anweisungsblock 1\n",
    "elif bedingung 2:\n",
    "    anweisungsblock 2\n",
    "elif bedingung 3:\n",
    "    anweisungsblock 3   \n",
    "...\n",
    "else:\n",
    "    anweisungsblock n\n",
    "```\n",
    "\n",
    "Wichtig: Bei einem if-elif-else-Konstrukt werden die Bedingungen der Reihe nach\n",
    "geprüft. Sobald eine Bedingung erfüllt ist, wird der zugehörige Anweisungsblock\n",
    "ausgeführt und alle nachfolgenden Bedingungen werden ignoriert. Daher ist die\n",
    "Reihenfolge der Bedingungen entscheidend für die korrekte Funktionsweise des\n",
    "Programms.\n",
    "\n",
    "Hier die besser lesbare Version der Unterscheidung von Zahlen in negative\n",
    "Zahlen, 0 und positive Zahlen aus der Mini-Übung:"
   ]
  },
  {
   "cell_type": "code",
   "execution_count": null,
   "id": "293cf0f6",
   "metadata": {},
   "outputs": [],
   "source": [
    "a = 17\n",
    "if a == 0:\n",
    "    print('a ist Null.')\n",
    "elif a < 0:\n",
    "    print('a ist negativ.')\n",
    "else:\n",
    "    print('a ist positiv.')"
   ]
  },
  {
   "cell_type": "markdown",
   "id": "eb0c1e71",
   "metadata": {},
   "source": [
    "Hier die besser lesbare Version des Fahrkartenautomaten:"
   ]
  },
  {
   "cell_type": "code",
   "execution_count": null,
   "id": "d66b3837",
   "metadata": {},
   "outputs": [],
   "source": [
    "alter = 27\n",
    "\n",
    "if alter < 6:\n",
    "    print('keine Fahrkarte notwendig')\n",
    "elif alter <= 14:\n",
    "    print('Schülerfahrkarte')\n",
    "else:\n",
    "    print('Erwachsenenfahrkarte')"
   ]
  },
  {
   "cell_type": "markdown",
   "id": "4e0025e4",
   "metadata": {},
   "source": [
    "**Mini-Übung**\n",
    "Sie finden den aktuellen Bußgeldkatalog für Geschwindigkeitsüberschreitungen mit\n",
    "dem PKW im Internet auf der Seite:\n",
    "[https://www.bussgeldkatalog.org/geschwindigkeitsueberschreitung/](https://www.bussgeldkatalog.org/geschwindigkeitsueberschreitung/)\n",
    "Schreiben Sie ein Skript, dass abhängig von der Geschwindigkeitsüberschreitung\n",
    "ausgibt, welche Strafe in Euro verhängt wird. Die Tabelle für das Jahr 2022\n",
    "lautet wie folgt:\n",
    "\n",
    "![Screenshot des Bussgeldkatalogs](https://gramschs.github.io/book_python/_images/part02_bussgeldkatalog.png)"
   ]
  },
  {
   "cell_type": "code",
   "execution_count": null,
   "id": "4ae90d0e",
   "metadata": {},
   "outputs": [],
   "source": [
    "# Geben Sie nach diesem Kommentar Ihren Code ein:\n"
   ]
  },
  {
   "cell_type": "markdown",
   "id": "8d3a852d",
   "metadata": {},
   "source": [
    "Wenn Sie das Thema elif/else vertiefen wollen, können Sie sich das folgende\n",
    "Video ansehen.\n",
    "\n",
    "> [Video \"elif und else\" von Programmieren\n",
    "> Starten](https://www.youtube.com/watch?v=f3YdEdYSNdk&t=1s)\n",
    "\n",
    "## Zusammenfassung und Ausblick\n",
    "\n",
    "In diesem Kapitel haben wir gelernt, wie man mit if, elif und else in Python\n",
    "Programmverzweigungen mit zwei oder mehr Entscheidungszweigen umsetzt, um\n",
    "unterschiedliche Fälle gezielt abzufragen und übersichtlich zu strukturieren. Im\n",
    "nächsten Kapitel werden wir die Strukturierung des Code in kleinere Einheiten\n",
    "erlernen (Funktionen)."
   ]
  }
 ],
 "metadata": {
  "jupytext": {
   "formats": "ipynb,md:myst"
  },
  "kernelspec": {
   "display_name": "Python 3 (ipykernel)",
   "language": "python",
   "name": "python3"
  }
 },
 "nbformat": 4,
 "nbformat_minor": 5
}
