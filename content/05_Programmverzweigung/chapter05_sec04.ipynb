{
 "cells": [
  {
   "cell_type": "markdown",
   "id": "bd5b6ded",
   "metadata": {},
   "source": [
    "# Übungen\n",
    "\n",
    "## Übung 5.1\n",
    "\n",
    "Schreiben Sie ein Programm, das den Benutzer nach seinem Geburtsjahr fragt.\n",
    "Danach rechnet das Programm aus, wie alt der Benutzer dieses Jahr wird. Wenn der\n",
    "Benutzer dieses Jahr volljährig wird, soll das Programm ausgeben: \"Hurra, Sie\n",
    "werden oder wurden dieses Jahr volljährig!\" Wenn der Benutzer schon volljährig\n",
    "ist, soll das Programm ausgeben: \"Sie sind bereits volljährig.\" Ansonsten soll\n",
    "das Programm ausgeben: \"Du bist noch nicht volljährig.\""
   ]
  },
  {
   "cell_type": "code",
   "execution_count": null,
   "id": "80270dd5",
   "metadata": {},
   "outputs": [],
   "source": [
    "# Geben Sie nach diesem Kommentar Ihren Code ein:\n"
   ]
  },
  {
   "cell_type": "markdown",
   "id": "94168f54",
   "metadata": {},
   "source": [
    "## Übung 5.2\n",
    "\n",
    "Ein Onlineshop verkauft T-Shirts, Pullover und Jacken. Ein T-Shirt kostet 15,99\n",
    "EUR, ein Pullover 24,99 EUR und eine Jacke 39,99 EUR.\n",
    "\n",
    "Schreiben Sie ein Programm, das abfragt, wie viele T-Shirts, Pullover und Jacken\n",
    "bestellt werden sollen. Lassen Sie den Kaufpreis ausgeben. Dazu kommen aber noch\n",
    "die Portokosten. Bei einem Kaufpreis unter 50 Euro betragen die Portokosten\n",
    "13,95 Euro. Zwischen 50 und 100 Euro muss der Kunde 4,95 Euro Porto bezahlen. Ab\n",
    "einem Kaufpreis von 100 Euro gibt es keine Portokosten mehr. Lassen Sie\n",
    "zusätzlich die Portokosten und den Gesamtpreis ausgeben.\n",
    "\n",
    "Testen Sie Ihr Programm mit drei Beispielen für die drei unterschiedlichen\n",
    "Portokosten."
   ]
  },
  {
   "cell_type": "code",
   "execution_count": null,
   "id": "9d63f50f",
   "metadata": {},
   "outputs": [],
   "source": [
    "# Geben Sie nach diesem Kommentar Ihren Code ein:\n"
   ]
  },
  {
   "cell_type": "markdown",
   "id": "629ede44",
   "metadata": {},
   "source": [
    "## Übung 5.3\n",
    "\n",
    "In einer maschinenbautechnischen Anwendung müssen Sie einen geeigneten Werkstoff\n",
    "basierend auf der Betriebstemperatur auswählen. Es gelten folgende Regeln:\n",
    "\n",
    "- Temperaturen unter 0°C: Verwenden Sie \"Spezialstahl S420\"\n",
    "- Temperaturen zwischen 0°C und 100°C: Verwenden Sie \"Standardstahl S235\"\n",
    "- Temperaturen zwischen 100°C und 500°C: Verwenden Sie \"Hitzebeständiger Stahl\n",
    "  S355\"\n",
    "- Temperaturen über 500°C: Verwenden Sie \"Hochtemperaturlegierung Inconel\"\n",
    "\n",
    "Schreiben Sie ein Python-Programm, das die Betriebstemperatur vom Benutzer\n",
    "abfragt und den empfohlenen Werkstoff ausgibt."
   ]
  },
  {
   "cell_type": "code",
   "execution_count": null,
   "id": "b6744e1a",
   "metadata": {},
   "outputs": [],
   "source": [
    "# Geben Sie nach diesem Kommentar Ihren Code ein:\n"
   ]
  },
  {
   "cell_type": "markdown",
   "id": "8dbacb31",
   "metadata": {},
   "source": [
    "## Übung 5.4\n",
    "\n",
    "Schreiben Sie ein Programm, das den Benutzer nach einem Satz fragt. Anschließend\n",
    "soll das Programm zählen, wie oft die Vokale a, e, i, o und u in dem Satz\n",
    "vorkommen.\n",
    "\n",
    "Zusatzfrage: Was passiert bei Großbuchstaben?"
   ]
  },
  {
   "cell_type": "code",
   "execution_count": null,
   "id": "ba758521",
   "metadata": {},
   "outputs": [],
   "source": [
    "# Geben Sie nach diesem Kommentar Ihren Code ein:\n"
   ]
  },
  {
   "cell_type": "markdown",
   "id": "1291e82c",
   "metadata": {},
   "source": [
    "## Übung 5.5\n",
    "\n",
    "Wählen Sie sich Ihr Lieblingsrezept aus oder suchen Sie sich ein Rezept des\n",
    "Tages heraus (siehe <https://www.chefkoch.de/rezepte/was-koche-ich-heute/>).\n",
    "Notieren Sie sich die Zutatenlisten in zwei Listen. In der ersten Liste soll die\n",
    "Menge einer Zutat pro Person stehen, in der zweiten Liste die Zutat selbst.\n",
    "\n",
    "Lassen Sie dann den Computer fragen, für wie viele Personen gekocht werden soll.\n",
    "Dann soll der Computer eine Einkaufsliste ausgeben, bei der die Mengenangaben\n",
    "passend zur Personenanzahl skaliert sind.\n",
    "\n",
    "Beispiel Wrap-Pizza (<https://www.chefkoch.de/rezepte/3252151483799016/Wrap-Pizza.html>):\n",
    "\n",
    "```python\n",
    "Computer: Für wie viele Personen soll gekocht werden?\n",
    "Benutzer: 4\n",
    "Computer:\n",
    "Hier ist die Zutatenliste für 4 Personen:\n",
    "4 Tortillas\n",
    "8 EL Tomatenmark\n",
    "4 EL Wasser\n",
    "```"
   ]
  },
  {
   "cell_type": "code",
   "execution_count": null,
   "id": "619fb1c2",
   "metadata": {},
   "outputs": [],
   "source": [
    "# Geben Sie nach diesem Kommentar Ihren Code ein:\n"
   ]
  },
  {
   "cell_type": "markdown",
   "id": "a4b8c716",
   "metadata": {},
   "source": [
    "## Übung 5.6\n",
    "\n",
    "Ein Unternehmen fertigt Bauteile mit fortlaufenden Seriennummern. Zur\n",
    "Qualitätskontrolle sollen die Bauteile anhand ihrer Seriennummer wie folgt\n",
    "klassifiziert werden:\n",
    "\n",
    "1. Wenn die Seriennummer durch 2 teilbar ist, wird das Bauteil der\n",
    "   \"Qualitätsprüfung A\" unterzogen.\n",
    "2. Wenn die Seriennummer durch 5 teilbar ist, wird das Bauteil der\n",
    "   \"Spezialprüfung\" unterzogen.\n",
    "3. Alle anderen Bauteile durchlaufen die \"Standardprüfung\".\n",
    "\n",
    "Schreiben Sie ein Programm, das:\n",
    "\n",
    "- Den Benutzer nach einer Seriennummer fragt.\n",
    "- Die entsprechende Prüfkategorie bestimmt und ausgibt.\n",
    "\n",
    "Testen Sie Ihr Programm mit den Seriennummern 15, 10, 8 und 7.\n",
    "\n",
    "*Tipp*: Verwenden Sie den modulo-Operator `%`, um die Teilbarkeit zu prüfen."
   ]
  },
  {
   "cell_type": "code",
   "execution_count": null,
   "id": "56919164",
   "metadata": {},
   "outputs": [],
   "source": [
    "# Geben Sie nach diesem Kommentar Ihren Code ein:\n"
   ]
  },
  {
   "cell_type": "markdown",
   "id": "5bd64480",
   "metadata": {},
   "source": [
    "## Übung 5.7\n",
    "\n",
    "Bei der Fertigung von Zahnrädern für Getriebe werden Toleranzen durch den\n",
    "Fertigungsprozess bedingt. Ein Zahnrad soll einen Durchmesser von 50 mm haben,\n",
    "jedoch schwankt der tatsächliche Durchmesser aufgrund von\n",
    "Fertigungsungenauigkeiten.\n",
    "\n",
    "Schreiben Sie ein Programm, das:\n",
    "\n",
    "1. Die Fertigung von 200 Zahnrädern simuliert.\n",
    "2. Die Durchmesser der gefertigten Zahnräder folgen einer Normalverteilung mit\n",
    "   Mittelwert 50 mm und Standardabweichung 0.1 mm.\n",
    "3. Die Qualitätskontrolle akzeptiert nur Zahnräder mit folgenden Eigenschaften:\n",
    "   - \"Präzisionsklasse\": Durchmesser zwischen 49.9 mm und 50.1 mm\n",
    "   - \"Standardklasse\": Durchmesser zwischen 49.8 mm und 49.9 mm oder zwischen\n",
    "     50.1 mm und 50.2 mm\n",
    "   - \"Ausschuss\": Durchmesser kleiner als 49.8 mm oder größer als 50.2 mm\n",
    "4. Das Programm soll:\n",
    "   - Die Anzahl der Zahnräder in jeder Klasse ausgeben.\n",
    "   - Die prozentuale Ausbeute (Nicht-Ausschuss) berechnen und ausgeben.\n",
    "   - Die Kosten des Ausschusses berechnen, wenn jedes Zahnrad 15 €\n",
    "     Materialkosten verursacht.\n",
    "\n",
    "Hinweis: Vergleichen Sie auch, wie sich die Ausbeute verändert, wenn die\n",
    "Standardabweichung auf 0.15 mm erhöht wird (schlechtere Fertigungsqualität) oder\n",
    "auf 0.05 mm reduziert wird (bessere Fertigungsqualität)."
   ]
  },
  {
   "cell_type": "code",
   "execution_count": null,
   "id": "d3af07bb",
   "metadata": {},
   "outputs": [],
   "source": [
    "# Geben Sie nach diesem Kommentar Ihren Code ein:\n"
   ]
  },
  {
   "cell_type": "markdown",
   "id": "32132b88",
   "metadata": {},
   "source": [
    "## Übung 5.8\n",
    "\n",
    "Schreiben Sie ein Programm, das mit Turtle ein n-Eck zeichnet. Das n-Eck soll in\n",
    "einen Kreis mit Radius $r$ passen. Die Anzahl der Ecken, der Radius des Kreises\n",
    "und die Stiftfarbe sollen auf deutsch vom Benutzer abgefragt werden. Bei den\n",
    "Stiftfarben darf nur aus den Farben rot, grün und blau ausgewählt werden. Wählt\n",
    "der Benutzer eine falsche Stiftfarbe, soll eine Fehlermeldung ausgegeben werden\n",
    "und die Stiftfarbe schwarz gewählt werden."
   ]
  },
  {
   "cell_type": "code",
   "execution_count": null,
   "id": "0076dab4",
   "metadata": {},
   "outputs": [],
   "source": [
    "# Geben Sie nach diesem Kommentar Ihren Code ein:\n"
   ]
  }
 ],
 "metadata": {
  "jupytext": {
   "formats": "ipynb,md:myst"
  },
  "kernelspec": {
   "display_name": "Python 3 (ipykernel)",
   "language": "python",
   "name": "python3"
  }
 },
 "nbformat": 4,
 "nbformat_minor": 5
}
