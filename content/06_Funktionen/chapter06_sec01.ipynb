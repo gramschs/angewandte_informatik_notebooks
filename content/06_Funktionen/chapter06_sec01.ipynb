{
 "cells": [
  {
   "cell_type": "markdown",
   "id": "5aff4992",
   "metadata": {},
   "source": [
    "# 6.1 Funktionen selbst schreiben\n",
    "\n",
    "Eine Funktion in Python ist eine Zusammenfassung von Anweisungen, die dazu\n",
    "dienen, eine bestimmte Teilaufgabe zu lösen. Dabei arbeitet die Funktion in\n",
    "ihrer allgemeinsten Form nach dem EVA-Prinzip: Eingabe, Verarbeitung, Ausgabe.\n",
    "Die Funktion übernimmt Objekte als Eingabe, verarbeitet diese und liefert\n",
    "Objekte als Ergebnis zurück. Wie die Funktion dabei im Inneren genau\n",
    "funktioniert (Verarbeitung), ist für den Anwender zunächst unwichtig.\n",
    "\n",
    "Beispielsweise gibt es im Modul `numpy` die Funktion `sqrt()`. Wir übergeben der\n",
    "Funktion eine Zahl (Eingabe), z.B. `sqrt(5)`. Die Funktion liefert dann als\n",
    "Ergebnis $\\sqrt{5}$​ zurück. Welches Verfahren zur Berechnung der Wurzel\n",
    "verwendet wurde, müssen wir als Anwender nicht wissen.\n",
    "\n",
    "Insbesondere muss die Teilaufgabe, die die Funktion löst, nichts mit Mathematik\n",
    "zu tun haben. Eine Funktion in der Informatik unterscheidet sich von einer\n",
    "mathematischen Funktion, auch wenn oft mathematische Funktionen als Beispiel\n",
    "verwendet werden. Ein Beispiel für eine nicht-mathematische Funktion haben Sie\n",
    "mit `input()` bereits kennengelernt. Die Funktion nimmt einen Text entgegen, z.B.\n",
    "die Frage \"Wie groß sind Sie?\". Dann wird dieser Text verarbeitet, in diesem\n",
    "Fall auf dem Bildschirm angezeigt und die Antwort eingelesen. Die Antwort kann\n",
    "dann in einer Variablen gespeichert werden.\n",
    "\n",
    "## Lernziele\n",
    "\n",
    "* Sie kennen die Fachbegriffe\n",
    "  * **Aufruf** einer Funktion,\n",
    "  * **Argumente** einer Funktion und\n",
    "  * **Rückgabewert** einer Funktion.\n",
    "* Sie können eine einfache Funktion selbst implementieren und aufrufen.\n",
    "\n",
    "## Die Benutzung von Funktionen (oder der Aufruf von Funktionen)\n",
    "\n",
    "Der Aufruf einer Funktion hat folgende Syntax:\n",
    "\n",
    "```python\n",
    "rueckgabewert = funktion( argument1, argument2, ... )\n",
    "```\n",
    "\n",
    "Eine Funktion wird benutzt, indem man den Namen der Funktion und dann in runden\n",
    "Klammern ihre **Argumente** hinschreibt. In der Informatik wird das als\n",
    "**Aufruf** einer Funktion bezeichnet. Welche Argumente für eine Funktion\n",
    "verwendet werden dürfen, hängt von der Implementierung der Funktion ab.\n",
    "\n",
    "Beispielsweise kann als Argument für die `len()`-Funktion ein String übergeben\n",
    "werden oder eine Liste."
   ]
  },
  {
   "cell_type": "code",
   "execution_count": null,
   "id": "b1de3ac4",
   "metadata": {},
   "outputs": [],
   "source": [
    "len('Hallo')"
   ]
  },
  {
   "cell_type": "code",
   "execution_count": null,
   "id": "1730578e",
   "metadata": {},
   "outputs": [],
   "source": [
    "len([1,2,3,4,8,2])"
   ]
  },
  {
   "cell_type": "markdown",
   "id": "11b3413b",
   "metadata": {},
   "source": [
    "In der Regel geben Funktionen wieder Ergebnisse zurück. Diese werden\n",
    "**Rückgabewert** genannt. Beispielsweise können die Rückgabewert einer Variable\n",
    "zugewiesen werden, um mit dem Ergebnis weiter zu arbeiten."
   ]
  },
  {
   "cell_type": "code",
   "execution_count": null,
   "id": "063d2644",
   "metadata": {},
   "outputs": [],
   "source": [
    "laenge1 = len('Hallo')\n",
    "laenge2 = len(['Apfel', 'Banane', 'Erdbeere'])\n",
    "\n",
    "if laenge1 < laenge2:\n",
    "    print('Das Wort Hallo enthält weniger Buchstaben als Früchte im Obstsalat.')\n",
    "else:\n",
    "    print('Das Wort Hallo enthält mehr Buchstaben als Einträge in der Liste.')"
   ]
  },
  {
   "cell_type": "markdown",
   "id": "99a9788f",
   "metadata": {},
   "source": [
    "## Definition von einfachen Funktionen\n",
    "\n",
    "Einfache Funktionen werden mit dem Schlüsselwort `def` gefolgt vom\n",
    "Funktionsnamen definiert. In Python verwendet man für Funktionsnamen\n",
    "üblicherweise Kleinbuchstaben und Unterstriche zur Trennung von Wörtern. Die\n",
    "Code-Anweisungen der Funktion werden eingerückt.\n",
    "\n",
    "```python\n",
    "def meine_funktion():\n",
    "    anweisung01\n",
    "    anweisung02\n",
    "     ...\n",
    "\n",
    "```\n",
    "\n",
    "Erstes Beispiel:\n",
    "\n",
    "Die folgende Funktion hat weder Eingabe noch Rückgabe, sondern führt einfach\n",
    "eine Aktion aus."
   ]
  },
  {
   "cell_type": "code",
   "execution_count": null,
   "id": "bfd83c70",
   "metadata": {},
   "outputs": [],
   "source": [
    "def gruesse_ausrichten():\n",
    "    print('Ich grüße Sie!')"
   ]
  },
  {
   "cell_type": "markdown",
   "id": "005c3281",
   "metadata": {},
   "source": [
    "Nachdem die Funktion `gruesse_ausrichten()` so implementiert wurde, können wir\n",
    "sie im Folgenden direkt verwenden."
   ]
  },
  {
   "cell_type": "code",
   "execution_count": null,
   "id": "bf6cf896",
   "metadata": {},
   "outputs": [],
   "source": [
    "gruesse_ausrichten()"
   ]
  },
  {
   "cell_type": "markdown",
   "id": "29a5bf8c",
   "metadata": {},
   "source": [
    "Und natürlich kann man sie in Programmverzweigungen und Schleifen einbauen."
   ]
  },
  {
   "cell_type": "code",
   "execution_count": null,
   "id": "6efe985c",
   "metadata": {},
   "outputs": [],
   "source": [
    "for i in range(7):\n",
    "    gruesse_ausrichten()"
   ]
  },
  {
   "cell_type": "markdown",
   "id": "4928a32b",
   "metadata": {},
   "source": [
    "**Mini-Übung**\n",
    "Schreiben Sie eine Funktion, die mit Turtle ein Rechteck zeichnet. Testen Sie\n",
    "Ihre Funktion auch."
   ]
  },
  {
   "cell_type": "code",
   "execution_count": null,
   "id": "c549990f",
   "metadata": {},
   "outputs": [],
   "source": [
    "# Geben Sie nach diesem Kommentar Ihren Code ein:\n"
   ]
  },
  {
   "cell_type": "markdown",
   "id": "1b00afea",
   "metadata": {},
   "source": [
    "Das folgende Video zeigt Ihnen nochmal, wie in Python Funktionen definiert\n",
    "werden.\n",
    "\n",
    "[https://www.youtube.com/watch?v=LQCfN5HS9xI&embeds_referring_euri=https%3A%2F%2Fgramschs.github.io%2F&source_ve_path=OTY3MTQ&themeRefresh=1](https://www.youtube.com/watch?v=LQCfN5HS9xI&embeds_referring_euri=https%3A%2F%2Fgramschs.github.io%2F&source_ve_path=OTY3MTQ&themeRefresh=1)\n",
    "\n",
    "## Zusammenfassung und Ausblick\n",
    "\n",
    "In diesem Kapitel haben wir einfache Funktionen in Python kennengelernt. Mit dem\n",
    "Schlüsselwort `def` können wir Anweisungen bündeln und über einen Funktionsnamen\n",
    "wiederholt aufrufen. Im nächsten Kapitel erweitern wir unsere Funktionen um\n",
    "Parameter und Rückgabewerte, wodurch sie flexibler und vielseitiger einsetzbar\n",
    "werden."
   ]
  }
 ],
 "metadata": {
  "jupytext": {
   "formats": "ipynb"
  },
  "kernelspec": {
   "display_name": "Python 3 (ipykernel)",
   "language": "python",
   "name": "python3"
  }
 },
 "nbformat": 4,
 "nbformat_minor": 5
}
