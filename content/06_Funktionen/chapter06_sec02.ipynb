{
 "cells": [
  {
   "cell_type": "markdown",
   "id": "b3b69e43",
   "metadata": {},
   "source": [
    "# 6.2 Funktionen mit Parameter und Rückgabe\n",
    "\n",
    "Vorgefertigte Funktionen haben wir schon mit Argument und Rückgabewert\n",
    "aufgerufen. In diesem Kapitel geht es darum, selbst eine Funktion zu\n",
    "implementieren, die Argumente entgegennimmt, diese verarbeitet und dann\n",
    "Rückgabewerte liefert.\n",
    "\n",
    "## Lernziele\n",
    "\n",
    "* Sie können eine Funktion mit Parametern und Rückgabewerten selbst\n",
    "  implementieren.\n",
    "* Sie können zwischen Parametern und Argumenten einer Funktion unterscheiden.\n",
    "\n",
    "## Definition von Funktionen mit Parametern\n",
    "\n",
    "Meistens haben Funktionen Argumente, um Eingaben entgegennehmen und verarbeiten\n",
    "zu können. Das Argument wird bei der Implementierung der Funktion mit einer\n",
    "Variablen eingeführt.\n",
    "\n",
    "Die allgemeine Syntax zur Definition einer eigenen Funktion mit Parametern sieht\n",
    "wie folgt aus:\n",
    "\n",
    "```python\n",
    "def meine_funktion(para1, para2, ..., paran):\n",
    "    anweisung01\n",
    "    anweisung02\n",
    "     ...\n",
    "```\n",
    "\n",
    "Funktionen werden mit dem Schlüsselwort `def` gefolgt vom Funktionsnamen und\n",
    "einer Aufzählung von Parametern in Klammern definiert. Die Code-Anweisungen der\n",
    "Funktion werden eingerückt.\n",
    "\n",
    "Als Beispiel betrachten wir erneut die Funktion, die Grüße ausrichtet. Doch\n",
    "jetzt erweitern wir die Funktion. Die modifizierte Variante soll konkret eine\n",
    "Person grüßen."
   ]
  },
  {
   "cell_type": "code",
   "execution_count": null,
   "id": "836e335e",
   "metadata": {},
   "outputs": [],
   "source": [
    "def gruesse_ausrichten_mit_parameter(name):\n",
    "    print(f'Ich grüße {name}!')"
   ]
  },
  {
   "cell_type": "markdown",
   "id": "684e5d86",
   "metadata": {},
   "source": [
    "Der Aufruf einer Funktion ohne passende Argumente führt nun zu einer\n",
    "Fehlermeldung. Entfernen Sie in der nächsten Code-Zelle das Kommentarzeichen."
   ]
  },
  {
   "cell_type": "code",
   "execution_count": null,
   "id": "1116df00",
   "metadata": {},
   "outputs": [],
   "source": [
    "# gruesse_ausrichten_mit_parameter()"
   ]
  },
  {
   "cell_type": "markdown",
   "id": "68d2a166",
   "metadata": {},
   "source": [
    "Daher müssen wir die modifizierte Funktion nun mit einem Argument aufrufen:"
   ]
  },
  {
   "cell_type": "code",
   "execution_count": null,
   "id": "f17df89c",
   "metadata": {},
   "outputs": [],
   "source": [
    "gruesse_ausrichten_mit_parameter('Anna')"
   ]
  },
  {
   "cell_type": "markdown",
   "id": "ac3709e1",
   "metadata": {},
   "source": [
    "Hinweis: Bei Funktionen unterscheiden wir zwischen einem **Parameter** einer\n",
    "Funktion und einem **Argument**. Die formalen Parameter sind die Variablennamen\n",
    "in der Funktionsdefinition (z.B. `name` in `def\n",
    "gruesse_ausrichten_mit_parameter(name):`). Sie dienen als Platzhalter für die\n",
    "Werte, die beim Funktionsaufruf übergeben werden. Die aktuellen Argumente sind\n",
    "dagegen die konkreten Werte, die beim Aufruf der Funktion übergeben werden (z.B.\n",
    "`'Anna'` in `gruesse_ausrichten_mit_parameter('Anna')`). Der formale Parameter\n",
    "`name` nimmt also beim Funktionsaufruf den Wert des Arguments `'Anna'` an und\n",
    "steht innerhalb der Funktion als Variable zur Verfügung.\n",
    "\n",
    "Die Funktion `gruesse_ausrichten_mit_parameter()` hat aber keinen Rückgabewert.\n",
    "Das können wir wie folgt testen:"
   ]
  },
  {
   "cell_type": "code",
   "execution_count": null,
   "id": "5b66ebd5",
   "metadata": {},
   "outputs": [],
   "source": [
    "x = gruesse_ausrichten_mit_parameter('Alice')\n",
    "type(x)"
   ]
  },
  {
   "cell_type": "markdown",
   "id": "ec565641",
   "metadata": {},
   "source": [
    "`x` ist vom Typ `NoneType`. Das bedeutet, dass in der Variablen `x` der\n",
    "spezielle Python-Wert `None` gespeichert ist. `None` ist ein eigener Datentyp in\n",
    "Python und repräsentiert die Abwesenheit eines Wertes oder ein 'nichts'.\n",
    "Funktionen, die keinen expliziten Rückgabewert mit `return` angeben, geben\n",
    "automatisch `None` zurück.\n",
    "\n",
    "Sind Funktionen ohne Rückgabewert sinnvoll? Ja, denn so können Python-Programme\n",
    "vereinfacht werden. Sollte in einem Programm ein Block von Anweisungen mehrmals\n",
    "ausgeführt werden, lohnt es sich, diesen in eine Funktion auszulagern, um diese\n",
    "einfach aufrufen zu können.\n",
    "\n",
    "**Mini-Übung**\n",
    "Schreiben Sie eine Funktion, die mit Turtle ein Rechteck zeichnet. Die beiden\n",
    "Seitenlängen des Rechtecks sollen als Argumente der Funktion übergeben werden.\n",
    "Testen Sie Ihre Funktion auch."
   ]
  },
  {
   "cell_type": "code",
   "execution_count": null,
   "id": "007e931f",
   "metadata": {},
   "outputs": [],
   "source": [
    "# Geben Sie nach diesem Kommentar Ihren Code ein:\n"
   ]
  },
  {
   "cell_type": "markdown",
   "id": "d93213d4",
   "metadata": {},
   "source": [
    "Das folgende Video fasst Funktionen mit Parametern in Python zusammen.\n",
    "\n",
    "[https://www.youtube.com/watch?v=af9ORp1Pty0](https://www.youtube.com/watch?v=af9ORp1Pty0)\n",
    "\n",
    "## Funktionen mit Parametern und Rückgabewerten\n",
    "\n",
    "In der Regel jedoch haben Funktionen einen Rückgabewert. Die allgemeine Syntax\n",
    "zur Definition einer eigenen Funktion mit Parametern und Rückgabewert sieht wie\n",
    "folgt aus:\n",
    "\n",
    "```python\n",
    "def meine_funktion(para1, para2, ..., paran):\n",
    "    anweisung01\n",
    "    anweisung02\n",
    "     ...\n",
    "\n",
    "    return rueckgabewert1, rueckgabewert2, ...  \n",
    "```\n",
    "\n",
    "An der Definitionszeile ändert sich nichts. Zuerst wird das Schlüsselwort `def`\n",
    "verwendet, dann folgt der Funktionsname und zuletzt werden die Parameter in\n",
    "Klammern aufgelistet. Der Rückgabewert der Funktion wird dann durch das\n",
    "Schlüsselwort `return` im Inneren der Funktion, also im eingerückten Teil\n",
    "definiert. Die Funktion kann einen oder mehrere Rückgabewerte zurückliefern. Bei\n",
    "mehreren Rückgabewerten werden diese einfach durch Komma getrennt.\n",
    "\n",
    "Für Experten:  Bei mehreren Rückgabewerten erzeugt Python intern ein sogenanntes\n",
    "Tupel, das all diese Werte enthält. Daher kann man das Ergebnis einer solchen\n",
    "Funktion auch direkt einer einzelnen Variablen zuweisen und erhält dann ein\n",
    "Tupel, oder man kann die Werte durch Kommas getrennt mehreren Variablen zuweisen\n",
    "(Unpacking).\n",
    "\n",
    "Schauen wir uns ein Beispiel an. Die folgende Funktion nimmt einen Parameter\n",
    "entgegen und gibt einen Rückgabewert zurück."
   ]
  },
  {
   "cell_type": "code",
   "execution_count": null,
   "id": "f6c63e08",
   "metadata": {},
   "outputs": [],
   "source": [
    "def berechne_quadratzahl(zahl):\n",
    "    return zahl * zahl"
   ]
  },
  {
   "cell_type": "markdown",
   "id": "2771868c",
   "metadata": {},
   "source": [
    "Jetzt können wir die Funktion ausprobieren."
   ]
  },
  {
   "cell_type": "code",
   "execution_count": null,
   "id": "58571d53",
   "metadata": {},
   "outputs": [],
   "source": [
    "for x in range(1,11):\n",
    "    y = berechne_quadratzahl(x) \n",
    "    print(f'{x} mal {x} ist {y}')"
   ]
  },
  {
   "cell_type": "markdown",
   "id": "16a8fac7",
   "metadata": {},
   "source": [
    "Als nächstes kommt ein Beispiel mit zwei Rückgabewerten. Nicht nur die\n",
    "Quadratzahl, sondern auch die Kubikzahl soll berechnet werden."
   ]
  },
  {
   "cell_type": "code",
   "execution_count": null,
   "id": "7459923f",
   "metadata": {},
   "outputs": [],
   "source": [
    "def berechne_quadrat_kubik(zahl):\n",
    "    quadrat = zahl**2\n",
    "    kubik = zahl**3\n",
    "    return quadrat, kubik"
   ]
  },
  {
   "cell_type": "markdown",
   "id": "65978476",
   "metadata": {},
   "source": [
    "Und erneut testen wir die Funktion."
   ]
  },
  {
   "cell_type": "code",
   "execution_count": null,
   "id": "b61a0d16",
   "metadata": {},
   "outputs": [],
   "source": [
    "for x in range(1,6):\n",
    "    x_hoch_2, x_hoch_3 = berechne_quadrat_kubik(x)\n",
    "    print(f'x = {x}, x^2 = {x_hoch_2}, x^3 = {x_hoch_3}')"
   ]
  },
  {
   "cell_type": "markdown",
   "id": "faedc78f",
   "metadata": {},
   "source": [
    "Wenn eine Funktion mehrere Werte zurückgibt, haben wir verschiedene\n",
    "Möglichkeiten, diese zu verarbeiten. Meist weisen wir jedem Rückgabewert eine\n",
    "eigene Variable zu, wie in `x_hoch_2, x_hoch_3 = berechne_quadrat_kubik(x)`. Man\n",
    "muss jedoch nicht immer alle Rückgabewerte verwenden. Benötigt man zum Beispiel\n",
    "nur den ersten Rückgabewert, kann man schreiben: `x_hoch_2, _ =\n",
    "berechne_quadrat_kubik(x)`. Der Unterstrich `_` ist eine Konvention in Python,\n",
    "die signalisiert, dass dieser Wert ignoriert wird.\n",
    "\n",
    "Alternativ kann man auch alle Rückgabewerte als Tupel einer einzelnen Variable\n",
    "zuweisen: `ergebnis = berechne_quadrat_kubik(x)`. Dann greift man über den Index\n",
    "auf die einzelnen Werte zu: `ergebnis[0]` für das Quadrat und `ergebnis[1]` für\n",
    "den Kubikwert.\n",
    "\n",
    "**Mini-Übung**\n",
    "Schreiben Sie ein Programm, das mit Turtle ein Rechteck zeichnet, wobei die\n",
    "beiden Seitenlängen als Argumente der Funktion übergeben werden. Die Funktion\n",
    "soll den Umfang des Rechtecks und den Flächeninhalt zurückgeben. Lassen Sie\n",
    "anschließend Umfang und Flächeninhalt ausgeben."
   ]
  },
  {
   "cell_type": "code",
   "execution_count": null,
   "id": "7dc7bb9c",
   "metadata": {},
   "outputs": [],
   "source": [
    "# Geben Sie nach diesem Kommentar Ihren Code ein:\n"
   ]
  },
  {
   "cell_type": "markdown",
   "id": "63c5edb2",
   "metadata": {},
   "source": [
    "Auch zu dem Thema Funktionen mit Rückgabe gibt es ein Video.\n",
    "\n",
    "[https://www.youtube.com/watch?v=ehSP-sYoKCY&t=1s](https://www.youtube.com/watch?v=ehSP-sYoKCY&t=1s)\n",
    "\n",
    "## Zusammenfassung und Ausblick\n",
    "\n",
    "Funktionen mit Parametern und Rückgabewerten ermöglichen flexible Eingaben und\n",
    "die Rückgabe von Ergebnissen, was unsere Programme modular und wiederverwendbar\n",
    "macht. Im nächsten Kapitel lernen wir, wie Variablen unterschiedliche\n",
    "Gültigkeitsbereiche haben können - entweder nur innerhalb einer Funktion (lokal)\n",
    "oder im gesamten Programm (global)."
   ]
  }
 ],
 "metadata": {
  "jupytext": {
   "formats": "ipynb,md:myst"
  },
  "kernelspec": {
   "display_name": "Python 3 (ipykernel)",
   "language": "python",
   "name": "python3"
  }
 },
 "nbformat": 4,
 "nbformat_minor": 5
}
