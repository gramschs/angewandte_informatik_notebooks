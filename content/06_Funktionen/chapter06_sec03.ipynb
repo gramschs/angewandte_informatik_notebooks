{
 "cells": [
  {
   "cell_type": "markdown",
   "id": "bdf432b4",
   "metadata": {},
   "source": [
    "# 6.3 Lokale und globale Variablen\n",
    "\n",
    "In Python gibt es zwei Arten von Variablen: lokale und globale Variablen. Der\n",
    "Unterschied zwischen beiden liegt in ihrem Geltungsbereich (auch \"Scope\"\n",
    "genannt), also wo im Programm sie verwendet werden können. Vor allem bei der\n",
    "Definition von Funktionen ist die Nichtbeachtung des Unterschieds eine häufige\n",
    "Fehlerquelle, weshalb wir in diesem Kapitel den Unterschied beleuchten.\n",
    "\n",
    "## Lernziele\n",
    "\n",
    "* Sie kennen den Unterschied zwischen **lokalen** und **globalen** Variablen.\n",
    "* Sie können erklären, warum die Trennung von lokalen und globalen Variablen\n",
    "  wichtig ist.\n",
    "* Sie wissen, wie Sie Werte aus Funktionen an das Hauptprogramm zurückgeben\n",
    "  können.\n",
    "\n",
    "## Lokale Variablen\n",
    "\n",
    "Schauen Sie sich bitte folgende Funktionsimplementierung an. Was macht die\n",
    "Funktion?"
   ]
  },
  {
   "cell_type": "code",
   "execution_count": null,
   "id": "2b33e1e0",
   "metadata": {},
   "outputs": [],
   "source": [
    "def erhoehe_um_eins(x):\n",
    "    x = x + 1"
   ]
  },
  {
   "cell_type": "markdown",
   "id": "3878304f",
   "metadata": {},
   "source": [
    "Probieren wir es aus."
   ]
  },
  {
   "cell_type": "code",
   "execution_count": null,
   "id": "ad80882e",
   "metadata": {},
   "outputs": [],
   "source": [
    "x = 17\n",
    "\n",
    "print(f'Vor der Anwendung der Funktion ist x = {x}.')\n",
    "erhoehe_um_eins(x)\n",
    "print(f'Nach der Anwendung der Funktion ist x = {x}.')"
   ]
  },
  {
   "cell_type": "markdown",
   "id": "11c49e22",
   "metadata": {},
   "source": [
    "Überraschung! Der Wert von `x` hat sich nicht verändert, obwohl die Funktion\n",
    "offensichtlich `x` um 1 erhöhen sollte. Um besser zu verstehen, was passiert,\n",
    "schauen wir in die Funktion \"hinein\", indem wir einige `print`-Anweisungen\n",
    "hinzufügen:"
   ]
  },
  {
   "cell_type": "code",
   "execution_count": null,
   "id": "584e5376",
   "metadata": {},
   "outputs": [],
   "source": [
    "def erhoehe_um_eins(x):\n",
    "    print(f'Im Inneren der Funktion vor der Erhöhung ist x = {x}.')\n",
    "    x = x + 1\n",
    "    print(f'Im Inneren der Funktion nach der Erhöhung ist x = {x}.') "
   ]
  },
  {
   "cell_type": "markdown",
   "id": "9fd4902e",
   "metadata": {},
   "source": [
    "Jetzt probieren wir nochmal aus, die Funktion auf `x = 17` anzuwenden:"
   ]
  },
  {
   "cell_type": "code",
   "execution_count": null,
   "id": "c028d037",
   "metadata": {},
   "outputs": [],
   "source": [
    "x = 17\n",
    "\n",
    "print(f'Vor der Anwendung der Funktion ist x = {x}.')\n",
    "erhoehe_um_eins(x)\n",
    "print(f'Nach der Anwendung der Funktion ist x = {x}.')"
   ]
  },
  {
   "cell_type": "markdown",
   "id": "dc6426c9",
   "metadata": {},
   "source": [
    "Was ist passiert? Die Variable `x` in der Funktion ist eine **lokale Variable**.\n",
    "Lokale Variablen sind Variablen, die innerhalb einer Funktion definiert werden.\n",
    "Ihr Geltungsbereich ist auf die Funktion beschränkt, in der sie definiert\n",
    "wurden. Das bedeutet, dass sie innerhalb der Funktion verwendet werden können,\n",
    "aber außerhalb der Funktion nicht sichtbar oder zugänglich sind.\n",
    "\n",
    "**Warnung:**\n",
    "Wenn Sie eine Funktion aufrufen und ihr einen Wert übergeben, wird dieser Wert\n",
    "in eine neue, lokale Variable kopiert. Änderungen an dieser lokalen Variable\n",
    "wirken sich nicht auf Variablen außerhalb der Funktion aus, auch wenn diese\n",
    "denselben Namen haben.\n",
    "\n",
    "Es ist Absicht, dass Python strikt darauf achtet, lokale Variablen auf ihren\n",
    "Geltungsbereich zu beschränken. Die Entwickler einer Funktion können vorab nicht\n",
    "wissen, wie alle anderen Variablen im Hauptprogramm heißen. Daher müssen alle\n",
    "Variablen in der Funktion lokal bleiben, um nicht unabsichtlich Variablen, die\n",
    "zufälligerweise den gleichen Namen tragen, zu überschreiben.\n",
    "\n",
    "## Werte aus Funktionen zurückgeben\n",
    "\n",
    "Möchte man erreichen, dass eine Funktion den Wert einer Variable ändert, kann\n",
    "man dies über die Rückgabe und explizite Zuweisung erreichen. Dann ist aber\n",
    "jedem Programmierer und jeder Programmiererin, die diese Funktion benutzt,\n",
    "explizit klar, dass damit der Wert der Variablen geändert wird."
   ]
  },
  {
   "cell_type": "code",
   "execution_count": null,
   "id": "d0fc1691",
   "metadata": {},
   "outputs": [],
   "source": [
    "# modifizierte Funktion mit Rückgabe\n",
    "def erhoehe_um_eins(x):\n",
    "    x = x + 1\n",
    "    return x\n",
    "\n",
    "# Test\n",
    "x = 17\n",
    "\n",
    "print(f'Vor der Anwendung der Funktion ist x = {x}.')\n",
    "x = erhoehe_um_eins(x)\n",
    "print(f'Nach der Anwendung der Funktion ist x = {x}.')"
   ]
  },
  {
   "cell_type": "markdown",
   "id": "17b19e05",
   "metadata": {},
   "source": [
    "Jetzt funktioniert es! Durch die Rückgabe des veränderten Wertes und die\n",
    "Zuweisung an die Variable `x` im Hauptprogramm wird der Wert tatsächlich\n",
    "geändert.\n",
    "\n",
    "## Globale Variablen\n",
    "\n",
    "Globale Variablen sind Variablen, die außerhalb von Funktionen definiert werden.\n",
    "Ihr Geltungsbereich erstreckt sich über das gesamte Programm, was bedeutet, dass\n",
    "sie sowohl innerhalb als auch außerhalb von Funktionen verwendet werden können.\n",
    "\n",
    "In Python ist die Verwendung einer globalen Variable innerhalb einer Funktion\n",
    "standardmäßig nur lesend möglich. Um auch einen Schreibzugriff zu erlauben, gibt\n",
    "es die Möglichkeit, eine Variable mit dem Schlüsselwort `global` innerhalb der\n",
    "Funktion zu deklarieren:"
   ]
  },
  {
   "cell_type": "code",
   "execution_count": null,
   "id": "5dcd8de4",
   "metadata": {},
   "outputs": [],
   "source": [
    "x = 10  # Globale Variable\n",
    "\n",
    "def aendere_global():\n",
    "    global x  # Deklaration, dass wir die globale Variable x verwenden wollen\n",
    "    x = x + 5\n",
    "\n",
    "print(f'Vor der Funktion: x = {x}')\n",
    "aendere_global()\n",
    "print(f'Nach der Funktion: x = {x}')"
   ]
  },
  {
   "cell_type": "markdown",
   "id": "00e59f2d",
   "metadata": {},
   "source": [
    "**Warnung:**\n",
    "Die Verwendung von globalen Variablen wird in der professionellen Programmierung\n",
    "oft vermieden, da sie zu schwer nachvollziehbaren Programmabläufen führen kann.\n",
    "Wenn mehrere Funktionen dieselbe globale Variable verändern, ist es schwierig zu\n",
    "verfolgen, wann und wie Variablen verändert werden. Dies führt zu Programmen,\n",
    "die fehleranfällig und schwer zu warten sind.\n",
    "\n",
    "Verwenden Sie stattdessen Parameter und Rückgabewerte, um Daten zwischen\n",
    "Funktionen und dem Hauptprogramm zu übertragen. Dies macht Ihren Code klarer,\n",
    "nachvollziehbarer und weniger fehleranfällig.\n",
    "\n",
    "Um den Unterschied zwischen lokalen und globalen Variablen zu verdeutlichen,\n",
    "können wir uns den Geltungsbereich wie \"Blasen\" oder \"Räume\" vorstellen.\n",
    "\n",
    "![Skizze globale/lokale Variablen](https://gramschs.github.io/book_python/_images/variable-scope.svg)\n",
    "\n",
    "## Zusammenfassung und Ausblick\n",
    "\n",
    "In diesem Kapitel haben wir den Untrrschied zwischen globalen und lokalen\n",
    "Variablen gelernt. Im nächsten Kapitel widmen wir uns dem Thema digitale Logik."
   ]
  }
 ],
 "metadata": {
  "jupytext": {
   "formats": "ipynb"
  },
  "kernelspec": {
   "display_name": "Python 3 (ipykernel)",
   "language": "python",
   "name": "python3"
  }
 },
 "nbformat": 4,
 "nbformat_minor": 5
}
