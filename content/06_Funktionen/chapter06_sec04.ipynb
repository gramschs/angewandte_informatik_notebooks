{
 "cells": [
  {
   "cell_type": "markdown",
   "id": "9123bb71",
   "metadata": {},
   "source": [
    "# Übungen\n",
    "\n",
    "## Übung 6.1\n",
    "\n",
    "Schreiben Sie eine Funktion, die als Argument einen Integer $n$ übergeben\n",
    "bekommt und danach n-mal das Wort `Hallo` ausdruckt. Testen Sie anschließend\n",
    "Ihre Funktion."
   ]
  },
  {
   "cell_type": "code",
   "execution_count": null,
   "id": "caec5719",
   "metadata": {},
   "outputs": [],
   "source": [
    "# Code-Zelle"
   ]
  },
  {
   "cell_type": "markdown",
   "id": "ecf04c8d",
   "metadata": {},
   "source": [
    "## Übung 6.2\n",
    "\n",
    "Der Body-Maß-Index BMI wird berechnet nach der Formel\n",
    "\n",
    "$$\\text{bmi} = \\frac{m}{l^2},$$\n",
    "\n",
    "wobei $m$ das Gewicht (Masse) in kg ist und $l$ die Körpergröße in m.\n",
    "\n",
    "1. Schreiben Sie eine Funktion, die als Argument Gewicht und Körpergröße\n",
    "entgegennimmt und den BMI zurückgibt.\n",
    "2. Schreiben Sie anschließend ein Hauptprogramm, das eine Benutzerin oder einen\n",
    "Benutzer nach Gewicht und Körpergröße fragt. Dann wird der BMI mittels der\n",
    "Funktion aus Schritt 1 berechnet und zuletzt wird ausgeben:\n",
    "\n",
    "* bei einem BMI < 18.5: Sie haben Untergewicht. Ihr BMI lautet: xx.\n",
    "* bei einem BMI im Intervall [18.5, 25.0]: Sie haben Normalgewicht. Ihr BMI\n",
    "  lautet: xx.\n",
    "* bei einem BMI im Intervall [25.0, 30.0]: Sie haben Übergewicht. Ihr BMI\n",
    "  lautet: xx.\n",
    "* bei einem BMI > 30.0: Sie haben Adipositas. Ihr BMI lautet: xx.\n",
    "\n",
    "xx steht dabei für den ausgerechneten BMI."
   ]
  },
  {
   "cell_type": "code",
   "execution_count": null,
   "id": "5a10d8df",
   "metadata": {},
   "outputs": [],
   "source": [
    "# Code-Zelle"
   ]
  },
  {
   "cell_type": "markdown",
   "id": "70a41127",
   "metadata": {},
   "source": [
    "## Übung 6.3\n",
    "\n",
    "Im Maschinenbau müssen Sie oft mit geometrischen Formen arbeiten. Erstellen Sie\n",
    "eine kleine Funktionsbibliothek zur Berechnung von Flächen und Volumen.\n",
    "\n",
    "1. Schreiben Sie eine Funktion `kreisflaeche(radius)`, die die Fläche eines\n",
    "   Kreises berechnet.\n",
    "2. Schreiben Sie eine Funktion `zylindervolumen(radius, hoehe)`, die das Volumen\n",
    "   eines Zylinders berechnet. Nutzen Sie dabei die erste Funktion!\n",
    "3. Testen Sie beide Funktionen mit unterschiedlichen Werten."
   ]
  },
  {
   "cell_type": "code",
   "execution_count": null,
   "id": "8ef25288",
   "metadata": {},
   "outputs": [],
   "source": [
    "# Code-Zelle"
   ]
  },
  {
   "cell_type": "markdown",
   "id": "6da6d481",
   "metadata": {},
   "source": [
    "## Übung 6.4\n",
    "\n",
    "Im Ingenieurwesen müssen oft Temperaturwerte zwischen verschiedenen Einheiten\n",
    "umgerechnet werden. Die gebräuchlichsten Einheiten sind Celsius (°C), Fahrenheit\n",
    "(°F) und Kelvin (K).\n",
    "\n",
    "Schreiben Sie drei Funktionen:\n",
    "\n",
    "1. `celsius_zu_fahrenheit(celsius)`: Diese Funktion soll einen Temperaturwert in\n",
    "   Celsius als Parameter erhalten und den entsprechenden Wert in Fahrenheit\n",
    "   zurückgeben. Die Formel lautet: F = C · 1.8 + 32\n",
    "\n",
    "2. `fahrenheit_zu_celsius(fahrenheit)`: Diese Funktion soll einen Temperaturwert\n",
    "   in Fahrenheit als Parameter erhalten und den entsprechenden Wert in Celsius\n",
    "   zurückgeben. Die Formel lautet: C = (F - 32) / 1.8\n",
    "\n",
    "3. `celsius_zu_kelvin(celsius)`: Diese Funktion soll einen Temperaturwert in\n",
    "   Celsius als Parameter erhalten und den entsprechenden Wert in Kelvin\n",
    "   zurückgeben. Die Formel lautet: K = C + 273.15\n",
    "\n",
    "Schreiben Sie außerdem ein Hauptprogramm, das:\n",
    "\n",
    "1. Den Benutzer nach einem Temperaturwert in Celsius fragt.\n",
    "2. Diesen Wert in Fahrenheit und Kelvin umrechnet.\n",
    "3. Die umgerechneten Werte ausgibt.\n",
    "4. Den Wert in Fahrenheit wieder zurück in Celsius umrechnet, um die Richtigkeit\n",
    "   der Umrechnung zu überprüfen.\n",
    "\n",
    "Erweitern Sie Ihr Programm um eine Benutzerschnittstelle, die dem Benutzer\n",
    "ermöglicht, die gewünschte Umrechnungsrichtung auszuwählen (z.B. von Celsius\n",
    "nach Fahrenheit oder von Fahrenheit nach Celsius)."
   ]
  },
  {
   "cell_type": "code",
   "execution_count": null,
   "id": "0807ecc8",
   "metadata": {},
   "outputs": [],
   "source": [
    "# Code-Zelle"
   ]
  },
  {
   "cell_type": "markdown",
   "id": "3ac5dea8",
   "metadata": {},
   "source": [
    "## Übung 6.5\n",
    "\n",
    "Lassen Sie einen Tannenbaum als sogenannte ASCII-Art zeichnen. Damit ist\n",
    "gemeint, dass ein Bild durch Zeichen dargestellt wird. In diesem Fall sollen die\n",
    "Blätter durch den Stern `*` dargestellt werden und der Stamm durch drei\n",
    "vertikale Striche `|||`. Das Zeichnen des Tannenbaums soll als Funktion\n",
    "implementiert werden, wobei die Höhe der Blätter und die Höhe des Stammes als\n",
    "Argumente übergeben werden sollen. Die Funktion soll die Gesamthöhe des\n",
    "Tannenbaums zurückgeben.\n",
    "\n",
    "Testen Sie Ihre Funktion. Lassen Sie einen Tannenbaum mit Blätterhöhe 5 und\n",
    "einer Stammhöhe von 3 zeichnen. Darüber hinaus soll ausgegeben werden, wie hoch\n",
    "der Tannenbaum insgesamt ist. Beispielhaft könnte Ihr Test folgende Ausgabe\n",
    "produzieren:\n",
    "\n",
    "```\n",
    "    *\n",
    "   ***\n",
    "  *****\n",
    " *******\n",
    "*********\n",
    "   |||\n",
    "   |||\n",
    "   |||\n",
    "\n",
    "Der Tannenbaum ist insgesamt 8 Zeilen hoch.\n",
    "```"
   ]
  },
  {
   "cell_type": "code",
   "execution_count": null,
   "id": "15a161f4",
   "metadata": {},
   "outputs": [],
   "source": [
    "# Code-Zelle"
   ]
  },
  {
   "cell_type": "markdown",
   "id": "064f6188",
   "metadata": {},
   "source": [
    "## Übung 6.6\n",
    "\n",
    "Schreiben Sie drei Funktionen. Die erste soll mit Hilfe des Turtle-Moduls den\n",
    "Buchstaben `R` zeichnen, die zweite den Buchstaben `O` und die dritte den\n",
    "Buchstaben `T`.\n",
    "\n",
    "Dabei sollen die Funktionen die folgenden Bedingungen erfüllen:\n",
    "\n",
    "1. Jeder Buchstabe soll in einem rechteckigen Rahmen sein, bei dem die untere\n",
    "   linke Ecke auf der Position $(start, 0)$ beginnt. Dabei wird `start` der\n",
    "   Funktion als Argument übergeben. Der Rahmen muss aber nicht gezeichnet\n",
    "   werden.\n",
    "2. Jede Funktion soll auch zurückgeben, wie breit der \"gedachte\" Rahmen ist.\n",
    "3. Innerhalb jeder Funktion soll am Ende der Roboter auf die linke untere Ecke\n",
    "   zurückkehren und it seiner Nase in Richtung Osten zeigen.\n",
    "\n",
    "Testen Sie Ihre Funktion. Lassen Sie zuerst das Wort `ROT` schreiben.\n",
    "Probieren Sie auch `TOR` aus.\n",
    "\n",
    "Tipp: Für R und O dürfen Sie gerne die `circle`-Methode verwenden, siehe\n",
    "[Dokumentation\n",
    "ColabTurtlePlus](https://larryriddle.agnesscott.org/ColabTurtlePlus/documentation2.html).\n",
    "Auch `penup`, `pendown` und `goto` könnten hilfreich sein."
   ]
  },
  {
   "cell_type": "code",
   "execution_count": null,
   "id": "cdbf7a3b",
   "metadata": {},
   "outputs": [],
   "source": [
    "# Code-Zelle"
   ]
  }
 ],
 "metadata": {
  "jupytext": {
   "formats": "ipynb,md:myst"
  },
  "kernelspec": {
   "display_name": "Python 3 (ipykernel)",
   "language": "python",
   "name": "python3"
  }
 },
 "nbformat": 4,
 "nbformat_minor": 5
}
