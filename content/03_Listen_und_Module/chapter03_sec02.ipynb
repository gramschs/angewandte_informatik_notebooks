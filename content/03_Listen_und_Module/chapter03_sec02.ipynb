{
 "cells": [
  {
   "cell_type": "markdown",
   "id": "eeaaed7f",
   "metadata": {},
   "source": [
    "# 3.2 Das Modul NumPy\n",
    "\n",
    "Python kann auch auf schwachbrüstiger Hardware laufen wie beispielsweise auf\n",
    "dem Raspberry Pi. Ein Grund für die Effizienz von Python ist, dass nicht alle\n",
    "möglichen Datentypen, Funktionen und Methoden von Beginn an in den Speicher\n",
    "geladen werden, sondern erst bei Bedarf. Python-Code ist in sogenannte Module\n",
    "unterteilt.\n",
    "\n",
    "In diesem Jupyter Notebook werden wir den Modul-Mechanismus anhand des\n",
    "NumPy-Moduls kennenlernen."
   ]
  },
  {
   "cell_type": "markdown",
   "id": "944852c4",
   "metadata": {},
   "source": [
    "## Lernziele\n",
    "\n",
    "* Sie können erklären, was ein **Modul** in Python ist.\n",
    "* Sie können ein Modul komplett mit **import modul** importieren und auf die\n",
    "  darin enthaltenen Funktionalitäten mit **modul.funktionalitaet** zugreifen.\n",
    "* Sie können mit **from modul import funktionalitaet** einzelne Funktionalitäten\n",
    "  eines Moduls importieren.\n",
    "* Sie kennen das Modul **NumPy**.\n",
    "\n",
    "## Importieren von Modulen\n",
    "\n",
    "Es wäre schön, häufig gebrauchte Zahlen wie die Kreiszahl $\\pi$ oder die\n",
    "Eulersche Zahl $e$ zur Verfügung zu haben. Leider gehören beide nicht zum\n",
    "Python-Kern. Geben Sie einmal den folgenden Code ein:"
   ]
  },
  {
   "cell_type": "code",
   "execution_count": null,
   "id": "a6f11cbb",
   "metadata": {},
   "outputs": [],
   "source": [
    "# Bitte auskommentieren!\n",
    "# print(pi)"
   ]
  },
  {
   "cell_type": "markdown",
   "id": "5a9318a6",
   "metadata": {},
   "source": [
    "Python gibt eine Fehlermeldung aus. Der Fehler lautet \"NameError\". Der\n",
    "Python-Interpreter meldet auch, bei welcher Variable der Namensfehler auftritt,\n",
    "nämlich bei 'pi'.\n",
    "\n",
    "Die fehlende Kreiszahl Pi könnte natürlich zu Beginn eines Programmes eingeführt werden."
   ]
  },
  {
   "cell_type": "code",
   "execution_count": null,
   "id": "633edb31",
   "metadata": {},
   "outputs": [],
   "source": [
    "pi = 3.14\n",
    "print(pi)"
   ]
  },
  {
   "cell_type": "markdown",
   "id": "fb900bb4",
   "metadata": {},
   "source": [
    "Aber es gibt ja noch mehr Funktionalitäten, die im Python-Kern fehlen wie\n",
    "beispielsweise die Sinus-Funktion oder die Wurzel-Funktion.\n",
    "\n",
    "Module sind Python-Programme, die Konstanten oder Anweisungen (Funktionen,\n",
    "Klassen) zur Verfügung stellen und damit den eigentlichen Python-Kern erweitern.\n",
    "Module müssen importiert werden, damit der Python-Interpreter diese erweiterten\n",
    "Funktionalitäten benutzen kann.\n",
    "\n",
    "Es gibt mehrere Anweisungen, ein Modul zu importieren. Als erstes betrachten wir\n",
    "die direkte import-Anweisung und importieren das Mathematik-Modul `numpy`. Das\n",
    "NumPy-Modul ist eine leistungsstarke Bibliothek für numerische Berechnungen in\n",
    "Python, die häufig in wissenschaftlichen und technischen Anwendungen verwendet\n",
    "wird."
   ]
  },
  {
   "cell_type": "code",
   "execution_count": null,
   "id": "45e89484",
   "metadata": {},
   "outputs": [],
   "source": [
    "import numpy"
   ]
  },
  {
   "cell_type": "markdown",
   "id": "d1bf412e",
   "metadata": {},
   "source": [
    "Wird die obige Anweisung `import numpy` ausgeführt, passiert scheinbar nichts.\n",
    "Tatsächlich hat der Python-Interpreter jedoch das Modul geladen. Die Anweisung\n",
    "`dir(numpy)` listet auf, was genau alles importiert wurde."
   ]
  },
  {
   "cell_type": "code",
   "execution_count": null,
   "id": "68dc37c4",
   "metadata": {},
   "outputs": [],
   "source": [
    "dir(numpy)"
   ]
  },
  {
   "cell_type": "markdown",
   "id": "e36a35c4",
   "metadata": {},
   "source": [
    "Offensichtlich gehören sehr viele mathematische Funktionen zum NumPy-Modul, aber\n",
    "auch die beiden Zahlen `pi` und `e` finden wir in der Liste. Dann können wir ja\n",
    "$\\pi$ jetzt direkt ausgeben lassen:"
   ]
  },
  {
   "cell_type": "code",
   "execution_count": null,
   "id": "d4da0625",
   "metadata": {},
   "outputs": [],
   "source": [
    "print(pi)"
   ]
  },
  {
   "cell_type": "markdown",
   "id": "e0adb7b7",
   "metadata": {},
   "source": [
    "Erstaunlich, dass in einem Standard-Modul von Python die Programmier:innen $\\pi$\n",
    "nur mit zwei Nachkommastellen angegeben haben... haben sie auch nicht. Die\n",
    "Variable `pi` wurde von uns selbst mit `pi = 3.14` definiert und ist nicht\n",
    "identisch mit `pi` aus dem NumPy-Modul. Die Kreiszahl aus dem NumPy-Modul heißt\n",
    "nämlich `numpy.pi`."
   ]
  },
  {
   "cell_type": "code",
   "execution_count": null,
   "id": "383de240",
   "metadata": {},
   "outputs": [],
   "source": [
    "print(numpy.pi)"
   ]
  },
  {
   "cell_type": "markdown",
   "id": "eaaf3c33",
   "metadata": {},
   "source": [
    "Um Konstanten, Datentypen oder Funktionen eines Moduls zu nutzen, wird der\n",
    "Modulname vorangestellt und erneut der Punkt benutzt. Probieren Sie es in der\n",
    "nächsten Mini-Übung aus."
   ]
  },
  {
   "cell_type": "markdown",
   "id": "aff807c3",
   "metadata": {},
   "source": [
    "**Mini-Übung**\n",
    "\n",
    "Weisen Sie der Variablen x den Wert $\\pi$ zu. Lassen Sie dann $y = \\sin(x)$\n",
    "berechnen und ausgeben."
   ]
  },
  {
   "cell_type": "code",
   "execution_count": null,
   "id": "7bb92b30",
   "metadata": {},
   "outputs": [],
   "source": [
    "# Hier Ihr Code"
   ]
  },
  {
   "cell_type": "markdown",
   "id": "f7ebd8e4",
   "metadata": {},
   "source": [
    "## Importieren von einzelnen Funktionen oder Klassen\n",
    "\n",
    "Wenn nur die Kreiszahl $\\pi$ gebraucht wird, ist der komplette Import des\n",
    "NumPy-Modules eine Verschwendung von Ressourcen. Auch kann es lästig sein, immer\n",
    "`numpy.` vor pi zu setzen. Eine zweite Möglichkeit, Funktionalitäten eines\n",
    "Moduls zu importieren, ist die Alternative\n",
    "\n",
    "```python\n",
    "from modulname import etwas1, etwas2\n",
    "```\n",
    "\n",
    "$\\pi$ und die Sinus-Funktion werden dann folgendermaßen importiert:"
   ]
  },
  {
   "cell_type": "code",
   "execution_count": null,
   "id": "4f294d23",
   "metadata": {},
   "outputs": [],
   "source": [
    "from numpy import pi, sin"
   ]
  },
  {
   "cell_type": "markdown",
   "id": "3916ca51",
   "metadata": {},
   "source": [
    "Jetzt können `pi` und `sin` direkt benutzt werden, ohne `numpy.` davor zu\n",
    "schreiben."
   ]
  },
  {
   "cell_type": "code",
   "execution_count": null,
   "id": "00215b09",
   "metadata": {},
   "outputs": [],
   "source": [
    "print(pi)\n",
    "print(sin(0))"
   ]
  },
  {
   "cell_type": "markdown",
   "id": "896a72f3",
   "metadata": {},
   "source": [
    "**Mini-Übung**\n",
    "\n",
    "Importieren Sie die Wurzel-Funktion sqrt() direkt aus NumPy. Berechnen Sie dann\n",
    "$\\sqrt{49}$ und $\\sqrt{2}$ und lassen Sie das Ergebnis jeweils ausgeben."
   ]
  },
  {
   "cell_type": "code",
   "execution_count": null,
   "id": "665df337",
   "metadata": {},
   "outputs": [],
   "source": [
    "# Hier Ihr Code"
   ]
  },
  {
   "cell_type": "markdown",
   "id": "221fb803",
   "metadata": {},
   "source": [
    "## Importieren von Modulen mit Alias\n",
    "\n",
    "Es ist üblich, Module mit einem kürzeren Alias zu importieren, um den Code\n",
    "lesbarer zu gestalten und weniger tippen zu müssen. Im Fall von NumPy wird\n",
    "häufig der Alias `np` verwendet:"
   ]
  },
  {
   "cell_type": "code",
   "execution_count": null,
   "id": "0b78f492",
   "metadata": {},
   "outputs": [],
   "source": [
    "import numpy as np"
   ]
  },
  {
   "cell_type": "markdown",
   "id": "b587437d",
   "metadata": {},
   "source": [
    "Nachdem wir das Modul mit einem Alias importiert haben, verwenden wir diesen\n",
    "Alias, um auf die Funktionen und Klassen des Moduls zuzugreifen:"
   ]
  },
  {
   "cell_type": "code",
   "execution_count": null,
   "id": "d6270d49",
   "metadata": {},
   "outputs": [],
   "source": [
    "x = np.pi\n",
    "print(x)"
   ]
  },
  {
   "cell_type": "markdown",
   "id": "d340767f",
   "metadata": {},
   "source": [
    "**Mini-Übung**\n",
    "\n",
    "Importieren Sie das `math`-Modul mit dem Alias `m` und lassen Sie die Kreiszahl\n",
    "$\\pi$ ausgeben. Bilden Sie dann die Differenz aus der Kreiszahl des math-Moduls\n",
    "und der Kreiszahl des NumPy-Moduls.\n",
    "\n",
    "Gibt es einen Unterschied zwischen den beiden Zahlen?"
   ]
  },
  {
   "cell_type": "code",
   "execution_count": null,
   "id": "35b14535",
   "metadata": {},
   "outputs": [],
   "source": [
    "# Hier Ihr Code"
   ]
  },
  {
   "cell_type": "markdown",
   "id": "050b71c4",
   "metadata": {},
   "source": [
    "Das math-Modul stellt ebenfalls mathematische Konstanten und Funktionen zur\n",
    "Verfügung, ist aber weniger umfangreich. Daher verwenden wir in dieser Vorlesung\n",
    "NumPy.\n",
    "\n",
    "## Zusammenfassung und Ausblick\n",
    "\n",
    "In diesem Kapitel haben wir den Modul-Mechanismus in Python untersucht und das\n",
    "NumPy-Modul als Beispiel verwendet. Wir haben gelernt, wie man Module\n",
    "importiert, spezifische Funktionen und Klassen aus einem Modul importiert und\n",
    "Module mit einem Alias importiert. Durch das Verständnis dieser Konzepte können\n",
    "Sie Ihren Python-Code besser organisieren und die Wiederverwendbarkeit von Code\n",
    "verbessern. Im nächsten Kapitel werden wir ein weiteres Modul kennenlernen."
   ]
  }
 ],
 "metadata": {
  "jupytext": {
   "formats": "ipynb"
  },
  "kernelspec": {
   "display_name": "turtle",
   "language": "python",
   "name": "python3"
  }
 },
 "nbformat": 4,
 "nbformat_minor": 5
}
