{
 "cells": [
  {
   "cell_type": "markdown",
   "id": "0eed7ba7",
   "metadata": {},
   "source": [
    "# 3.1 Listen\n",
    "\n",
    "Bisher haben wir drei verschiedene Datentypen kennengelernt:\n",
    "\n",
    "* Integer (ganze Zahlen),\n",
    "* Float (Fließkommazahlen) und\n",
    "* String (Zeichenketten).\n",
    "\n",
    "Damit können wir einzelne Objekte der realen Welt gut abbilden. Mit einem String\n",
    "können wir den Namen einer Person erfassen, mit einem Integer das Alter der\n",
    "Person und mit einem Float die Körpergröße der Person gemessen in Meter. Was uns\n",
    "aber bisher fehlt ist, eine Sammlung von Namen oder eine Sammlung von\n",
    "Körpergrößen verwalten zu können. Daher werden wir uns in diesem Jupyter\n",
    "Notebook mit Listen beschäftigen.\n",
    "\n",
    "## Lernziele\n",
    "\n",
    "* Sie wissen, dass **Container** Datentypen sind, die andere Objekte als Sammlung verwalten.\n",
    "* Sie können eine **Liste** erzeugen.\n",
    "* Sie wissen, was der Fachbegriff **Index** bedeutet.\n",
    "* Sie können lesend und schreibend auf die Elemente einer Liste zugreifen,\n",
    "  beherrschen also\n",
    "  * **Lesezugriff** und\n",
    "  * **Schreibzugriff**.\n",
    "* Sie können mit dem Plus-Operator + Listen **verketten**.\n",
    "* Sie können Elemente aus einer Liste löschen:\n",
    "  * Löschung per Index: Funktion **del**\n",
    "  * Löschung nach Wert: Methode **remove**\n",
    "\n",
    "## Container für Sammlungen\n",
    "\n",
    "In der Mathematik gibt es den Begriff des Vektors. Einen Vektor kann man als\n",
    "eine Sammlung von Zahlen interpretieren. Dabei müssen Vektoren nicht immer eine\n",
    "geometrische Interpretation haben. Beispielsweise steht der Vektor\n",
    "\n",
    "(116, 144, 199)\n",
    "\n",
    "für ein sehr schönes Blau, wenn die drei Komponenten als die Intensität der\n",
    "Farbanteile Rot - Grün - Blau interpretiert werden. Diese Art Farben zu\n",
    "beschreiben, wird RGB-Wert genannt (siehe auch [Wikipedia →\n",
    "RGB-Farbraum](https://de.wikipedia.org/wiki/RGB-Farbraum)). Die Internetseite\n",
    "[https://www.color-hex.com](https://www.color-hex.com/) ermöglicht es, die\n",
    "RGB-Werte verschiedener Farbtöne zu ermitteln.\n",
    "\n",
    "Wir könnten aber auch eine Namensliste mit den Mitgliedern einer WG führen\n",
    "wollen, z.B. [“Alice”, “Bob”, “Charlie”]. Damit verlassen wir die mathematische\n",
    "Welt der Zahlen und damit des Vektors. Aber auch für diese Anwendungsszenarien\n",
    "wäre es schön, Daten gemeinsam zu sammeln und zu verwalten.\n",
    "\n",
    "Der Fachbegriff für Datentypen, die dafür gedacht sind, Daten als Sammlung zu\n",
    "verwalten, ist **Container**. In Python gibt es verschiedene Container:\n",
    "\n",
    "* Listen: list\n",
    "* Tupel: tuple\n",
    "* Dictionaries: dict\n",
    "* Mengen: set\n",
    "\n",
    "Wir behandeln in diesem Abschnitt die Listen."
   ]
  },
  {
   "cell_type": "markdown",
   "id": "17fcfda3",
   "metadata": {},
   "source": [
    "## Listen erzeugen mit []\n",
    "\n",
    "Eine Liste wird in Python durch eckige Klammern [  ] erzeugt.\n",
    "\n",
    "Betrachten wir ein Beispiel. Hier wird eine Liste mit den Elementen 1, 2, 3, 4,\n",
    "5 erzeugt und dann anschließend in der Variablen `liste_beispiel` gespeichert.\n",
    "Mit der Funktion `print()` lassen wir den Inhalt der Liste ausgeben."
   ]
  },
  {
   "cell_type": "code",
   "execution_count": null,
   "id": "81ff5187",
   "metadata": {},
   "outputs": [],
   "source": [
    "liste_beispiel = [1, 2, 3, 4, 5]\n",
    "print(liste_beispiel)"
   ]
  },
  {
   "cell_type": "markdown",
   "id": "20b60b89",
   "metadata": {},
   "source": [
    "Probieren Sie in der nächsten Mini-Übung selbst aus, wie eine Liste erzeugt\n",
    "wird."
   ]
  },
  {
   "cell_type": "markdown",
   "id": "76feaf41",
   "metadata": {},
   "source": [
    "**Mini-Übung**\n",
    "\n",
    "Erzeugen Sie eine Liste mit Ihrem Vornamen, Ihrem Nachnamen und Ihrer Körpergröße in m. Welche Datentypen brauchen Sie für diese drei Objekte? Lassen Sie Ihre Liste auch ausgeben."
   ]
  },
  {
   "cell_type": "code",
   "execution_count": null,
   "id": "071904a6",
   "metadata": {},
   "outputs": [],
   "source": [
    "# Hier Ihr Code"
   ]
  },
  {
   "cell_type": "markdown",
   "id": "900b1ea8",
   "metadata": {},
   "source": [
    "Im folgenden Video können Sie sich die Erzeugung von Listen nochmal ansehen.\n",
    "\n",
    "[https://www.youtube.com/watch?v=ihF8bZoauBs](https://www.youtube.com/watch?v=ihF8bZoauBs)\n",
    "\n",
    "## Elemente aus einer Liste herausholen: Zugriff\n",
    "\n",
    "Jede Liste hat einen Index. Man kann sich eine Liste wie eine Straße mit einer\n",
    "Sammlung von Häusern vorstellen. Um ein Haus in der Straße zu finden, hat es\n",
    "eine Hausnummer. Und das ist in der Informatik der **Index**, also die Position\n",
    "in der Liste, an der ein Element zu finden ist.\n",
    "\n",
    "In jeder Programmiersprache gibt es Container mit einem Index, wobei der Index\n",
    "in der Regel durch Integer repräsentiert wird. Allerdings gibt es Unterschiede,\n",
    "bei welcher Zahl die Nummerierung beginnt. **Python fängt mit der Null an.**\n",
    "Dann können wir mit dem Index sozusagen nachsehen, welches Element an dieser\n",
    "Index-Position gespeichert ist. Das nennt man in der Informatik **Lesezugriff**.\n",
    "Oder wir können das Element an einer bestimmten Index-Position gegen ein neues\n",
    "Element austauschen. Das nennt man dann **Schreibzugriff**.\n",
    "\n",
    "Um auf ein Element einer Liste zugreifen zu können (egal ob lesend oder\n",
    "schreibend), verwenden wir eckige Klammern und den Index. Der Lesezugriff für\n",
    "das erste Element sieht biepielsweise so aus:"
   ]
  },
  {
   "cell_type": "code",
   "execution_count": null,
   "id": "7667a420",
   "metadata": {},
   "outputs": [],
   "source": [
    "# Erzeugung einer Liste\n",
    "meine_liste = ['rot', 'grün', 'blau', 'gelb', 'weiß', 'schwarz']\n",
    "\n",
    "# Lesezugriff mit Position 1, also Index 0\n",
    "erstes_objekt = meine_liste[0]\n",
    "print(erstes_objekt)"
   ]
  },
  {
   "cell_type": "markdown",
   "id": "03349cce",
   "metadata": {},
   "source": [
    "In der nächsten Mini-Übung wird der Lesezugriff genutzt, um ein Element in einer\n",
    "neuen Variable zu speichern.\n",
    "\n",
    "**Mini-Übung**\n",
    "\n",
    "Speichern Sie das 4. Element der Liste `meine_liste = ['rot', 'grün', 'blau', 'gelb', 'weiß', 'schwarz']` in der Variable `vier` ab und lassen Sie es ausgeben."
   ]
  },
  {
   "cell_type": "code",
   "execution_count": null,
   "id": "464a4008",
   "metadata": {},
   "outputs": [],
   "source": [
    "# Hier Ihr Code"
   ]
  },
  {
   "cell_type": "markdown",
   "id": "cb18d355",
   "metadata": {},
   "source": [
    "Der Schreibzugriff erfolgt ebenfalls mit eckigen Klammern und dem Index.\n",
    "\n",
    "Im folgenden Code sehen Sie, wie in der Liste die Farbe weiß durch lila ersetzt wird."
   ]
  },
  {
   "cell_type": "code",
   "execution_count": null,
   "id": "905809c4",
   "metadata": {},
   "outputs": [],
   "source": [
    "# Erzeugung Liste\n",
    "meine_liste = ['rot', 'grün', 'blau', 'gelb', 'weiß', 'schwarz']\n",
    "\n",
    "# Schreibzugriff\n",
    "meine_liste[4] = 'lila'\n",
    "print(meine_liste)"
   ]
  },
  {
   "cell_type": "markdown",
   "id": "b46433b4",
   "metadata": {},
   "source": [
    "Der Zugriff auf Listen wird auch in dem folgenden Video erklärt.\n",
    "\n",
    "[https://www.youtube.com/watch?v=_XzWPXvya2w](https://www.youtube.com/watch?v=_XzWPXvya2w)\n",
    "\n",
    "## Liste + Liste = verkettete Liste\n",
    "\n",
    "Auch wenn es im ersten Moment verrückt erscheint, Python kann Listen addieren.\n",
    "Am besten schauen wir uns ein Beispiel an:"
   ]
  },
  {
   "cell_type": "code",
   "execution_count": null,
   "id": "f07183dd",
   "metadata": {},
   "outputs": [],
   "source": [
    "liste_de = ['rot', 'grün', 'blau']\n",
    "liste_en = ['red', 'green', 'blue']\n",
    "\n",
    "# Verkettung zweier Listen durch +\n",
    "liste_de_en = liste_de + liste_en\n",
    "print(liste_de_en)"
   ]
  },
  {
   "cell_type": "markdown",
   "id": "82905b71",
   "metadata": {},
   "source": [
    "Das Aneinanderhängen von Elementen zweier Container nennen wir in der Informatik\n",
    "**Verkettung**. Oft wird auch der englische Begriff **Concatenation** verwendet.\n",
    "\n",
    "In der folgenden Mini-Übung können Sie die Verkettung ausprobieren."
   ]
  },
  {
   "cell_type": "markdown",
   "id": "f7e25533",
   "metadata": {},
   "source": [
    "**Mini-Übung**\n",
    "\n",
    "Erzeugen Sie eine Liste mit den Monaten März, April und Mai und speichern Sie\n",
    "diese Liste in der Variable `fruehling`. Erzeugen Sie anschließend die Listen\n",
    "`sommer`, `herbst` und `winter` mit den jeweils passenden Monaten. Verketten Sie\n",
    "die vier Listen und speichern Sie in der Variable `jahr` ab. Lassen Sie zuletzt das \n",
    "Jahr anzeigen.\n",
    "\n",
    "Welchen Index hat Ihr Geburtsmonat in der Liste `jahr`?"
   ]
  },
  {
   "cell_type": "code",
   "execution_count": null,
   "id": "88d484ea",
   "metadata": {},
   "outputs": [],
   "source": [
    "# Hier Ihr Code"
   ]
  },
  {
   "cell_type": "markdown",
   "id": "ec806c94",
   "metadata": {},
   "source": [
    "## Wie lang ist eine Liste?\n",
    "\n",
    "Manchmal möchte man wissen, wie viele Elemente in einer Liste enthalten sind.\n",
    "Dafür gibt es in Python die eingebaute Funktion `len()` – kurz für length, also\n",
    "Länge."
   ]
  },
  {
   "cell_type": "code",
   "execution_count": null,
   "id": "91093dc1",
   "metadata": {},
   "outputs": [],
   "source": [
    "farben = ['rot', 'grün', 'blau']\n",
    "anzahl_farben = len(farben)\n",
    "print(anzahl_farben)"
   ]
  },
  {
   "cell_type": "markdown",
   "id": "6254e704",
   "metadata": {},
   "source": [
    "In diesem Beispiel enthält die Liste `farben` drei Elemente, daher gibt\n",
    "`len(farben)` den Wert 3 zurück.\n",
    "\n",
    "Diese Funktion ist besonders nützlich, wenn man mit Listen arbeitet, deren Länge\n",
    "sich verändert, zum Beispiel, wenn Einträge hinzugefügt oder gelöscht werden.\n",
    "\n",
    "**Mini-Übung**\n",
    "\n",
    "Erzeugen Sie eine Liste mit Ihren drei Lieblingsgerichten. Verwenden Sie\n",
    "`len()`, um die Länge der Liste zu bestimmen, und geben Sie sie aus."
   ]
  },
  {
   "cell_type": "code",
   "execution_count": null,
   "id": "a68cabfe",
   "metadata": {},
   "outputs": [],
   "source": [
    "# Hier Ihr Code."
   ]
  },
  {
   "cell_type": "markdown",
   "id": "2a96be4c",
   "metadata": {},
   "source": [
    "## Elemente löschen mit del und remove\n",
    "\n",
    "Die Verkettung der Listen führt dazu, dass die Listen länger werden. Die\n",
    "Umkehrung davon fehlt noch, das Kürzen von Listen. Wie so oft in Python gibt es\n",
    "mehrere Möglichkeiten, ein Element aus einer Liste zu entfernen, also zu\n",
    "löschen. Die Anweisung `del` löscht das Element an einer bestimmten Position.\n",
    "Zuerst kommt die Anweisung, dann das Listenelement mit Index:"
   ]
  },
  {
   "cell_type": "code",
   "execution_count": null,
   "id": "e27e772a",
   "metadata": {},
   "outputs": [],
   "source": [
    "meine_liste = ['Null', 'Eins', 'Zwei', 'Drei', 'Vier', 'Fünf']\n",
    "print('Vor dem Löschen: ')\n",
    "print(meine_liste)\n",
    "\n",
    "del meine_liste[2]\n",
    "print('Nach dem Löschen')\n",
    "print(meine_liste)"
   ]
  },
  {
   "cell_type": "markdown",
   "id": "856739c8",
   "metadata": {},
   "source": [
    "Wie Sie sehen ist das dritte Element in der Liste gelöscht worden, da die\n",
    "Nummerierung des Index bei 0 startet."
   ]
  },
  {
   "cell_type": "markdown",
   "id": "35e335ab",
   "metadata": {},
   "source": [
    "Vielleicht möchte man aber gar nicht ein Element an einer bestimmten Position\n",
    "löschen, sondern einen bestimmten Eintrag. Das folgende Beispiel implementiert\n",
    "eine Einkaufsliste in Python. Sobald ein Lebensmittel gekauft ist, soll es von\n",
    "der Liste gestrichen werden."
   ]
  },
  {
   "cell_type": "code",
   "execution_count": null,
   "id": "f8721baa",
   "metadata": {},
   "outputs": [],
   "source": [
    "einkaufsliste = ['Milch', 'Kaffee', 'Brötchen', 'Marmelade']\n",
    "\n",
    "print('Einkaufsliste: ')\n",
    "print(einkaufsliste)\n",
    "\n",
    "einkaufsliste.remove('Brötchen')\n",
    "print('Nach dem Einkauf in der Bäckerei: ')\n",
    "print(einkaufsliste)\n",
    "\n",
    "einkaufsliste.remove('Milch')\n",
    "einkaufsliste.remove('Kaffee')\n",
    "einkaufsliste.remove('Marmelade')\n",
    "print('Nach dem Einkauf im Supermarkt: ')\n",
    "print(einkaufsliste)"
   ]
  },
  {
   "cell_type": "markdown",
   "id": "fa288eeb",
   "metadata": {},
   "source": [
    "Die Vorgehensweise, um das Element `Milch` zu löschen, ist diesmal komplett\n",
    "anders. Diesmal hängen wir an die Variable `einkaufsliste` einen Punkt und dann\n",
    "den Namen des Kommandos `remove()`. Wieso das?\n",
    "\n",
    "Das Kommando `del` ist so wichtig und universell, dass es mit allen Containern\n",
    "funktioniert. Daher ist dieser Befehl als eine sogenannte **Funktion** im\n",
    "Python-Kern implementiert. Das Kommando `remove()` bezieht sich jedoch nur auf\n",
    "die Liste. Daher ist dieser Befehl als eine sogenannte **Methode**\n",
    "implementiert. Eine Methode ist eine Funktion, die zu einem Datentyp dazugehört.\n",
    "\n",
    "In späteren Kapiteln werden wir selbst Funktionen und Methoden\n",
    "(Objektorientierung) implementieren und auf die Unterschiede detaillierter\n",
    "eingehen. Im Moment begnügen wir uns mit der Tatsache, dass es Funktionen wie\n",
    "\n",
    "* input()\n",
    "* print()\n",
    "* del()\n",
    "\n",
    "gibt und Methoden, die mit einem Punkt an das Objekt angehängt werden wie z.B.\n",
    "`.remove()`.\n",
    "\n",
    "## Zusammenfassung und Ausblick\n",
    "\n",
    "In diesem Kapitel haben wir gelernt, wie man mit Listen mehrere Werte in Python\n",
    "strukturiert speichern kann. Wir wissen nun, wie Listen erstellt, gelesen,\n",
    "verändert, verkettet und verkürzt werden. Außerdem kennen wir mit `len()` eine\n",
    "einfache Möglichkeit, die Länge einer Liste zu bestimmen. Diese Konzepte bilden\n",
    "die Grundlage für viele weiterführende Themen wie Schleifen und Interaktionen,\n",
    "die in späteren Kapiteln behandelt werden."
   ]
  }
 ],
 "metadata": {
  "jupytext": {
   "formats": "ipynb"
  },
  "kernelspec": {
   "display_name": "turtle",
   "language": "python",
   "name": "python3"
  }
 },
 "nbformat": 4,
 "nbformat_minor": 5
}
