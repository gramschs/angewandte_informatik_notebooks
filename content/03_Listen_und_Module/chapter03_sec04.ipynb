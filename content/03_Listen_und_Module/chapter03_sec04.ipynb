{
 "cells": [
  {
   "cell_type": "markdown",
   "id": "a04802c3",
   "metadata": {},
   "source": [
    "# Übungen\n",
    "\n",
    "## Übung 3.1\n",
    "\n",
    "1. Erstellen Sie eine Liste mit den ersten drei Fußballvereinen der aktuellen\n",
    "   Bundesligatabelle.\n",
    "2. Erstellen Sie eine Liste, die die folgenden aktuellen Daten von Eintracht\n",
    "   Frankfurt enthält:\n",
    "   * Anzahl Spieltage\n",
    "   * Anzahl Siege\n",
    "   * Anzahl Unentschieden\n",
    "   * Anzahl Niederlagen\n",
    "   * Torverhältnis (also z.B. 55:31)\n",
    "   * Tordifferenz\n",
    "   * Punkte\n",
    "3. Lassen Sie beide Listen ausgeben.\n",
    "4. Lassen Sie die aktuellen Punkte von Eintracht Frankfurt ausgeben."
   ]
  },
  {
   "cell_type": "code",
   "execution_count": null,
   "id": "e3629db4",
   "metadata": {},
   "outputs": [],
   "source": [
    "#"
   ]
  },
  {
   "cell_type": "markdown",
   "id": "e68184ee",
   "metadata": {},
   "source": [
    "## Übung 3.2\n",
    "\n",
    "Schreiben Sie ein Programm, das den Benutzer zwei Seitenlängen für die beiden\n",
    "Katheten $a$ und $b$ eines rechtwinkligen Dreiecks eingeben lässt. Anschließend\n",
    "berechnet das Programm die Länge der Hypotenuse $c$ und gibt diese aus.\n",
    "\n",
    "Bemerkung: Was passiert, wenn Sie eine negative Zahl eingeben?"
   ]
  },
  {
   "cell_type": "code",
   "execution_count": null,
   "id": "39924b7d",
   "metadata": {},
   "outputs": [],
   "source": [
    "#"
   ]
  },
  {
   "cell_type": "markdown",
   "id": "8fa2401a",
   "metadata": {},
   "source": [
    "## Übung 3.3\n",
    "\n",
    "Schreiben Sie ein Programm, das den Benutzer nach seinem Gewicht in Kilogramm\n",
    "und seiner Größe in Metern fragt. Danach soll das Programm Body-Mass-Index (BMI)\n",
    "berechnen und ausgeben. Der BMI berechnet sich mit der Formel\n",
    "\n",
    "$$\\text{BMI} = \\frac{m}{l^2},$$\n",
    "\n",
    "wobei $m$ für das Körpergewicht in kg und $l$ für die Körpergröße in m steht.\n",
    "\n",
    "Welchen BMI haben Sie?"
   ]
  },
  {
   "cell_type": "code",
   "execution_count": null,
   "id": "2a1d541d",
   "metadata": {},
   "outputs": [],
   "source": [
    "#"
   ]
  },
  {
   "cell_type": "markdown",
   "id": "75f59883",
   "metadata": {},
   "source": [
    "## Übung 3.4\n",
    "\n",
    "Schreiben Sie ein Programm, das mit dem Turtle-Modul ein Quadrat zeichnet. Zuerst\n",
    "soll vom Benutzer abgefragt werden, welche Seitenlänge in Pixel das Quadrat\n",
    "haben soll. Dann soll abgefragt werden, welche Farbe die Seiten haben sollen.\n",
    "Mit diesen Angaben soll dann das Quadrat gezeichnet werden."
   ]
  },
  {
   "cell_type": "code",
   "execution_count": null,
   "id": "59d9eb7e",
   "metadata": {},
   "outputs": [],
   "source": [
    "#"
   ]
  },
  {
   "cell_type": "markdown",
   "id": "03e55c7c",
   "metadata": {},
   "source": [
    "## Übung 3.5\n",
    "\n",
    "Lassen Sie Turtle das Haus vom Nikolaus zeichnen. Das Haus vom Nikolaus sieht folgendermaßen aus:\n",
    "![Haus vom Nikolaus](https://gramschs.github.io/book_python/_images/haus_nikolaus.svg)"
   ]
  },
  {
   "cell_type": "code",
   "execution_count": null,
   "id": "08fbc0e5",
   "metadata": {},
   "outputs": [],
   "source": [
    "#"
   ]
  }
 ],
 "metadata": {
  "jupytext": {
   "formats": "ipynb,md:myst"
  },
  "kernelspec": {
   "display_name": "Python 3 (ipykernel)",
   "language": "python",
   "name": "python3"
  }
 },
 "nbformat": 4,
 "nbformat_minor": 5
}
