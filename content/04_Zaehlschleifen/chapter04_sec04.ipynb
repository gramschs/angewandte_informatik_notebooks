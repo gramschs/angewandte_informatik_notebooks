{
 "cells": [
  {
   "cell_type": "markdown",
   "id": "87f7149a",
   "metadata": {},
   "source": [
    "# Übungen\n",
    "\n",
    "## Übung 4.1\n",
    "\n",
    "Schreiben Sie ein Programm, das den folgenden Text ausgibt:\n",
    "\n",
    "Januar ist der 1. Monat im Jahr. <br>\n",
    "Februar ist der 2. Monat im Jahr. <br>\n",
    "...<br>\n",
    "\n",
    "Verwenden Sie dazu eine Liste der Monate und eine for-Schleife."
   ]
  },
  {
   "cell_type": "code",
   "execution_count": null,
   "id": "46c3b0dc-5cd9-4c00-88c1-5b3cfe689855",
   "metadata": {},
   "outputs": [],
   "source": [
    "#"
   ]
  },
  {
   "cell_type": "markdown",
   "id": "f07f5604-4a19-4676-b645-f7e2f4ab0f9f",
   "metadata": {},
   "source": [
    "## Übung 4.2\n",
    "\n",
    "Verwenden Sie das Turtle-Modul, um ein Quadrat zu zeichnen. Verwenden Sie dabei eine for-Schleife."
   ]
  },
  {
   "cell_type": "code",
   "execution_count": null,
   "id": "e3558b4d-5521-4206-9eaf-233cf978e13a",
   "metadata": {},
   "outputs": [],
   "source": [
    "#"
   ]
  },
  {
   "cell_type": "markdown",
   "id": "cbdf5ffb-e6c8-44be-9539-31888d257786",
   "metadata": {},
   "source": [
    "## Übung 4.3\n",
    "\n",
    "Verwenden Sie das Turtle-Modul und eine for-Schleife, um ein n-Eck zeichnen zu lassen. Dabei soll die Anzahl der Seiten zuvor vom Benutzer abgefragt werden. Testen Sie anschließend ein Dreieck und ein Siebeneck."
   ]
  },
  {
   "cell_type": "code",
   "execution_count": null,
   "id": "3af26fc2-ad24-4d07-b334-772541e0b11e",
   "metadata": {},
   "outputs": [],
   "source": [
    "#"
   ]
  },
  {
   "cell_type": "markdown",
   "id": "13771446-38e7-4265-a719-7baceddd1a8a",
   "metadata": {},
   "source": [
    "## Übung 4.4\n",
    "\n",
    "Schreiben Sie ein Programm, das den Benutzer nach 5 Zahlen fragt und diese in einer Liste speichert. Anschließend soll das Programm die Summe der Zahlen in der Liste mithilfe einer for-Schleife berechnen und ausgeben."
   ]
  },
  {
   "cell_type": "code",
   "execution_count": null,
   "id": "3bf6b1c3-0134-492c-ab4a-abe3c9506cb0",
   "metadata": {},
   "outputs": [],
   "source": [
    "#"
   ]
  },
  {
   "cell_type": "markdown",
   "id": "3daeb54c-ac68-4f2a-b149-bb1efcbcd6e6",
   "metadata": {},
   "source": [
    "## Übung 4.5\n",
    "\n",
    "In der Mathematik gibt es die Schreibweise\n",
    "\n",
    "$$n! = n \\cdot (n-1) \\cdot ... \\cdot 2 \\cdot 1$$\n",
    "\n",
    "So wird zum Beispiel $5!$ durch $5 \\cdot 4 \\cdot 3 \\cdot 2 \\cdot 1 = 120$ berechnet. Dies wird in der Mathematik als Fakultät von 5 bezeichnet.\n",
    "\n",
    "Schreiben Sie ein Programm, das vom Benutzer die Zahl n abfragt, für die die Fakultät $n!$ berechnet werden soll. Das Programm soll dann die Fakultät berechnen und am Ende den Text\n",
    "\n",
    "Die Fakultät von XX ist XX, also XX! = XX.\n",
    "\n",
    "ausgeben. Dabei soll XX durch die korrekten Zahlen ersetzt werden. Beispiel\n",
    "\n",
    "Die Fakultät von 5 ist 120, also 5! = 120."
   ]
  },
  {
   "cell_type": "code",
   "execution_count": null,
   "id": "4e5d9c51-b935-4f14-958e-f8098ab003cd",
   "metadata": {},
   "outputs": [],
   "source": [
    "#"
   ]
  },
  {
   "cell_type": "markdown",
   "id": "ca41b618-860a-41f7-82e3-d915ba622650",
   "metadata": {},
   "source": [
    "## Übung 4.5\n",
    "\n",
    "Ein Firma stellt Schrauben her, deren Länge im Mittel 50 mm beträgt. Aufgrund\n",
    "von Fertigungstoleranzen sind die Längen normalverteilt mit einer\n",
    "Standardabweichung von 0.4 mm.\n",
    "\n",
    "1. Erzeugen Sie zufällig die Längen von 1000 Schrauben.\n",
    "2. Schreiben Sie Python-Code, um den Mittelwert dieser 1000 Schrauben zu\n",
    "   berechnen. Lassen Sie ihn auf 2 Nachkommastellen genau ausgeben."
   ]
  },
  {
   "cell_type": "code",
   "execution_count": null,
   "id": "33beefd5-7e53-46aa-a65b-f2c96daf6779",
   "metadata": {},
   "outputs": [],
   "source": [
    "#"
   ]
  }
 ],
 "metadata": {
  "jupytext": {
   "formats": "ipynb"
  },
  "kernelspec": {
   "display_name": "Python 3 (ipykernel)",
   "language": "python",
   "name": "python3"
  },
  "language_info": {
   "codemirror_mode": {
    "name": "ipython",
    "version": 3
   },
   "file_extension": ".py",
   "mimetype": "text/x-python",
   "name": "python",
   "nbconvert_exporter": "python",
   "pygments_lexer": "ipython3",
   "version": "3.12.2"
  }
 },
 "nbformat": 4,
 "nbformat_minor": 5
}
