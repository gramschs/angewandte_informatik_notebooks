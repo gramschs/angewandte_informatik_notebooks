{
 "cells": [
  {
   "cell_type": "markdown",
   "id": "eb2108ef",
   "metadata": {},
   "source": [
    "# 4.3 Zufallszahlen\n",
    "\n",
    "In diesem Kapitel werden wir uns mit der Erzeugung und Anwendung von\n",
    "Zufallszahlen in Python beschäftigen. Wir nutzen dazu das Modul `numpy.random`\n",
    "aus der Bibliothek NumPy.\n",
    "\n",
    "## Lernziele\n",
    "\n",
    "* Sie kennen das Modul `numpy.random`.\n",
    "* Sie können mit `.randint()` **gleichverteilte Integers** und mit `.uniform()`\n",
    "  **gleichverteilte Floats** erzeugen lassen.\n",
    "* Sie können mit `.normal()` **normalverteilte Floats** zu einem vorgegebenen\n",
    "  Mittelwert und einer vorgegebenen Standabweichung erzeugen lassen.\n",
    "* Sie kennen den Unterschied zwischen gleichverteilten und\n",
    "  normalverteilten Zufallszahlen.\n",
    "\n",
    "## Gleichverteilte Zufallszahlen\n",
    "\n",
    "Beim Würfeln mit einem sechseitigen Würfel (W6) hat jede Augenzahl von 1 bis 6\n",
    "die gleiche Wahrscheinlichkeit von 1/6. Wenn wir mit Python einen solchen Würfel\n",
    "simulieren möchten, können wir die Funktion `randint()` aus dem Modul\n",
    "`numpy.random` verwenden. Dazu müssen wir zunächst NumPy importieren."
   ]
  },
  {
   "cell_type": "code",
   "execution_count": null,
   "id": "82c2f0c4",
   "metadata": {},
   "outputs": [],
   "source": [
    "import numpy as np\n",
    "\n",
    "wuerfelwurf = np.random.randint(1, 7)\n",
    "print(wuerfelwurf)"
   ]
  },
  {
   "cell_type": "markdown",
   "id": "0be651d3",
   "metadata": {},
   "source": [
    "Die Funktion `randint()` kann nicht ohne Argumente aufgerufen werden, denn wir\n",
    "müssen den Bereich vorschreiben, aus dem die gleichverteilten Zufallszahlen\n",
    "gezogen werden sollen. Der Bereich wird durch das erste und zweite Argument der\n",
    "Funktion gebildet, wobei das erste Argument inklusive ist und das zweite\n",
    "Argument exklusive. Da das erste Argument inklusiv ist, geben wir hier die `1`\n",
    "an. Dahingegen müssen wir als zweites Argument die `7` übergeben, um\n",
    "gleichverteilte Zufallszahlen bis `6` zu bekommen, da das zweite Argument\n",
    "exklusiv ist.\n",
    "\n",
    "Wir können auch ein drittes Argument übergeben, das die Anzahl der gezogenen\n",
    "Zufallszahlen steuert. Mit dem folgenden Code werden beispielsweise 10\n",
    "gleichverteilte Integers zwischen 1 und 6 zufällig gezogen."
   ]
  },
  {
   "cell_type": "code",
   "execution_count": null,
   "id": "5c3ad39b",
   "metadata": {},
   "outputs": [],
   "source": [
    "wuerfelwurfe = np.random.randint(1, 7, 10)\n",
    "print(wuerfelwurfe)"
   ]
  },
  {
   "cell_type": "markdown",
   "id": "efde017f",
   "metadata": {},
   "source": [
    "Probieren wir das neu erlernte Wissen in einer Mini-Übung aus.\n",
    "\n",
    "**Mini-Übung**\n",
    "Lassen Sie sechs Lottozahlen erzeugen, d.h. sechs Integer, die zwischen 1 und 49\n",
    "gleichmäßig verteilt sind. Die Lottozahlen sollen auch ausgegeben werden.\n",
    "\n",
    "Könnte damit die Ziehung der Lottozahlen simuliert werden?"
   ]
  },
  {
   "cell_type": "code",
   "execution_count": null,
   "id": "72df7ffe",
   "metadata": {},
   "outputs": [],
   "source": [
    "# Hier Ihr Code"
   ]
  },
  {
   "cell_type": "markdown",
   "id": "c1fd7bf7",
   "metadata": {},
   "source": [
    "Sollen gleichverteilte Floats erzeugt werden, nutzen wir die Funktion\n",
    "`.uniform()`, die ebenfalls im Modul `numpy.random` enthalten ist. Hier können\n",
    "wir scheinbar auf die Angabe eines Bereichs verzichten."
   ]
  },
  {
   "cell_type": "code",
   "execution_count": null,
   "id": "fa4c6588",
   "metadata": {},
   "outputs": [],
   "source": [
    "zufallszahl = np.random.uniform()\n",
    "print(zufallszahl)"
   ]
  },
  {
   "cell_type": "markdown",
   "id": "7d984af2",
   "metadata": {},
   "source": [
    "Wenn wir die obige Code-Zelle mehrfach ausführen, stellen wir fest, dass die\n",
    "gleichverteilten Floats zwischen 0 und 1 liegen. Etwas präziser formuliert\n",
    "liegen die Zufallszahlen in dem halboffenen Intervall $[0, 1)$. Wir können auch\n",
    "hier das Intervall vorschreiben, indem wir die linke Intervallgrenze als erstes\n",
    "Argument (inklusiv) übergeben und die rechte Intervallgrenze als zweites\n",
    "Argument (exklusiv)."
   ]
  },
  {
   "cell_type": "code",
   "execution_count": null,
   "id": "02878128",
   "metadata": {},
   "outputs": [],
   "source": [
    "zufallszahl = np.random.uniform(-5.2, 3.0)\n",
    "print(zufallszahl)"
   ]
  },
  {
   "cell_type": "markdown",
   "id": "bca54a49",
   "metadata": {},
   "source": [
    "Mit Hilfe des dritten Argumentes können wir mehreren Zufallszahlen gleichzeitig\n",
    "erzeugen lassen."
   ]
  },
  {
   "cell_type": "code",
   "execution_count": null,
   "id": "048144e9",
   "metadata": {},
   "outputs": [],
   "source": [
    "zufallszahlen = np.random.uniform(10, 20, 5)\n",
    "print(zufallszahlen)"
   ]
  },
  {
   "cell_type": "markdown",
   "id": "3a62c765",
   "metadata": {},
   "source": [
    "Damit werden fünf gleichverteilte Zufallszahlen zwischen 10 und 20 (exklusiv)\n",
    "generiert.\n",
    "\n",
    "Wir wollen nun analysieren, ob die Zufallszahlen wirklich gleichmäßig aus dem\n",
    "Intervall $[10, 20)$ stammen. Dazu lassen wir 1000 gleichverteilte Zufallszahlen\n",
    "generieren. Danach teilen wir das Intervall in 10 Abschnitte und lassen nun von\n",
    "$[10, 11)$, $[11, 12)$, $[12, 13)$ usw. bis $[19, 20)$ zählen, wie häufig eine\n",
    "Zufallszahl aus diesem Teilintervall kommt. Dieses sogenannte Histogramm sieht\n",
    "folgendermaßen aus (den Code brauchen Sie noch nicht verstehen, das kommt\n",
    "später)."
   ]
  },
  {
   "cell_type": "code",
   "execution_count": null,
   "id": "72a04568",
   "metadata": {},
   "outputs": [],
   "source": [
    "import matplotlib.pyplot as plt\n",
    "\n",
    "zufallszahlen = np.random.uniform(10, 20, 2000)\n",
    "\n",
    "plt.hist(zufallszahlen)\n",
    "plt.title('Histogramm: Gleichverteilung im Intervall [10, 20]')\n",
    "plt.xlabel('Teilintervalle')\n",
    "plt.ylabel('Häufigkeit');"
   ]
  },
  {
   "cell_type": "markdown",
   "id": "0be93fae",
   "metadata": {},
   "source": [
    "Ordnet man die gezogenen Zufallszahlen den 10 Teilintervallen zu, so sind in\n",
    "jedem Teilintervall ungefähr 200 Zufallszahlen enthalten.\n",
    "\n",
    "## Normalverteilte Zufallszahlen\n",
    "\n",
    "Eine normalverteilte Zufallszahl folgt der sogenannten Normalverteilung oder\n",
    "Gaußschen Verteilung. Das ist eine Wahrscheinlichkeitsverteilung, die durch ihr\n",
    "Glockenkurven-Diagramm bekannt ist. Sie ist eine der wichtigsten Modelle in\n",
    "Natur- und Ingenieurwissenschaften, da viele Messgrößen (z. B. Körpergröße,\n",
    "Fertigungstoleranzen, Messfehler) näherungsweise normalverteilt sind.\n",
    "\n",
    "Die Normalverteilung wird durch zwei Parameter beschrieben: den Mittelwert (oder\n",
    "Erwartungswert) und die Standardabweichung. Der Mittelwert ist der Wert, um den\n",
    "die Werte im Durchschnitt zentriert sind. Die Standardabweichung ist ein Maß für\n",
    "die Streuung der Werte.\n",
    "\n",
    "In Python können wir mit der Funktion `numpy.random.normal()` normalverteilte\n",
    "Zufallszahlen erzeugen:"
   ]
  },
  {
   "cell_type": "code",
   "execution_count": null,
   "id": "dd97a7f7",
   "metadata": {},
   "outputs": [],
   "source": [
    "zufallszahl = np.random.normal(0, 1)\n",
    "print(zufallszahl)"
   ]
  },
  {
   "cell_type": "markdown",
   "id": "5097ab77",
   "metadata": {},
   "source": [
    "Das erste Argument `0` steht für einen Mittelwert von 0. Das zweite Argument `1`\n",
    "bedeutet, dass die Normalverteiung eine Standardabweichung von 1 hat.\n",
    "\n",
    "Wir können auch mehrere Zahlen gleichzeitig erzeugen:"
   ]
  },
  {
   "cell_type": "code",
   "execution_count": null,
   "id": "9253385f",
   "metadata": {},
   "outputs": [],
   "source": [
    "zufallszahlen = np.random.normal(0, 1, 5)\n",
    "print(zufallszahlen)"
   ]
  },
  {
   "cell_type": "markdown",
   "id": "1ec8f1f2",
   "metadata": {},
   "source": [
    "Jetzt wurden fünf normalverteilte Zufallszahlen erzeugt.\n",
    "\n",
    "**Mini-Übung**\n",
    "Bei einer Schulklasse wird die Körpergröße der Jugendlichen (Alter: 14 bis 18\n",
    "Jahre) gemessen. Der Mittelwert bei den Mädchen ist 166.3 cm (Standardabweichung\n",
    "6.39 cm) und bei den Jungen 176.8 cm (Standardabweichung 7.46 cm) (Quelle:\n",
    "[Wikipedia](https://de.wikipedia.org/wiki/Normalverteilung)).\n",
    "\n",
    "Lassen Sie die Körpergrößen einer durchschnittlichen Schulklasse (= 13 Mädchen\n",
    "und 13 Jungen) erzeugen und ausgeben."
   ]
  },
  {
   "cell_type": "code",
   "execution_count": null,
   "id": "e3af3650",
   "metadata": {},
   "outputs": [],
   "source": [
    "# Hier Ihr Code"
   ]
  },
  {
   "cell_type": "markdown",
   "id": "aa25cd43",
   "metadata": {},
   "source": [
    "Auch hier wollen wir visualisieren, wie die Häufigkeit der Zufallszahlen\n",
    "verteilt ist. Dazu erzeugen wir 2000 normalverteilte Zufallszahlen mit\n",
    "Mittelwert 0 und Standardabweichung 1, was standardnormalverteilt genannt wird.\n",
    "Diesmal nehmen wir 10 automatische Teilintervalle, um die Häufigkeiten der\n",
    "Zufallszahlen pro Teilintervall anzeigen zu lassen."
   ]
  },
  {
   "cell_type": "code",
   "execution_count": null,
   "id": "f1aed1a6",
   "metadata": {},
   "outputs": [],
   "source": [
    "import matplotlib.pyplot as plt\n",
    "\n",
    "zufallszahlen = np.random.normal(0, 1, 2000)\n",
    "\n",
    "plt.hist(zufallszahlen)\n",
    "plt.title('Histogramm: Standardnormalverteilung')\n",
    "plt.xlabel('Teilintervalle')\n",
    "plt.ylabel('Häufigkeit');"
   ]
  },
  {
   "cell_type": "markdown",
   "id": "3c313e43",
   "metadata": {},
   "source": [
    "## Zusammenfassung und Ausblick\n",
    "\n",
    "Mit den Zufallszahlen können wir Anwendungen des Alltags durch Python simulieren\n",
    "lassen. Bevor wir sie einsetzen, müssen wir jedoch entscheiden, ob wir Integers\n",
    "oder Floats benötigen und ob sie gleichverteilt oder normalverteilt sein sollen.\n",
    "Das nächste Kapitel führt Kontrollstrukturen ein, um abhängig von einer\n",
    "Bedingung Code auszuführen."
   ]
  }
 ],
 "metadata": {
  "jupytext": {
   "formats": "ipynb,md:myst"
  },
  "kernelspec": {
   "display_name": "Python 3 (ipykernel)",
   "language": "python",
   "name": "python3"
  },
  "language_info": {
   "codemirror_mode": {
    "name": "ipython",
    "version": 3
   },
   "file_extension": ".py",
   "mimetype": "text/x-python",
   "name": "python",
   "nbconvert_exporter": "python",
   "pygments_lexer": "ipython3",
   "version": "3.12.2"
  }
 },
 "nbformat": 4,
 "nbformat_minor": 5
}
