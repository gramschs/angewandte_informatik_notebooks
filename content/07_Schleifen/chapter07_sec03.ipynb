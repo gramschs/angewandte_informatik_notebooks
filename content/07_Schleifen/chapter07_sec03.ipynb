{
 "cells": [
  {
   "cell_type": "markdown",
   "id": "bcdf2645",
   "metadata": {},
   "source": [
    "# 7.3 Dictionaries\n",
    "\n",
    "Häufig müssen Daten strukturiert gespeichert werden. Beispielsweise sollen\n",
    "Maschinenkonfigurationen effizient verwaltet werden. Für solche Fälle gibt es\n",
    "eine Datenstruktur, die besser als eine Liste geeignet ist, das sogenannte\n",
    "Dictionary.\n",
    "\n",
    "## Lernziele\n",
    "\n",
    "* Sie können Dictionary-Objekte mit **Schlüssel** und **Wert** anlegen und\n",
    "  verstehen die grundlegende Syntax **{key: value}**.\n",
    "* Sie beherrschen den Zugriff auf Werte über ihre Schlüssel und können\n",
    "  überprüfen, ob bestimmte Schlüssel in einem Dictionary vorhanden sind.\n",
    "* Sie können neue Schlüssel-Wert-Paare hinzufügen, bestehende Werte\n",
    "  aktualisieren und Einträge aus einem Dictionary entfernen.\n",
    "* Sie kennen und nutzen die wichtigsten Methoden wie `.keys()`, `.values()`,\n",
    "  `.items()` und `.get()` für effiziente Operationen.\n",
    "* Sie können durch Schlüssel, Werte oder Schlüssel-Wert-Paare eines Dictionaries\n",
    "  iterieren und diese in Schleifen verarbeiten.\n",
    "\n",
    "## Grundlagen von Dictionaries\n",
    "\n",
    "Dictionaries (deutsch: Wörterbücher) sind eine der wichtigsten Datenstrukturen\n",
    "in Python. Sie speichern Daten in Form von Schlüssel-Wert-Paaren (key-value\n",
    "pairs), wobei jeder Schlüssel eindeutig sein muss. Wir können uns ein Dictionary\n",
    "wie ein technisches Handbuch vorstellen: Wir schlagen einen Begriff (Schlüssel)\n",
    "nach und erhalten die zugehörige Information (Wert).\n",
    "\n",
    "Ein Dictionary ist eine veränderbare, ungeordnete Sammlung von\n",
    "Schlüssel-Wert-Paaren. Im Gegensatz zu Listen, die über einen numerischen Index\n",
    "angesprochen werden, erfolgt der Zugriff bei Dictionaries über beliebige\n",
    "unveränderliche Objekte als Schlüssel (meist Strings oder Zahlen)."
   ]
  },
  {
   "cell_type": "code",
   "execution_count": null,
   "id": "417903c3",
   "metadata": {},
   "outputs": [],
   "source": [
    "stahl = {\n",
    "    \"Werkstoffnummer\": \"1.4301\",\n",
    "    \"Dichte\": 7900,  # kg/m³\n",
    "    \"E-Modul\": 200000,  # MPa\n",
    "    \"Streckgrenze\": 190  # MPa\n",
    "}\n",
    "print(stahl)"
   ]
  },
  {
   "cell_type": "markdown",
   "id": "01974615",
   "metadata": {},
   "source": [
    "Dictionaries werden mit geschweiften Klammern `{}` erstellt. Die\n",
    "Schlüssel-Wert-Paare werden durch Doppelpunkte `:` getrennt, mehrere Paare durch\n",
    "Kommas `,`."
   ]
  },
  {
   "cell_type": "code",
   "execution_count": null,
   "id": "95b3d829",
   "metadata": {},
   "outputs": [],
   "source": [
    "# Verschiedene Möglichkeiten der Dictionary-Erstellung\n",
    "# 1. Direkte Erstellung\n",
    "motor = {\"Typ\": \"V6\", \"Leistung\": 250, \"Hubraum\": 3.0}\n",
    "\n",
    "# 2. Leeres Dictionary erstellen und befüllen\n",
    "getriebe = {}\n",
    "getriebe[\"Typ\"] = \"Automatik\"\n",
    "getriebe[\"Gänge\"] = 8\n",
    "\n",
    "# 3. Mit der dict()-Funktion\n",
    "reifen = dict(Breite=225, Verhältnis=45, Durchmesser=17)\n",
    "\n",
    "print(\"Motor:\", motor)\n",
    "print(\"Getriebe:\", getriebe)\n",
    "print(\"Reifen:\", reifen)"
   ]
  },
  {
   "cell_type": "markdown",
   "id": "a073a6d9",
   "metadata": {},
   "source": [
    "Der Zugriff auf Werte erfolgt über die Angabe des Schlüssels in eckigen\n",
    "Klammern:"
   ]
  },
  {
   "cell_type": "code",
   "execution_count": null,
   "id": "77e2fcee",
   "metadata": {},
   "outputs": [],
   "source": [
    "# Zugriff auf einzelne Werte\n",
    "print(\"Motorleistung:\", motor[\"Leistung\"], \"kW\")\n",
    "print(\"Anzahl Gänge:\", getriebe[\"Gänge\"])\n",
    "print(\"Reifenbreite:\", reifen[\"Breite\"], \"mm\")\n",
    "\n",
    "# Ändern von Werten\n",
    "motor[\"Leistung\"] = 265\n",
    "print(\"Neue Motorleistung:\", motor[\"Leistung\"], \"kW\")"
   ]
  },
  {
   "cell_type": "markdown",
   "id": "43097254",
   "metadata": {},
   "source": [
    "Im Gegensatz zu Listen, die über numerische Indizes (0, 1, 2, ...) angesprochen\n",
    "werden, verwenden Dictionaries aussagekräftige Schlüssel:"
   ]
  },
  {
   "cell_type": "code",
   "execution_count": null,
   "id": "c59d300c",
   "metadata": {},
   "outputs": [],
   "source": [
    "# Vergleich: Liste vs. Dictionary\n",
    "# Als Liste (unübersichtlich)\n",
    "werkstoff_liste = [\"1.4301\", 7900, 200000, 190]\n",
    "print(\"Dichte (Liste):\", werkstoff_liste[1])  # Was bedeutet Index 1?\n",
    "\n",
    "# Als Dictionary (selbsterklärend)\n",
    "werkstoff_dict = {\n",
    "    \"Werkstoffnummer\": \"1.4301\",\n",
    "    \"Dichte\": 7900,\n",
    "    \"E-Modul\": 200000,\n",
    "    \"Streckgrenze\": 190\n",
    "}\n",
    "print(\"Dichte (Dictionary):\", werkstoff_dict[\"Dichte\"])"
   ]
  },
  {
   "cell_type": "markdown",
   "id": "a0668232",
   "metadata": {},
   "source": [
    "**Mini-Übung**\n",
    "Erstellen Sie ein Dictionary für die Eigenschaften von Aluminium mit folgenden Daten:\n",
    "\n",
    "* Werkstoffnummer: \"3.1645\"\n",
    "* Dichte: 2700 kg/m³\n",
    "* E-Modul: 70000 MPa\n",
    "* Streckgrenze: 160 MPa\n",
    "* Wärmeleitfähigkeit: 140 W/(m·K)\n",
    "\n",
    "Greifen Sie dann auf die Dichte und die Wärmeleitfähigkeit zu und geben Sie\n",
    "diese mit passenden Einheiten aus."
   ]
  },
  {
   "cell_type": "code",
   "execution_count": null,
   "id": "22ed7566",
   "metadata": {},
   "outputs": [],
   "source": [
    "# Hier Ihr Code"
   ]
  },
  {
   "cell_type": "markdown",
   "id": "271c8b60",
   "metadata": {},
   "source": [
    "## Arbeiten mit Dictionaries\n",
    "\n",
    "In diesem Abschnitt betrachten wir, wie Dictionaries dynamisch verändert,\n",
    "durchsucht und mit verschiedenen Methoden effizient bearbeitet werden können.\n",
    "\n",
    "Dictionaries sind veränderbar. Wir können jederzeit neue Einträge hinzufügen\n",
    "oder bestehende entfernen:"
   ]
  },
  {
   "cell_type": "code",
   "execution_count": null,
   "id": "9c26e0f9",
   "metadata": {},
   "outputs": [],
   "source": [
    "# Dictionary für eine Hydraulikpumpe\n",
    "pumpe = {\n",
    "    \"Typ\": \"Axialkolbenpumpe\",\n",
    "    \"Volumenstrom\": 120,  # l/min\n",
    "    \"Druck\": 250  # bar\n",
    "}\n",
    "\n",
    "# Neue Einträge hinzufügen\n",
    "pumpe[\"Drehzahl\"] = 1450  # U/min\n",
    "pumpe[\"Wirkungsgrad\"] = 0.92\n",
    "\n",
    "print(\"Erweiterte Pumpendaten:\", pumpe)\n",
    "\n",
    "# Eintrag löschen mit del\n",
    "del pumpe[\"Wirkungsgrad\"]\n",
    "print(\"Nach Löschen:\", pumpe)\n",
    "\n",
    "# Eintrag löschen mit pop() - gibt den Wert zurück\n",
    "drehzahl = pumpe.pop(\"Drehzahl\")\n",
    "print(\"Entfernte Drehzahl:\", drehzahl)\n",
    "print(\"Finale Pumpendaten:\", pumpe)"
   ]
  },
  {
   "cell_type": "markdown",
   "id": "05a90030",
   "metadata": {},
   "source": [
    "Bevor Sie auf einen Schlüssel zugreifen, sollten wir prüfen, ob er existiert:"
   ]
  },
  {
   "cell_type": "code",
   "execution_count": null,
   "id": "30f1f3fe",
   "metadata": {},
   "outputs": [],
   "source": [
    "# Maschinenkonfiguration\n",
    "maschine = {\n",
    "    \"Modell\": \"DMG MORI DMU 50\",\n",
    "    \"Achsen\": 5,\n",
    "    \"Arbeitsraum_X\": 500,\n",
    "    \"Arbeitsraum_Y\": 450\n",
    "}\n",
    "\n",
    "# Prüfen, ob Schlüssel existiert\n",
    "if \"Arbeitsraum_Z\" in maschine:\n",
    "    print(\"Z-Achse:\", maschine[\"Arbeitsraum_Z\"])\n",
    "else:\n",
    "    print(\"Z-Achse nicht definiert\")\n",
    "    maschine[\"Arbeitsraum_Z\"] = 400\n",
    "\n",
    "# Negative Prüfung\n",
    "if \"Spindeldrehzahl\" not in maschine:\n",
    "    maschine[\"Spindeldrehzahl\"] = 12000  # U/min\n",
    "    \n",
    "print(\"Vollständige Maschinendaten:\", maschine)"
   ]
  },
  {
   "cell_type": "markdown",
   "id": "5bf61fb3",
   "metadata": {},
   "source": [
    "Python bietet mehrere nützliche Methoden für die Arbeit mit Dictionaries:"
   ]
  },
  {
   "cell_type": "code",
   "execution_count": null,
   "id": "6de930a3",
   "metadata": {},
   "outputs": [],
   "source": [
    "# Werkzeugdaten für Fräswerkzeuge\n",
    "werkzeuge = {\n",
    "    \"VHM_Schaftfraeser_6mm\": {\"Durchmesser\": 6, \"Zaehne\": 4, \"Material\": \"VHM\"},\n",
    "    \"HSS_Bohrer_8mm\": {\"Durchmesser\": 8, \"Material\": \"HSS-E\"},\n",
    "    \"Planfraeser_50mm\": {\"Durchmesser\": 50, \"Zaehne\": 5, \"Material\": \"HM\"}\n",
    "}\n",
    "\n",
    "# keys() - alle Schlüssel abrufen\n",
    "print(\"Verfügbare Werkzeuge:\")\n",
    "for werkzeug in werkzeuge.keys():\n",
    "    print(\"-\", werkzeug)\n",
    "\n",
    "# values() - alle Werte abrufen\n",
    "print(\"\\nWerkzeugdetails:\")\n",
    "for details in werkzeuge.values():\n",
    "    print(details)\n",
    "\n",
    "# items() - Schlüssel-Wert-Paare abrufen\n",
    "print(\"\\nKomplette Werkzeugliste:\")\n",
    "for name, eigenschaften in werkzeuge.items():\n",
    "    print(f\"{name}: {eigenschaften}\")"
   ]
  },
  {
   "cell_type": "markdown",
   "id": "f6ade303",
   "metadata": {},
   "source": [
    "Es gibt verschiedene Möglichkeiten, über ein Dictionary zu iterieren:"
   ]
  },
  {
   "cell_type": "code",
   "execution_count": null,
   "id": "ae61e481",
   "metadata": {},
   "outputs": [],
   "source": [
    "# Materialdatenbank\n",
    "materialien = {\n",
    "    \"Stahl\": {\"Dichte\": 7850, \"E_Modul\": 210000, \"Preis_kg\": 1.50},\n",
    "    \"Aluminium\": {\"Dichte\": 2700, \"E_Modul\": 70000, \"Preis_kg\": 3.20},\n",
    "    \"Titan\": {\"Dichte\": 4500, \"E_Modul\": 110000, \"Preis_kg\": 45.00}\n",
    "}\n",
    "\n",
    "# Iteration über Schlüssel (Standard)\n",
    "print(\"Materialien in der Datenbank:\")\n",
    "for material in materialien:  # äquivalent zu materialien.keys()\n",
    "    print(material)\n",
    "\n",
    "# Iteration über Werte\n",
    "print(\"\\nMaterialdichten (kg/m³):\")\n",
    "for eigenschaften in materialien.values():\n",
    "    print(eigenschaften[\"Dichte\"])\n",
    "\n",
    "# Iteration über Schlüssel-Wert-Paare\n",
    "print(\"\\nMaterialpreise:\")\n",
    "for material, eigenschaften in materialien.items():\n",
    "    print(f\"{material}: {eigenschaften['Preis_kg']} €/kg\")"
   ]
  },
  {
   "cell_type": "markdown",
   "id": "4736a5ba",
   "metadata": {},
   "source": [
    "Die Methode `.get()` ermöglicht sicheren Zugriff mit Standardwerten:"
   ]
  },
  {
   "cell_type": "code",
   "execution_count": null,
   "id": "79e241ac",
   "metadata": {},
   "outputs": [],
   "source": [
    "# Lagerdaten\n",
    "lager = {\n",
    "    \"Schrauben_M8\": 500,\n",
    "    \"Muttern_M8\": 480,\n",
    "    \"Scheiben_M8\": 520\n",
    "}\n",
    "\n",
    "# Unsicherer Zugriff (kann Fehler verursachen)\n",
    "# anzahl = lager[\"Schrauben_M10\"]  # KeyError!\n",
    "\n",
    "# Sicherer Zugriff mit get()\n",
    "anzahl_m10 = lager.get(\"Schrauben_M10\", 0)  # Standardwert 0\n",
    "print(f\"Schrauben M10 im Lager: {anzahl_m10}\")\n",
    "\n",
    "# Mit get() auf vorhandene Werte zugreifen\n",
    "anzahl_m8 = lager.get(\"Schrauben_M8\", 0)\n",
    "print(f\"Schrauben M8 im Lager: {anzahl_m8}\")"
   ]
  },
  {
   "cell_type": "markdown",
   "id": "6e470b11",
   "metadata": {},
   "source": [
    "**Mini-Übung**\n",
    "Erstellen Sie ein Dictionary für verschiedene Stahlsorten mit ihren Preisen pro\n",
    "Kilogramm:\n",
    "\n",
    "* S235: 1.20 €/kg\n",
    "* S275: 1.35 €/kg\n",
    "* S355: 1.50 €/kg\n",
    "\n",
    "Fügen Sie dann S460 mit 1.80 €/kg hinzu. Gehen Sie anschließend mit einer\n",
    "for-Schleife durch alle Einträge und geben aus, welche Stahlsorten teurer als\n",
    "1.40 €/kg sind."
   ]
  },
  {
   "cell_type": "code",
   "execution_count": null,
   "id": "8358d1ae",
   "metadata": {},
   "outputs": [],
   "source": [
    "# Hier Ihr Code"
   ]
  },
  {
   "cell_type": "markdown",
   "id": "e78bbc14",
   "metadata": {},
   "source": [
    "## Fortgeschrittene Dictionary-Konzepte\n",
    "\n",
    "In diesem Abschnitt vertiefen wir unser Wissen über Dictionaries durch\n",
    "verschachtelte Strukturen und erweiterte Methoden für komplexe Anwendungen im\n",
    "Maschinenbau.\n",
    "\n",
    "Dictionaries können andere Dictionaries als Werte enthalten, was hierarchische\n",
    "Datenstrukturen ermöglicht:"
   ]
  },
  {
   "cell_type": "code",
   "execution_count": null,
   "id": "0418ef11",
   "metadata": {},
   "outputs": [],
   "source": [
    "# CNC-Maschinenkonfiguration mit verschachtelten Dictionaries\n",
    "cnc_maschine = {\n",
    "    \"Modell\": \"DMG MORI NLX 2500\",\n",
    "    \"Achsen\": {\n",
    "        \"X\": {\"Verfahrweg\": 300, \"Geschwindigkeit\": 30, \"Beschleunigung\": 5},\n",
    "        \"Y\": {\"Verfahrweg\": 200, \"Geschwindigkeit\": 30, \"Beschleunigung\": 5},\n",
    "        \"Z\": {\"Verfahrweg\": 500, \"Geschwindigkeit\": 24, \"Beschleunigung\": 4}\n",
    "    },\n",
    "    \"Spindel\": {\n",
    "        \"Max_Drehzahl\": 12000,\n",
    "        \"Leistung\": 30,  # kW\n",
    "        \"Drehmoment\": 250  # Nm\n",
    "    },\n",
    "    \"Werkzeugwechsler\": {\n",
    "        \"Plaetze\": 24,\n",
    "        \"Wechselzeit\": 1.5  # Sekunden\n",
    "    }\n",
    "}\n",
    "\n",
    "# Zugriff auf verschachtelte Elemente\n",
    "print(\"X-Achse Verfahrweg:\", cnc_maschine[\"Achsen\"][\"X\"][\"Verfahrweg\"], \"mm\")\n",
    "print(\"Spindelleistung:\", cnc_maschine[\"Spindel\"][\"Leistung\"], \"kW\")\n",
    "\n",
    "# Ändern eines verschachtelten Wertes\n",
    "cnc_maschine[\"Achsen\"][\"Z\"][\"Geschwindigkeit\"] = 28\n",
    "print(\"Neue Z-Geschwindigkeit:\", cnc_maschine[\"Achsen\"][\"Z\"][\"Geschwindigkeit\"], \"m/min\")"
   ]
  },
  {
   "cell_type": "markdown",
   "id": "b5926a73",
   "metadata": {},
   "source": [
    "Für sicheren Umgang mit möglicherweise fehlenden Schlüsseln bieten sich\n",
    "erweiterte Methoden an:"
   ]
  },
  {
   "cell_type": "code",
   "execution_count": null,
   "id": "3827d1cf",
   "metadata": {},
   "outputs": [],
   "source": [
    "# Maschinenwartungsdaten\n",
    "wartung = {\n",
    "    \"Oelwechsel\": \"2024-03-15\",\n",
    "    \"Inspektion\": \"2024-01-10\",\n",
    "    \"Kalibrierung\": \"2024-02-20\"\n",
    "}\n",
    "\n",
    "# get() mit Standardwert für nicht vorhandene Schlüssel\n",
    "naechste_wartung = wartung.get(\"Hauptwartung\", \"nicht geplant\")\n",
    "print(\"Nächste Hauptwartung:\", naechste_wartung)\n",
    "\n",
    "# setdefault() - fügt Schlüssel nur hinzu, wenn er nicht existiert\n",
    "wartung.setdefault(\"Schmierung\", \"2024-04-01\")\n",
    "wartung.setdefault(\"Inspektion\", \"2024-12-31\")  # Ändert nichts, da bereits vorhanden\n",
    "\n",
    "print(\"\\nAktuelle Wartungsliste:\")\n",
    "for art, datum in wartung.items():\n",
    "    print(f\"- {art}: {datum}\")"
   ]
  },
  {
   "cell_type": "markdown",
   "id": "919fd4c2",
   "metadata": {},
   "source": [
    "Ein praktisches Beispiel zeigt, wie verschachtelte Dictionaries zur Verwaltung\n",
    "komplexer Maschinenkonfigurationen verwendet werden:"
   ]
  },
  {
   "cell_type": "code",
   "execution_count": null,
   "id": "85f4915a",
   "metadata": {},
   "outputs": [],
   "source": [
    "# Werkzeugmagazin einer Fräsmaschine\n",
    "werkzeugmagazin = {\n",
    "    \"Platz_1\": {\n",
    "        \"Typ\": \"Schaftfraeser\",\n",
    "        \"Durchmesser\": 10,\n",
    "        \"Material\": \"VHM\",\n",
    "        \"Standzeit\": 120  # Minuten\n",
    "    },\n",
    "    \"Platz_2\": {\n",
    "        \"Typ\": \"Bohrer\",\n",
    "        \"Durchmesser\": 8.5,\n",
    "        \"Material\": \"HSS\",\n",
    "        \"Standzeit\": 80\n",
    "    },\n",
    "    \"Platz_3\": {\n",
    "        \"Typ\": \"Gewindebohrer\",\n",
    "        \"Durchmesser\": 6,\n",
    "        \"Material\": \"HSSE\",\n",
    "        \"Standzeit\": 60\n",
    "    }\n",
    "}\n",
    "\n",
    "# Übersicht über alle Werkzeuge\n",
    "print(\"Werkzeugmagazin-Übersicht:\")\n",
    "for platz, werkzeug in werkzeugmagazin.items():\n",
    "    print(f\"\\n{platz}:\")\n",
    "    print(f\"  Typ: {werkzeug['Typ']}\")\n",
    "    print(f\"  Durchmesser: {werkzeug['Durchmesser']} mm\")\n",
    "    print(f\"  Reststandzeit: {werkzeug['Standzeit']} min\")"
   ]
  },
  {
   "cell_type": "markdown",
   "id": "5bc7dab9",
   "metadata": {},
   "source": [
    "**Mini-Übung**\n",
    "Erstellen Sie ein verschachteltes Dictionary für eine einfache Werkzeugmaschine mit:\n",
    "\n",
    "* Name: \"Drehbank DL-200\"\n",
    "* Zwei Achsen (X und Z) mit jeweils:\n",
    "  * Verfahrweg in mm\n",
    "  * Aktuelle Position in mm\n",
    "* Spindeldaten mit:\n",
    "  * Maximale Drehzahl\n",
    "  * Aktuelle Drehzahl\n",
    "\n",
    "Geben Sie dann die aktuelle Position beider Achsen aus."
   ]
  },
  {
   "cell_type": "code",
   "execution_count": null,
   "id": "98eb7a8f",
   "metadata": {},
   "outputs": [],
   "source": [
    "# Hier Ihr Code"
   ]
  },
  {
   "cell_type": "markdown",
   "id": "26aaf9f4",
   "metadata": {},
   "source": [
    "## Zusammenfassung\n",
    "\n",
    "Dictionaries sind eine essenzielle Datenstruktur in Python für die Verwaltung\n",
    "von Schlüssel-Wert-Paaren. Sie bieten schnellen Zugriff über aussagekräftige\n",
    "Bezeichner statt numerischer Indizes."
   ]
  }
 ],
 "metadata": {
  "jupytext": {
   "formats": "ipynb,md:myst"
  },
  "kernelspec": {
   "display_name": "Python 3 (ipykernel)",
   "language": "python",
   "name": "python3"
  }
 },
 "nbformat": 4,
 "nbformat_minor": 5
}
