{
 "cells": [
  {
   "cell_type": "markdown",
   "id": "3b1d10a3",
   "metadata": {},
   "source": [
    "# 7.2 Schleifen mit Bedingung (while)\n",
    "\n",
    "Ein typisches Beispiel aus dem Alltag, bei dem wir etwas wiederholen, solange\n",
    "eine Bedingung erfüllt ist, ist das Kochen von Wasser. Moderne Wasserkocher\n",
    "haben einen eingebauten Temperatursensor, der die Temperatur des Wassers misst.\n",
    "Solange die Wassertemperatur kleiner als 100 ˚C ist, wird das Wasser\n",
    "erhitzt. Sobald die 100 ˚C erreicht sind, wird der Wasserkocher\n",
    "abgeschaltet. Solche Wiederholungen wollen wir nun mit Python umsetzen.\n",
    "\n",
    "## Lernziele\n",
    "\n",
    "* Sie können eine Schleife mit Bedingung als **while**-Schleife in Python\n",
    "  implementieren.\n",
    "* Sie können mit **break** eine Schleife vorzeitig abbrechen.\n",
    "* Sie können mit **continue** eine Schleife vorzeitig fortsetzen.\n",
    "\n",
    "## Syntax der while-Schleife\n",
    "\n",
    "Bei einer Wiederholung mit Bedingung werden eine oder mehrere Anweisungen\n",
    "solange wiederholt, wie die Bedingung erfüllt ist. Die sogenannte while-Schleife\n",
    "hat folgende Struktur:\n",
    "\n",
    "```python\n",
    " while Bedingung: \n",
    "        anweisungsblock\n",
    "```\n",
    "\n",
    "Die bedingte Wiederholung wird mit dem Schlüsselwort `while` eingeleitet. Dann\n",
    "folgt die Bedingung, die mit einem `:` abgeschlossen wird. Alle Anweisungen, die\n",
    "wiederholt werden sollen, werden eingerückt. Diesen Teil nennt man das\n",
    "Schleifeninnere, die Zeile `while Bedingung:` nennt man den Schleifenkopf.\n",
    "\n",
    "**Warnung:**\n",
    "While-Schleifen sind ein mächtiges Werkzeug in Python, aber es ist wichtig, sie\n",
    "sorgfältig zu verwenden. Eine schlecht definierte Bedingung könnte dazu führen,\n",
    "dass die Schleife **unendlich** läuft, was zu Problemen führen kann.\n",
    "\n",
    "Um auf das Beispiel mit dem Wasserkocher zurückzukommen ... auch wenn wir jetzt\n",
    "keinen echten Temperatursensor haben, würde eine while-Schleife"
   ]
  },
  {
   "cell_type": "code",
   "execution_count": null,
   "id": "bb7d8470",
   "metadata": {},
   "outputs": [],
   "source": [
    "temperatur = 20\n",
    "while temperatur <= 100:\n",
    "  print(f'aktuelle Wassertemperatur: {temperatur} ˚C')\n",
    "  temperatur += 10 \n",
    "print('Befehl an Wasserkocher: schalte das Heizelement aus!')\n",
    "print('Das Wasser ist fertig gekocht!')"
   ]
  },
  {
   "cell_type": "markdown",
   "id": "01506bbd",
   "metadata": {},
   "source": [
    "**Mini-Übung**\n",
    "Schreiben Sie ein Programm, das einen Countdown von 10 nach 0 implementiert."
   ]
  },
  {
   "cell_type": "code",
   "execution_count": null,
   "id": "25c3240f",
   "metadata": {},
   "outputs": [],
   "source": [
    "# Hier Ihr Code"
   ]
  },
  {
   "cell_type": "markdown",
   "id": "3281ef33",
   "metadata": {},
   "source": [
    "## Schleifen abbrechen mit break\n",
    "\n",
    "Die `break`-Anweisung kann verwendet werden, um die Schleife vorzeitig zu\n",
    "beenden, auch wenn die Bedingung der `while`-Schleife noch `True` ist. Hier ist\n",
    "ein Beispiel:"
   ]
  },
  {
   "cell_type": "code",
   "execution_count": null,
   "id": "3743cd63",
   "metadata": {},
   "outputs": [],
   "source": [
    "zaehler = 0\n",
    "while zaehler < 5:\n",
    "    if zaehler == 3:\n",
    "        break\n",
    "    print(f'Der Zaehler hat aktuell den Wert: {zaehler}.')\n",
    "    zaehler = zaehler + 1"
   ]
  },
  {
   "cell_type": "markdown",
   "id": "6a78eadd",
   "metadata": {},
   "source": [
    "**Mini-Übung**\n",
    "Schreiben Sie ein Programm, das vom Benutzer natürliche Zahlen abfragt und diese\n",
    "quadriert und ausgibt. Wird eine 0 eingegeben, soll die Eingabe der Zahlen\n",
    "abgebrochen werden und die Meldung \"Sie haben 0 eingegeben, das Programm wird\n",
    "beendet.\" ausgegeben werden."
   ]
  },
  {
   "cell_type": "code",
   "execution_count": null,
   "id": "a697c8d6",
   "metadata": {},
   "outputs": [],
   "source": [
    "# Hier Ihr Code"
   ]
  },
  {
   "cell_type": "markdown",
   "id": "276f5963",
   "metadata": {},
   "source": [
    "## Schleifen vorzeitig fortsetzen mit continue\n",
    "\n",
    "Die `continue`-Anweisung wird verwendet, um den aktuellen Durchgang der Schleife\n",
    "zu beenden und sofort mit dem nächsten Schleifendurchgang zu beginnen. Hier ist\n",
    "ein Beispiel:"
   ]
  },
  {
   "cell_type": "code",
   "execution_count": null,
   "id": "f8e1ca65",
   "metadata": {},
   "outputs": [],
   "source": [
    "zaehler = 0\n",
    "while zaehler < 5:\n",
    "    zaehler = zaehler + 1\n",
    "    if zaehler == 3:\n",
    "        continue\n",
    "    print(f'Der Zaehler hat aktuell den Wert: {zaehler}.')"
   ]
  },
  {
   "cell_type": "markdown",
   "id": "931a7feb",
   "metadata": {},
   "source": [
    "In diesem Beispiel wird \"Der Zaehler hat aktuell den Wert: 3\" nicht ausgegeben,\n",
    "da die `continue`-Anweisung dafür sorgt, dass vorzeitig der nächste\n",
    "Schleifendurchgang begonnen wird, sobald `zaehler` den Wert `3` erreicht.\n",
    "\n",
    "**Mini-Übung**\n",
    "Schreiben Sie ein Programm, das eine Zahl abfragt und deren Wurzel berechnet\n",
    "und ausgibt. Wird eine negative Zahl eingegeben, so soll die Wurzelberechnung\n",
    "übersprungen werden. Insgesamt soll das Programm solange laufen, bis drei\n",
    "Wurzeln berechnet wurden."
   ]
  },
  {
   "cell_type": "code",
   "execution_count": null,
   "id": "2bfd148f",
   "metadata": {},
   "outputs": [],
   "source": [
    "# Hier Ihr Code"
   ]
  },
  {
   "cell_type": "markdown",
   "id": "1a673b25",
   "metadata": {},
   "source": [
    "## Zusammenfassung und Ausblick\n",
    "\n",
    "Von den Schleifen kommen wir im nächsten Kapitel zu einem komplett anderem\n",
    "Thema: Dictionaries."
   ]
  }
 ],
 "metadata": {
  "jupytext": {
   "formats": "ipynb"
  },
  "kernelspec": {
   "display_name": "Python 3 (ipykernel)",
   "language": "python",
   "name": "python3"
  }
 },
 "nbformat": 4,
 "nbformat_minor": 5
}
