{
 "cells": [
  {
   "cell_type": "markdown",
   "id": "f3492d13",
   "metadata": {},
   "source": [
    "# 7.1 Digitale Logik: und, oder, nicht\n",
    "\n",
    "In früheren Kapiteln haben wir den booleschen Datentyp kennengelernt: wahr\n",
    "(`True`) oder falsch (`False`). Man kann solche Ausdrücke auch kombinieren, z.B.\n",
    "wenn zwei Bedingungen gleichzeitig erfüllt sein sollen. Beispielsweise soll eine\n",
    "Maschine snur dann gestartet werden, wenn der Sicherheitsschalter aktiviert ist\n",
    "UND die Temperatur unter einem kritischen Wert liegt. Beide Bedingungen müssen\n",
    "erfüllt sein.\n",
    "\n",
    "Die Grundlage solcher Verknüpfungen bildet die **boolesche Algebra**, benannt\n",
    "nach dem Mathematiker [George\n",
    "Boole](https://de.wikipedia.org/wiki/George_Boole). In dieser Vorlesung\n",
    "konzentrieren wir uns auf die drei wichtigsten logischen Operatoren:\n",
    "\n",
    "* UND (`and`): beide Bedingungen müssen erfüllt sein\n",
    "* ODER (`or`): mindestens eine Bedingung muss erfüllt sein\n",
    "* NICHT (`not`): kehrt den Wahrheitswert einer Bedingung um\n",
    "\n",
    "Diese Operatoren sind grundlegend für technische Systeme und werden häufig für\n",
    "Steuerungen, Regelungen und Sicherheitssysteme eingesetzt.\n",
    "\n",
    "## Lernziele\n",
    "\n",
    "* Sie kennen die logischen Operatoren und können diese in Python einsetzen:\n",
    "  * logisches UND: `and`\n",
    "  * logisches ODER: `or`\n",
    "  * logisches NICHT: `not`\n",
    "* Sie verstehen die Priorität der logischen Operatoren und können komplexe\n",
    "  Bedingungen korrekt formulieren.\n",
    "\n",
    "## Das logische UND\n",
    "\n",
    "Beim logischen UND müssen beide Bedingungen erfüllt sein, damit insgesamt die\n",
    "kombinierte Bedingung erfüllt ist. Vergleichbar ist dies mit einer\n",
    "Reihenschaltung in der Elektrotechnik: Nur wenn beide Schalter eingeschaltet\n",
    "sind, kann der Strom fließen.\n",
    "\n",
    "Hier finden Sie ein erläuterndes Video (ca. 3:14 min) zur UND-Schaltung:\n",
    "\n",
    "<https://www.youtube.com/watch?v=79WVEr2BVZI>\n",
    "\n",
    "Die Ergebnisse der UND-Verknüpfung lassen sich in einer Wahrheitstabelle\n",
    "darstellen:\n",
    "\n",
    "Bedingung 1 | Bedingung 2 | Ergebnis mit ```and```\n",
    "------------|-------------|--------------------------\n",
    "True | True | True\n",
    "False | True | False\n",
    "True | False | False\n",
    "False | False | False\n",
    "\n",
    "Beispiel aus der Industrie: Ein automatisches Werkzeug darf nur dann betätigt\n",
    "werden, wenn das Werkstück korrekt eingespannt ist UND der Sicherheitsbereich\n",
    "frei ist:"
   ]
  },
  {
   "cell_type": "code",
   "execution_count": null,
   "id": "c295e3de",
   "metadata": {},
   "outputs": [],
   "source": [
    "werkstueck_eingespannt = True\n",
    "sicherheitsbereich_frei = True\n",
    "\n",
    "if werkstueck_eingespannt and sicherheitsbereich_frei:\n",
    "    print('Werkzeug kann betätigt werden.')\n",
    "else:\n",
    "    print('Sicherheitsvoraussetzungen nicht erfüllt.')"
   ]
  },
  {
   "cell_type": "markdown",
   "id": "0b2ad504",
   "metadata": {},
   "source": [
    "Bei komplexeren Bedingungen kann die Verwendung von Klammern die Lesbarkeit\n",
    "verbessern, auch wenn dies syntaktisch nicht immer erforderlich ist:"
   ]
  },
  {
   "cell_type": "code",
   "execution_count": null,
   "id": "a783e318",
   "metadata": {},
   "outputs": [],
   "source": [
    "temperatur = 75\n",
    "druck = 3.5\n",
    "\n",
    "if (temperatur < 80) and (druck < 4.0):\n",
    "    print('System arbeitet im normalen Betriebszustand.')\n",
    "else:\n",
    "    print('System außerhalb der normalen Parameter.')"
   ]
  },
  {
   "cell_type": "markdown",
   "id": "ce23d661",
   "metadata": {},
   "source": [
    "**Mini-Übung**\n",
    "Schreiben Sie ein Programm für die Steuerung einer Hydraulikpresse. Die Presse\n",
    "darf nur betätigt werden, wenn\n",
    "\n",
    "1. die Betriebstemperatur zwischen 60°C und 85°C liegt und\n",
    "2. der Druck zwischen 2.5 und 5.0 bar beträgt.\n",
    "\n",
    "Lassen Sie die Werte vom Benutzer eingeben und geben Sie eine entsprechende\n",
    "Meldung aus."
   ]
  },
  {
   "cell_type": "code",
   "execution_count": null,
   "id": "3e7003cc",
   "metadata": {},
   "outputs": [],
   "source": [
    "# Hier Ihr Code"
   ]
  },
  {
   "cell_type": "markdown",
   "id": "20fd9b27",
   "metadata": {},
   "source": [
    "## Das logische ODER\n",
    "\n",
    "Beim logischen ODER muss nur eine der Bedingungen erfüllt sein, damit insgesamt\n",
    "die kombinierte Bedingung erfüllt ist. Die Bedingung ist auch erfüllt, wenn\n",
    "beide Teilbedingungen wahr sind. Vergleichbar ist dies mit einer\n",
    "Parallelschaltung in der Elektrotechnik: Es reicht, wenn einer der beiden\n",
    "Schalter eingeschaltet ist, damit der Strom fließen kann.\n",
    "\n",
    "Hier finden Sie ein erläuterndes Video (ca. 2:42 min) zur ODER-Schaltung:\n",
    "\n",
    "<https://www.youtube.com/watch?v=UNkXbvSN9w8>\n",
    "\n",
    "Die Wahrheitstabelle für das logische ODER:\n",
    "\n",
    "Bedingung 1 | Bedingung 2 | Ergebnis mit ```or```\n",
    "------------|-------------|--------------------------\n",
    "True | True | True\n",
    "False | True | True\n",
    "True | False | True\n",
    "False | False | False\n",
    "\n",
    "Beispiel aus der Produktion: Ein Notaus-System muss aktiviert werden, wenn\n",
    "entweder der Temperaturwert zu hoch ist ODER der Druckwert einen kritischen Wert\n",
    "überschreitet:"
   ]
  },
  {
   "cell_type": "code",
   "execution_count": null,
   "id": "45e1ba70",
   "metadata": {},
   "outputs": [],
   "source": [
    "temperatur = 95  # in Grad Celsius\n",
    "druck = 4.8      # in bar\n",
    "\n",
    "if (temperatur > 90) or (druck > 5.0):\n",
    "    print('WARNUNG: Notabschaltung wird eingeleitet!')\n",
    "else:\n",
    "    print('System arbeitet im normalen Betriebsbereich.')"
   ]
  },
  {
   "cell_type": "markdown",
   "id": "328f6b45",
   "metadata": {},
   "source": [
    "Python verwendet eine sogenannte **Kurzschlussauswertung** für logische\n",
    "Operatoren. Dies bedeutet:\n",
    "\n",
    "* Bei einem `and`-Ausdruck: Wenn der erste Teil `False` ist, wird der zweite\n",
    "  Teil nicht mehr ausgewertet.\n",
    "* Bei einem `or`-Ausdruck: Wenn der erste Teil `True` ist, wird der zweite Teil\n",
    "  nicht mehr ausgewertet.\n",
    "\n",
    "Dies kann man sich zur Verbesserung der Performance zunutze machen, indem man\n",
    "bei `and`-Verknüpfungen die Bedingung mit der höheren Wahrscheinlichkeit für\n",
    "`False` zuerst platziert.\n",
    "\n",
    "**Mini-Übung**\n",
    "Schreiben Sie ein Programm für ein Alarmsystem einer CNC-Fräse. Das System soll\n",
    "einen Alarm auslösen, wenn:\n",
    "\n",
    "1. Die Drehzahl unter 500 U/min fällt oder über 2000 U/min steigt\n",
    "2. Die Kühlmitteltemperatur über 60°C steigt\n",
    "\n",
    "Lassen Sie die Werte vom Benutzer eingeben und geben Sie eine entsprechende\n",
    "Meldung aus."
   ]
  },
  {
   "cell_type": "code",
   "execution_count": null,
   "id": "80c95ecf",
   "metadata": {},
   "outputs": [],
   "source": [
    "# Hier Ihr Code"
   ]
  },
  {
   "cell_type": "markdown",
   "id": "92173601",
   "metadata": {},
   "source": [
    "## Das logische NICHT\n",
    "\n",
    "Das logische NICHT kehrt eine Aussage um. Wenn eine Bedingung wahr ist, wird sie\n",
    "falsch und umgekehrt. In Python verwenden wir den Operator `not` für diese\n",
    "Umkehrung.\n",
    "\n",
    "Die Wahrheitstabelle für das logische NICHT:\n",
    "\n",
    "Bedingung | Ergebnis mit ```not```\n",
    "----------|--------------------------\n",
    "True | False\n",
    "False | True\n",
    "\n",
    "Beispiel aus dem Maschinenbau: Eine Maschine darf nicht gestartet werden, wenn\n",
    "der Wartungsmodus aktiviert ist:"
   ]
  },
  {
   "cell_type": "code",
   "execution_count": null,
   "id": "23cf5561",
   "metadata": {},
   "outputs": [],
   "source": [
    "wartungsmodus_aktiv = True\n",
    "\n",
    "if not wartungsmodus_aktiv:\n",
    "    print('Maschine kann gestartet werden.')\n",
    "else:\n",
    "    print('Maschine im Wartungsmodus: Start nicht möglich.')"
   ]
  },
  {
   "cell_type": "markdown",
   "id": "76c2e913",
   "metadata": {},
   "source": [
    "Die Verwendung von `not` kann oft komplexe Bedingungen vereinfachen. Statt zu\n",
    "prüfen, ob ein Wert außerhalb eines Bereichs liegt, kann man prüfen, ob er nicht\n",
    "innerhalb des Bereichs liegt:"
   ]
  },
  {
   "cell_type": "code",
   "execution_count": null,
   "id": "00f63c90",
   "metadata": {},
   "outputs": [],
   "source": [
    "temperatur = 78\n",
    "\n",
    "# Diese beiden Bedingungen sind äquivalent\n",
    "if (temperatur < 60) or (temperatur > 85):\n",
    "    print('Temperatur außerhalb des Betriebsbereichs.')\n",
    "    \n",
    "if not (60 <= temperatur <= 85):\n",
    "    print('Temperatur außerhalb des Betriebsbereichs.')"
   ]
  },
  {
   "cell_type": "markdown",
   "id": "757f095a",
   "metadata": {},
   "source": [
    "## Priorität der logischen Operatoren\n",
    "\n",
    "Bei mehreren logischen Operatoren in einem Ausdruck ist die Reihenfolge der\n",
    "Auswertung wichtig. In Python gilt folgende Priorität:\n",
    "\n",
    "1. Klammern `()`\n",
    "2. Nicht `not`\n",
    "3. Und `and`\n",
    "4. Oder `or`\n",
    "\n",
    "Zur Verdeutlichung einige Beispiele:"
   ]
  },
  {
   "cell_type": "code",
   "execution_count": null,
   "id": "41c5b66a",
   "metadata": {},
   "outputs": [],
   "source": [
    "# Priorität der logischen Operatoren\n",
    "a = True\n",
    "b = False\n",
    "c = True\n",
    "\n",
    "# not hat Vorrang vor and\n",
    "ergebnis1 = not a and b  # entspricht (not a) and b\n",
    "print(f\"not a and b = {ergebnis1}\")\n",
    "\n",
    "# and hat Vorrang vor or\n",
    "ergebnis2 = a and b or c  # entspricht (a and b) or c\n",
    "print(f\"a and b or c = {ergebnis2}\")\n",
    "\n",
    "# Klammern ändern die Priorität\n",
    "ergebnis3 = a and (b or c)  # erst b or c, dann and\n",
    "print(f\"a and (b or c) = {ergebnis3}\")"
   ]
  },
  {
   "cell_type": "markdown",
   "id": "0fcc364e",
   "metadata": {},
   "source": [
    "Um Missverständnisse zu vermeiden, ist es oft ratsam, Klammern zu setzen, auch\n",
    "wenn sie aufgrund der Prioritätsregeln nicht unbedingt nötig wären. Dies\n",
    "verbessert die Lesbarkeit des Codes.\n",
    "\n",
    "**Mini-Übung**\n",
    "Überlegen Sie zunächst, was das Ergebnis der folgenden logischen Verknüpfungen\n",
    "ist (wahr oder falsch):\n",
    "\n",
    "1. True and True\n",
    "2. True or False\n",
    "3. not True\n",
    "4. False or True\n",
    "5. True or (not False)\n",
    "6. (not True) and False\n",
    "7. not (True or False)\n",
    "8. (not False) or (False and False)\n",
    "\n",
    "Prüfen Sie Ihre Antworten anschließend im Python-Interpreter."
   ]
  },
  {
   "cell_type": "code",
   "execution_count": null,
   "id": "ae0d67a3",
   "metadata": {},
   "outputs": [],
   "source": [
    "# Hier Ihr Code"
   ]
  },
  {
   "cell_type": "markdown",
   "id": "97d1b552",
   "metadata": {},
   "source": [
    "## Zusammenfassung und Ausblick\n",
    "\n",
    "Die booleschen Operatoren `and`, `or` und `not` sind fundamentale Werkzeuge für\n",
    "die Programmierung von Bedingungen in Python. Sie ermöglichen die Formulierung\n",
    "komplexer Entscheidungslogik und sind besonders für Steuerungs- und\n",
    "Regelungsanwendungen von großer Bedeutung. Im nächsten Kapitel beschäftigen wir\n",
    "uns mit Schleifen."
   ]
  }
 ],
 "metadata": {
  "jupytext": {
   "formats": "ipynb"
  },
  "kernelspec": {
   "display_name": "Python 3 (ipykernel)",
   "language": "python",
   "name": "python3"
  }
 },
 "nbformat": 4,
 "nbformat_minor": 5
}
