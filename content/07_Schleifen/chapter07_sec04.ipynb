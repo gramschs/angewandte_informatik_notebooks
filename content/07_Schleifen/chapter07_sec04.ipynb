{
 "cells": [
  {
   "cell_type": "markdown",
   "id": "82b5a876",
   "metadata": {},
   "source": [
    "# Übungen\n",
    "\n",
    "## Übung 7.1\n",
    "\n",
    "Schreiben Sie ein Programm, das einen Benutzer oder eine Benutzerin auffordert,\n",
    "ein Passwort einzugeben (initialisieren Sie vorab ein Passwort). Drei Versuche\n",
    "sind möglich. Bei dreimaliger Falscheingabe soll das Programm abgebrochen\n",
    "werden."
   ]
  },
  {
   "cell_type": "code",
   "execution_count": null,
   "id": "1262e6b6",
   "metadata": {},
   "outputs": [],
   "source": [
    "# Hier Ihr Code"
   ]
  },
  {
   "cell_type": "markdown",
   "id": "149236a5",
   "metadata": {},
   "source": [
    "## Übung 7.2\n",
    "\n",
    "Erstellen Sie ein einfaches Programm, das einen Werkzeugkatalog mit Preisen\n",
    "verwaltet. Das Programm soll:\n",
    "\n",
    "1. Ein Dictionary mit 4 Werkzeugen und deren Preisen erstellen.\n",
    "2. Den Preis eines bestimmten Werkzeugs ausgeben.\n",
    "3. Ein neues Werkzeug zum Katalog hinzufügen.\n",
    "4. Alle Werkzeuge mit ihren Preisen anzeigen."
   ]
  },
  {
   "cell_type": "code",
   "execution_count": null,
   "id": "dbdf7fc6",
   "metadata": {},
   "outputs": [],
   "source": [
    "# Hier Ihr Code"
   ]
  },
  {
   "cell_type": "markdown",
   "id": "a34e34a4",
   "metadata": {},
   "source": [
    "## Übung 7.3\n",
    "\n",
    "Schreiben Sie einen 1x1-Trainer. Gehen Sie dabei wie folgt vor:\n",
    "\n",
    "1. Schreiben Sie eine *Funktion*, die eine 1x1-Aufgabe stellt (zum Beispiel:\n",
    "   Wieviel ist 3 x 5?). Die Funktion soll überprüfen, ob die eingegebene Antwort\n",
    "   korrekt ist. Bei einer falschen Antowrt soll das richtige Ergebnis ausgegeben\n",
    "   werden.\n",
    "2. Im Hauptprogramm soll der Benuzter gefragt werden, wie viele 1x1-Aufgaben\n",
    "   trainiert werden sollen. Danach sollen entsprechend viele aufgaben gestellt\n",
    "   werden. Am Ende soll das Hauptprogramm dem Benuzter mitteilen, wieviel\n",
    "   Prozent der Aufgaben korrekt gelöst wurden."
   ]
  },
  {
   "cell_type": "code",
   "execution_count": null,
   "id": "5c45b101",
   "metadata": {},
   "outputs": [],
   "source": [
    "# Hier Ihr Code"
   ]
  },
  {
   "cell_type": "markdown",
   "id": "3c4fab84",
   "metadata": {},
   "source": [
    "## Übung 7.4\n",
    "\n",
    "Schreiben Sie das Spiel \"Zahlenraten\". Der Computer denkt sich eine Zahl\n",
    "zwischen 1 und 100 aus. Dann fragt er Sie solange, welche Zahl er sich\n",
    "ausgedacht hat, bis Sie die korrekte Zahl geraten haben. Außerdem gibt er Ihnen\n",
    "Hinweise, z.B. \"Meine gedachte Zahl ist kleiner.\" oder \"Meine gedachte Zahl ist\n",
    "größer.\" Sobald Sie die Zahl geraten haben, gibt der Computer aus, wie viele\n",
    "Versuche Sie gebraucht haben und beendet das Spiel."
   ]
  },
  {
   "cell_type": "code",
   "execution_count": null,
   "id": "3ebc0bf7",
   "metadata": {},
   "outputs": [],
   "source": [
    "# Hier Ihr Code"
   ]
  },
  {
   "cell_type": "markdown",
   "id": "64487f73",
   "metadata": {},
   "source": [
    "## Übung 7.5\n",
    "\n",
    "Programmieren Sie einen Random Walk. Ein Random Walk ist eine zufällige\n",
    "Irrfahrt. Der Turtle-Roboter soll zufällig eine Richtung bestimmen (0, 90, 180\n",
    "oder 270 Grad) und 20 Schritte in diese Richtung gehen. Danach wird eine neue\n",
    "Richtung zufällig bestimmt und der Roboter bewegt sich erneut 20 Schritte.\n",
    "\n",
    "Lassen Sie abfragen, wie viele Male diese Prozedur wiederholt werden soll.\n",
    "Testen Sie beispielsweise 100 mal. Verlässt der Roboter dabei das Turtle-Feld?"
   ]
  },
  {
   "cell_type": "code",
   "execution_count": null,
   "id": "4a08f3c1",
   "metadata": {},
   "outputs": [],
   "source": [
    "# Hier Ihr Code"
   ]
  }
 ],
 "metadata": {
  "jupytext": {
   "formats": "ipynb,md:myst"
  },
  "kernelspec": {
   "display_name": "Python 3 (ipykernel)",
   "language": "python",
   "name": "python3"
  }
 },
 "nbformat": 4,
 "nbformat_minor": 5
}
