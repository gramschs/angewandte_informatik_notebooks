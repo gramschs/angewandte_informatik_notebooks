{
 "cells": [
  {
   "cell_type": "markdown",
   "id": "280e4e6f",
   "metadata": {},
   "source": [
    "# Übungen\n",
    "\n",
    "## Übung 1.1\n",
    "\n",
    "Installieren Sie Anaconda und Python auf Ihrem PC oder Laptop. Starten Sie die\n",
    "Software JupyterLab. Laden Sie dieses Jupyter Notebook herunter und öffnen\n",
    "Sie es mit der Software JupyterLab."
   ]
  },
  {
   "cell_type": "markdown",
   "id": "70294292",
   "metadata": {},
   "source": [
    "## Übung 1.2\n",
    "\n",
    "Benutzen Sie Python als Taschenrechner. Fügen Sie dazu diesem Jupyter Notebook eine Code-Zelle hinzu und lassen Sie die folgenden Ausdrücke berechnen:\n",
    "* 2 + 3\n",
    "* 2 - 3\n",
    "* 4 * 5\n",
    "* 16 / 4\n",
    "* 16 / 3\n",
    "* 5**2"
   ]
  },
  {
   "cell_type": "markdown",
   "id": "4929673a",
   "metadata": {},
   "source": [
    "## Übung 1.3\n",
    "\n",
    "In der vorhergehenden Aufgabe haben Sie den Ausdruck `5**2` berechnen lassen.\n",
    "Fügen Sie jetzt eine Markdown-Zelle ein. Schreiben Sie auf, was Ihrer Vermutung\n",
    "nach der `**`-Operator für eine Bedeutung hat. Recherchieren Sie anschließend im\n",
    "Internet, nach der Bedeutung und vergleichen Sie Ihre Antwort mit der Recherche.\n",
    "Fügen Sie die Internetseite als URL in die Markdown-Zelle ein."
   ]
  },
  {
   "cell_type": "markdown",
   "id": "115927a2",
   "metadata": {},
   "source": [
    "## Übung 1.4\n",
    "\n",
    "Speichern Sie das bearbeitete Jupyter Notebook unter einem anderen Namen ab.\n"
   ]
  }
 ],
 "metadata": {
  "jupytext": {
   "cell_metadata_filter": "-all",
   "formats": "ipynb,md:myst",
   "main_language": "python"
  },
  "kernelspec": {
   "display_name": "Python 3 (ipykernel)",
   "language": "python",
   "name": "python3"
  }
 },
 "nbformat": 4,
 "nbformat_minor": 5
}
