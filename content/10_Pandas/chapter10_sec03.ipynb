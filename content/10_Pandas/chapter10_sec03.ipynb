{
 "cells": [
  {
   "cell_type": "markdown",
   "id": "a879bf29",
   "metadata": {},
   "source": [
    "# 10.3 Statistik mit Pandas\n",
    "\n",
    "## Lernziele\n",
    "\n",
    "* Sie können sich mit **describe** eine Übersicht über statistische Kennzahlen\n",
    "  verschaffen.\n",
    "* Sie wissen, wie Sie die Anzahl der gültigen Einträge mit **count** ermitteln.\n",
    "* Sie kennen die statistischen Kennzahlen Mittelwert und Standardabweichung und\n",
    "  wissen, wie diese mit **mean** und **std** berechnet werden.\n",
    "* Sie können das Minimum und das Maximum mit **min** und **max** bestimmen.\n",
    "* Sie wissen wie ein Quantil interpretiert wird und wie es mit **quantile**\n",
    "  berechnet wird.\n",
    "\n",
    "## Schnelle Übersicht mit .describe()\n",
    "\n",
    "So wie die Methode `.info()` uns einen schnellen Überblick über die Daten eines\n",
    "DataFrame-Objektes gibt, so liefert die Methode `.describe()` eine schnelle\n",
    "Übersicht über statistische Kennzahlen. Wir bleiben bei unserem Beispiel der\n",
    "Spielerdaten der Top7-Fußballvereine der Bundesligasaison 2020/21."
   ]
  },
  {
   "cell_type": "code",
   "execution_count": null,
   "id": "3a7300f2",
   "metadata": {},
   "outputs": [],
   "source": [
    "import pandas as pd\n",
    "\n",
    "data = pd.read_csv('bundesliga_top7_offensive.csv', index_col=0)\n",
    "data.head(10)"
   ]
  },
  {
   "cell_type": "markdown",
   "id": "c916a4cb",
   "metadata": {},
   "source": [
    "Die Anwendung der `.describe()`-Methode liefert folgende Ausgabe:"
   ]
  },
  {
   "cell_type": "code",
   "execution_count": null,
   "id": "4d152b9d",
   "metadata": {},
   "outputs": [],
   "source": [
    "data.describe()"
   ]
  },
  {
   "cell_type": "markdown",
   "id": "b2c33e5a",
   "metadata": {},
   "source": [
    "Da es sich eingebürgert hat, Daten zeilenweise abzuspeichern und die Eigenschaft\n",
    "pro einzelnem Datensatz in den Spalten zu speichern, wertet `.describe()` jede\n",
    "Spalte für sich aus. Für jede Eigenschaft werden dann die statistischen\n",
    "Kennzahlen\n",
    "\n",
    "* count\n",
    "* mean\n",
    "* std\n",
    "* min\n",
    "* max\n",
    "* Quantile 25 %, 50 % und 75 %\n",
    "* max\n",
    "\n",
    "ausgegeben.\n",
    "\n",
    "Die Bedeutung der Kennzahlen wird in der\n",
    "[Pandas-Dokumentation/DataFrame.describe](https://pandas.pydata.org/docs/reference/api/pandas.DataFrame.describe.html)\n",
    "erläutert. Wir gehen dennoch jede Kennzahl einzeln durch.\n",
    "\n",
    "## Anzahl count\n",
    "\n",
    "Mit `.count()` wird die Anzahl der Einträge bestimmt, die *nicht* 'NA' sind. Der\n",
    "Begriff 'NA' stammt dabei aus dem Bereich Data Science. Gemeint sind fehlende\n",
    "Einträge, wobei die fehlenden Einträge verschiedene Ursachen haben können:\n",
    "\n",
    "* NA = not available (der Messsensor hat versagt)\n",
    "* NA = not applicable (es ist sinnlos bei einem Mann nachzufragen, ob er\n",
    "  schwanger ist)\n",
    "* NA = no answer (eine Person hat bei dem Umfrage nichts angegeben)\n",
    "\n",
    "Wir können auch direkt auf diesen Wert zugreifen, wenn wir beispielsweise wissen\n",
    "wollen, bei wie vielen Fußballspielern ein Alter eingetragen ist. Wird die\n",
    "Methode `.count()` direkt auf den kompletten DataFrame angewendet, so erhalten\n",
    "wir ein Pandas-Series-Objekt."
   ]
  },
  {
   "cell_type": "code",
   "execution_count": null,
   "id": "6d379477",
   "metadata": {},
   "outputs": [],
   "source": [
    "print(data.count())"
   ]
  },
  {
   "cell_type": "markdown",
   "id": "79b0c051",
   "metadata": {},
   "source": [
    "Um jetzt an die Anzahl gültiger Altersangaben zu kommen, können wir entweder\n",
    "erst die Spalte mit dem Alter heraussgreifen und darauf `.count()` anwenden."
   ]
  },
  {
   "cell_type": "code",
   "execution_count": null,
   "id": "18029b92",
   "metadata": {},
   "outputs": [],
   "source": [
    "methode01 = data.loc[:, 'Age'].count()\n",
    "print(methode01)"
   ]
  },
  {
   "cell_type": "markdown",
   "id": "7c1934ba",
   "metadata": {},
   "source": [
    "Oder wir wenden zuerst `.count()`an und wählen dann im Series-Objekt das Alter\n",
    "'Age' aus."
   ]
  },
  {
   "cell_type": "code",
   "execution_count": null,
   "id": "259af921",
   "metadata": {},
   "outputs": [],
   "source": [
    "methode02 = data.count().loc['Age']\n",
    "print(methode02)"
   ]
  },
  {
   "cell_type": "markdown",
   "id": "5151fa37",
   "metadata": {},
   "source": [
    "## Mittelwert mean\n",
    "\n",
    "Mittelwert heißt auf Englisch mean. Daher ist es nicht verwunderlich, dass die Methode `.mean()` den Mittelwert der Einträge in jeder Spalte berechnet."
   ]
  },
  {
   "cell_type": "code",
   "execution_count": null,
   "id": "3c12f763",
   "metadata": {},
   "outputs": [],
   "source": [
    "mittelwert = data.mean(numeric_only=True)\n",
    "print(mittelwert)"
   ]
  },
  {
   "cell_type": "markdown",
   "id": "8d6763b2",
   "metadata": {},
   "source": [
    "An der Stelle ist es wichtig, die Option `numeric_only=True` zu setzen, damit\n",
    "nur von numerischen Werten, also Zahlen, der Mittelwert gebildet wird.\n",
    "\n",
    "Wir entnehmen der Statistik, dass Fußballer der Top7-Vereine im Mittel 24.9\n",
    "Jahre alt sind und 1321.6 Minuten im Einsatz waren.\n",
    "\n",
    "Falls Sie prinzipiell nochmal die Berechnung des Mittelwertes wiederholen\n",
    "wollen, können Sie folgendes Video ansehen.\n",
    "\n",
    "```{dropdown} Video \"Mittelwert\" von Datatab\n",
    "<iframe width=\"560\" height=\"315\" src=\"https://www.youtube.com/embed/IKfsGPwACnU\"\n",
    "title=\"YouTube video player\" frameborder=\"0\" allow=\"accelerometer; autoplay;\n",
    "clipboard-write; encrypted-media; gyroscope; picture-in-picture\" allowfullscreen></iframe>\n",
    "```\n",
    "\n",
    "## Standardabweichung std\n",
    "\n",
    "Das 'st' in `.std()` steht für Standard. Der dritte Buchstabe 'd' kommt von\n",
    "'deviation', also Abweichung. Somit ist wiederum die Methode nach dem englischen\n",
    "Fachbegriff 'standard deviation' benannt.  Welche Standardabweichung erhalten\n",
    "wir beim Alter?"
   ]
  },
  {
   "cell_type": "code",
   "execution_count": null,
   "id": "e060f447",
   "metadata": {},
   "outputs": [],
   "source": [
    "standardabweichung = data.std(numeric_only=True)\n",
    "print(standardabweichung)"
   ]
  },
  {
   "cell_type": "markdown",
   "id": "a7860b84",
   "metadata": {},
   "source": [
    "Es sind 4.3 Jahre. Das haben wir jetzt der Ausgabe abgelesen. Wenn wir den Wert\n",
    "extrahieren wollen, gibt es wieder die beiden Methoden. Entweder erst Spalte und\n",
    "dann `.std()` oder erst `.std()` und dann Selektion nach 'Age'. Probieren wir es\n",
    "aus."
   ]
  },
  {
   "cell_type": "code",
   "execution_count": null,
   "id": "be4a6224",
   "metadata": {},
   "outputs": [],
   "source": [
    "alter_std = data.loc[:, 'Age'].std()\n",
    "print(alter_std) "
   ]
  },
  {
   "cell_type": "markdown",
   "id": "ae98341f",
   "metadata": {},
   "source": [
    "Was war eigentlich nochmal die Standardabweichung? Falls Sie dazu eine kurze\n",
    "Wiederholung der Theorie benötigen, empfehle ich Ihnen dieses Video.\n",
    "\n",
    "```{dropdown} Video \"Standardabweichung\" von Datatab\n",
    "<iframe width=\"560\" height=\"315\" src=\"https://www.youtube.com/embed/QNNt7BvmUJM\"\n",
    "title=\"YouTube video player\" frameborder=\"0\" allow=\"accelerometer; autoplay;\n",
    "clipboard-write; encrypted-media; gyroscope; picture-in-picture\" allowfullscreen></iframe>\n",
    "```\n",
    "\n",
    "## Minimum und Maximum mit min und max\n",
    "\n",
    "Die Namen der Methoden `.min()` und `max()` sind fast schon wieder\n",
    "selbsterklärend. Die Methode `.min()` liefert den kleinsten Werte zurück, der in\n",
    "einer Spalte gefunden wird. Umgekehrt liefert `.max()` den größten Eintrag, der\n",
    "in jeder Spalte gefunden wird. Wie häufig die minimalen und maximalen Werte\n",
    "vorkommen, ist dabei egal.\n",
    "\n",
    "Schauen wir uns an, was die minimale Anzahl von Toren ist, die geschossen wurden\n",
    "(haben Sie eine Vermutung). Und dann schauen wir gleich nach, was die maximale\n",
    "Anzahl von Toren ist."
   ]
  },
  {
   "cell_type": "code",
   "execution_count": null,
   "id": "908c47da",
   "metadata": {},
   "outputs": [],
   "source": [
    "tore_min = data.loc[:, 'Goals'].min()\n",
    "print(tore_min)\n",
    "\n",
    "tore_max = data.loc[:, 'Goals'].max()\n",
    "print(tore_max)"
   ]
  },
  {
   "cell_type": "markdown",
   "id": "2a0861ef",
   "metadata": {},
   "source": [
    "Wenig verwunderlich ist die minimale Anzahl an Toren 0. Die maximale Anzahl an\n",
    "Toren, die ein oder mehrere Spieler der Top7 in der Saison 2020/21 geschossen\n",
    "haben, war 41\\. (Wahrscheinlich wissen Sie aber, dass nur ein Spieler 41 Tore\n",
    "geschafft hat, natürlich Lewandowski).\n",
    "\n",
    "Von Verteidigern wird nicht erwartet, Tore zu schießen, sondern von Stürmern.\n",
    "Was ist denn das Minimum an Toren bei den Stürmern? Die Positionen sind in der\n",
    "Spalte 'Position'. Dabei bedeutet FW = forward = Stürmer, MF = mid field =\n",
    "Mittelfeld, DF = defensive = Verteidigung und GK = goalkeeper = Torwart. Bei\n",
    "manchen Spielern stehen zwei Positionen, konzentrieren wir uns auf diejenigen,\n",
    "bei denen nur 'FW' eingetragen ist."
   ]
  },
  {
   "cell_type": "code",
   "execution_count": null,
   "id": "40272279",
   "metadata": {},
   "outputs": [],
   "source": [
    "filter = data.loc[:, 'Position'] == 'FW'\n",
    "stuermer = data.loc[filter, 'Goals']\n",
    "\n",
    "print('Stürmer')\n",
    "print(stuermer)\n",
    "\n",
    "print('==============')\n",
    "print(f'Minimale Tore: {stuermer.min()}')"
   ]
  },
  {
   "cell_type": "markdown",
   "id": "75856b5f",
   "metadata": {},
   "source": [
    "## Quantil mit quantile\n",
    "\n",
    "Das Quantil $p \\%$ ist der Wert, bei dem $p %$ der Einträge kleiner oder gleich\n",
    "als diese Zahl sind und $100 \\% - p \\%$ sind größer. Meist werden nicht\n",
    "Prozentzahlen verwendet, sondern p ist zwischen 0 und 1, wobei die 1 für 100 %\n",
    "steht.\n",
    "\n",
    "Angenommen, wir würden gerne das 0.5-Quantil (auch Median genannt) der gelben\n",
    "Karten wissen. Mit der Methode `.quantile()` können wir diesen Wert leicht aus\n",
    "den Daten holen."
   ]
  },
  {
   "cell_type": "code",
   "execution_count": null,
   "id": "40db655d",
   "metadata": {},
   "outputs": [],
   "source": [
    "gelbe_karten_50prozent_quantil = data.loc[:, 'Yellow_Cards'].quantile(0.5)\n",
    "print(gelbe_karten_50prozent_quantil)"
   ]
  },
  {
   "cell_type": "markdown",
   "id": "d1e2642e",
   "metadata": {},
   "source": [
    "Das 50 % -Quantil liegt bei 2 gelben Karten. 50 % aller Spieler haben also\n",
    "weniger als 2 gelbe Karten oder genau 2 gelbe Karten kassiert. Und 50 % aller\n",
    "Spieler haben 2 oder mehr gelbe Karten kassiert. Wir schauen uns jetzt das 75 %\n",
    "Quantil an."
   ]
  },
  {
   "cell_type": "code",
   "execution_count": null,
   "id": "86f90271",
   "metadata": {},
   "outputs": [],
   "source": [
    "gelbe_karten_75prozent_quantil = data.loc[:, 'Yellow_Cards'].quantile(0.75)\n",
    "print(gelbe_karten_75prozent_quantil)"
   ]
  },
  {
   "cell_type": "markdown",
   "id": "214f4d14",
   "metadata": {},
   "source": [
    "75 % aller Spieler haben weniger als 4 gelbe Karten bekommen. Schauen wir uns\n",
    "die Gelbkarten-Spieler an. Ob da vielleicht mehrheitlich Defensivspieler dabei\n",
    "sind?"
   ]
  },
  {
   "cell_type": "code",
   "execution_count": null,
   "id": "a842999b",
   "metadata": {},
   "outputs": [],
   "source": [
    "filter = data.loc[:, 'Yellow_Cards'] > 4.0\n",
    "gelbkarten_spieler = data.loc[filter, ['Position', 'Yellow_Cards']]\n",
    "print(gelbkarten_spieler.sort_values(by='Yellow_Cards', ascending=False))"
   ]
  },
  {
   "cell_type": "markdown",
   "id": "3f0c0c4a",
   "metadata": {},
   "source": [
    "## Zusammenfassung und Ausblick\n",
    "\n",
    "In diesem Abschnitt haben wir uns mit einfachen statistischen Kennzahlen\n",
    "beschäftigt, die Pandas mit der Methode `.describe()` zusammenfasst, die aber\n",
    "auch einzeln über\n",
    "\n",
    "* `.count()`\n",
    "* `.mean()`\n",
    "* `.std()`\n",
    "* `.min()` und `.max()`\n",
    "* `.quantile()`\n",
    "\n",
    "berechnet und ausgegeben werden können. Im nächsten Kapitel werden wir lernen,\n",
    "die Daten zu visualisieren."
   ]
  }
 ],
 "metadata": {
  "jupytext": {
   "formats": "ipynb,md:myst"
  },
  "kernelspec": {
   "display_name": "Python 3 (ipykernel)",
   "language": "python",
   "name": "python3"
  }
 },
 "nbformat": 4,
 "nbformat_minor": 5
}
