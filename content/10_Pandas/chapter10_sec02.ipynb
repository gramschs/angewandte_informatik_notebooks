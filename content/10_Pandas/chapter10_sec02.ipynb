{
 "cells": [
  {
   "cell_type": "markdown",
   "id": "721c2e28",
   "metadata": {},
   "source": [
    "# 10.2 Arbeiten mit Tabellendaten\n",
    "\n",
    "Eine Tabellenkalkulationssoftware wie LibreOffice Calc, Excel oder Number ist\n",
    "nicht nur nützlich, um Daten zu sammeln, sondern auch um sie zu bearbeiten. In\n",
    "diesem Kapitel geht es darum zu lernen, wie mit Pandas auf einzelne Zeilen,\n",
    "Spalten oder Zellen zugegriffen wird.\n",
    "\n",
    "## Lernziele\n",
    "\n",
    "* Sie können auf ganze Zeilen und Spalten zugreifen:\n",
    "  * Zugriff auf eine einzelne Zeile oder Spalte, indem ein Index spezifiziert wird\n",
    "  * Zugriff auf mehrere zusammenhängende Zeilen oder Spalten (Slice) \n",
    "  * Zugriff auf mehrere unzusammenhängende Zeilen oder Spalten (Selektion)\n",
    "* Sie können auf einzelne oder mehrere Zellen der Tabelle zugreifen.\n",
    "* Sie können ein DataFrame-Objekt nach einer Eigenschaft filtern.\n",
    "\n",
    "## Zugriff auf Spalten\n",
    "\n",
    "Für die folgenden Demonstrationen wollen wir wiederum die Spielerdaten der\n",
    "Top7-Fußballvereine der Bundesligasaison 2020/21 verwenden. Importieren Sie\n",
    "bitte vorab die Daten und verwenden Sie die 1. Spalte (= Namen) als Zeilenindex."
   ]
  },
  {
   "cell_type": "code",
   "execution_count": null,
   "id": "110f370e",
   "metadata": {},
   "outputs": [],
   "source": [
    "import pandas as pd\n",
    "data = pd.read_csv('bundesliga_top7_offensive.csv', index_col=0)\n",
    "data.head(10)"
   ]
  },
  {
   "cell_type": "markdown",
   "id": "6500b8c0",
   "metadata": {},
   "source": [
    "### Einzelne Spalte\n",
    "\n",
    "Der Zugriff auf Spalten wird am häufigsten gebraucht, da üblicherweise in den\n",
    "Spalten die Merkmale der Datenobjekte stehen. Daher bietet Pandas dafür einen\n",
    "direkten Zugriff über die eckigen Klammern `[ ]` an.\n",
    "\n",
    "![Einzelne Spalten einer\n",
    "Tabelle](https://gramschs.github.io/book_python/_images/tabelle_spalte_einzeln.png)\n",
    "Auf eine einzelne Spalte der Tabelle wird mit `[spaltenindex]` zugegriffen.\n",
    "\n",
    "Das Alter der Fußballspieler erhalten wir somit mit dem Spaltenindex `Age`."
   ]
  },
  {
   "cell_type": "code",
   "execution_count": null,
   "id": "bfb24e39",
   "metadata": {},
   "outputs": [],
   "source": [
    "alter = data['Age']\n",
    "print(alter)"
   ]
  },
  {
   "cell_type": "markdown",
   "id": "6daed515",
   "metadata": {},
   "source": [
    "### Selektion Spalten per Liste\n",
    "\n",
    "Wir möchten nun die Anzahl der Spiele (`Matches`) und die Anzahl der gespielten\n",
    "Minuten in der kompletten Saison (`Mins`) auswerten, um beispielsweise die\n",
    "durchschnittliche Minutenzahl pro Spiel zu ermitteln. Da die Spalten nicht\n",
    "nebeneinander liegen, müssen wir eine Liste benutzen, um sie zu selektieren. Die\n",
    "Auswahl der Spalten wird in der Fachsprache **Selektion** genannt.\n",
    "\n",
    "![Selektion von Spalten einer Tabelle](https://gramschs.github.io/book_python/_images/tabelle_spalte_selektion.png)\n",
    "Auf mehrere unzusammenhängende Spalten der Tabelle wird mit `[list]`\n",
    "zugegriffen. Das nennt man Selektion.\n",
    "\n",
    "Das folgende Code-Beispiel demonstriert die Selektion zweier Spalten."
   ]
  },
  {
   "cell_type": "code",
   "execution_count": null,
   "id": "dd380870",
   "metadata": {},
   "outputs": [],
   "source": [
    "spiele_minuten = data[['Matches', 'Mins']]\n",
    "print(spiele_minuten)"
   ]
  },
  {
   "cell_type": "markdown",
   "id": "bc1207d2",
   "metadata": {},
   "source": [
    "**Mini-Übung**\n",
    "Lassen Sie sich die folgenden Spalten anzeigen:\n",
    "\n",
    "* Nationality\n",
    "* Nationality, Age und Matches"
   ]
  },
  {
   "cell_type": "code",
   "execution_count": null,
   "id": "de0d494e",
   "metadata": {},
   "outputs": [],
   "source": [
    "# Hier Ihr Code"
   ]
  },
  {
   "cell_type": "markdown",
   "id": "69b906e4",
   "metadata": {},
   "source": [
    "## Zugriff auf Zeilen\n",
    "\n",
    "Der Zugriff auf Zeilen erfordert eine Erweiterung der Syntax. Über das Attribut\n",
    "`loc[]` stellt Pandas nicht nur den Zugriff auf Zeilen zur Verfügung, sondern\n",
    "ermöglicht auch fortgeschritte Zugriffsmöglichkeiten wie beispielsweise das\n",
    "Slicing, wie wir später sehen werden. Aber zunächst starten wir mit dem Zugriff\n",
    "auf einzelne Zeilen.\n",
    "\n",
    "### Einzelne Zeile\n",
    "\n",
    "Uns interessieren die Spielerdaten von Thomas Müller näher.\n",
    "\n",
    "![Eine einzelne Zeile der Tabelle ist markiert.](https://gramschs.github.io/book_python/_images/tabelle_zeile_einzeln.png)\n",
    "Auf eine einzelne Zeile der Tabelle wird mit `.loc[zeilenindex]` zugegriffen.\n",
    "\n",
    "Um eine ganze Zeile aus der Tabelle herauszugreifen, verwenden wir das Attribut\n",
    "`.loc[zeilenindex]` und geben in eckigen Klammern den Index der Zeile an, die\n",
    "wir betrachten wollen. Da wir beim Import die Namen als Zeileindex gesetzt\n",
    "haben, lautet der Zugriff also wie folgt:"
   ]
  },
  {
   "cell_type": "code",
   "execution_count": null,
   "id": "b0920c09",
   "metadata": {},
   "outputs": [],
   "source": [
    "zeile = data.loc['Thomas Müller']\n",
    "print(zeile)"
   ]
  },
  {
   "cell_type": "markdown",
   "id": "9bfe8053",
   "metadata": {},
   "source": [
    "### Selektion Zeilen per Liste\n",
    "\n",
    "Wenn wir auf mehrere Zeilen zugreifen wollen, die nicht zusammenhängen, so nennt\n",
    "man das wie bei den Spalten ebenfalls Selektion.\n",
    "\n",
    "![Auswahl von Zeilen einer\n",
    "Tabelle](https://gramschs.github.io/book_python/_images/tabelle_zeile_selektion.png)\n",
    "Auf mehrere unzusammenhängende Zeilen der Tabelle wird mit `.loc[list]`\n",
    "zugegriffen. Das nennt man Selektion.\n",
    "\n",
    "Um mehrere unzusammenhängende Zeilen zu selektieren, übergeben wir `.loc[]` eine\n",
    "Liste mit den gewünschten Zeilenindizes."
   ]
  },
  {
   "cell_type": "code",
   "execution_count": null,
   "id": "0486dbd6",
   "metadata": {},
   "outputs": [],
   "source": [
    "zeilen_selektion = data.loc[['Manuel Neuer', 'David Alaba']]\n",
    "print(zeilen_selektion)"
   ]
  },
  {
   "cell_type": "markdown",
   "id": "ae998d9b",
   "metadata": {},
   "source": [
    "**Mini-Übung**\n",
    "Lassen Sie sich die folgenden Zeilen anzeigen:\n",
    "\n",
    "* Kingsley Coman\n",
    "* Robert Lewandowski, Kingsley Coman und Serge Gnabry"
   ]
  },
  {
   "cell_type": "code",
   "execution_count": null,
   "id": "fbc742d4",
   "metadata": {},
   "outputs": [],
   "source": [
    "# Hier Ihr Code"
   ]
  },
  {
   "cell_type": "markdown",
   "id": "944a790c",
   "metadata": {},
   "source": [
    "## Slicing\n",
    "\n",
    "Wenn wir auf mehrere Zeilen oder Spalten gleichzeitig zugreifen wollen, gibt es\n",
    "zwei Möglichkeiten:\n",
    "\n",
    "1. Zwischen den einzelnen Zeilen/Spalten sind Lücken, wir haben eine\n",
    "   unzusammenhängende Selektion.\n",
    "2. Die Zeilen oder Spalten folgen direkt aufeinander, sind also zusammenhängend.\n",
    "\n",
    "Den ersten Fall haben wir bereits oben dargestellt. Bei Spalten wird die\n",
    "Selektion über eine Liste und eckige Klammern `[]` realisiert, bei Zeilen über\n",
    "eine Liste, die in `.loc[]` eingesetzt wird.\n",
    "\n",
    "Der Zugriff auf zusammenhängende Bereiche wird in der Informatik **Slicing**\n",
    "genannt. Wir werden uns die beiden Fälle\n",
    "\n",
    "* Slicing für Zeilen\n",
    "* Slicing für Spalten\n",
    "\n",
    "anschauen, aber zunächst betrachten wir das Slicing von Zeilen.\n",
    "\n",
    "### Slicing von Zeilen\n",
    "\n",
    "![Mehrere zusammenhängende Zeilen der Tabelle sind\n",
    "markiert.](https://gramschs.github.io/book_python/_images/tabelle_zeile_slice.png)\n",
    "Auf mehrere zusammenhängende Zeilen der Tabelle wird mit `.loc[start:stopp]`\n",
    "zugegriffen. Das nennt man Slicing.\n",
    "\n",
    "Bei der Angabe des Bereiches gibt man den Anfangsindex gefolgt von einem\n",
    "Doppelpunkt an und dann den Endindex der letzten Zeile, die \"herausgeschnitten\"\n",
    "werden soll."
   ]
  },
  {
   "cell_type": "code",
   "execution_count": null,
   "id": "10358783",
   "metadata": {},
   "outputs": [],
   "source": [
    "zeilen_slice = data.loc['Thomas Müller' : 'Jérôme Boateng']\n",
    "print(zeilen_slice)"
   ]
  },
  {
   "cell_type": "markdown",
   "id": "7232da9b",
   "metadata": {},
   "source": [
    "Beim Slicing können wir den Angangsindex oder den Endindex oder sogar beides\n",
    "weglassen. Wenn wir den Anfangsindex weglassen, fängt Pandas bei der ersten\n",
    "Zeile an. Lassen wir den Endindex weg, geht der Slice automatisch bis zum Ende.\n",
    "\n",
    "Im folgenden Beispiel startet der Slice bei 'Robert Lewandowski'und geht bis zur\n",
    "letzten Zeile. Obwohl nicht alle Zeilendargestellt werden, erkennen wir das an\n",
    "der Anzahl der Zeilen: 173 rows (und 15 Spalten columns). Zur Erinnerung, es\n",
    "sind insgesamt 177 Zeilen."
   ]
  },
  {
   "cell_type": "code",
   "execution_count": null,
   "id": "d51e2d36",
   "metadata": {},
   "outputs": [],
   "source": [
    "data_slice_from_lewandowski = data.loc['Robert Lewandowski': ]\n",
    "print(data_slice_from_lewandowski)"
   ]
  },
  {
   "cell_type": "markdown",
   "id": "1feccf63",
   "metadata": {},
   "source": [
    "### Slicing von Spalten\n",
    "\n",
    "Wenden wir uns nun dem Slicing von Spalten zu. Möchten wir beispielsweise die\n",
    "Anzahl der Spiele (`Matches`), die ein Spieler in der Saison absolviert hat, mit\n",
    "der Anzahl der Spiele, in denen er vom Anfang an auf dem Platz stand (`Starts`)\n",
    "vergleichen, so können wir die beiden aufeinanderfolgenden Spalten 'Matches' und\n",
    "'Starts' als sogenannten **Slice** ausschneiden. Dazu müssen wir jedoch das\n",
    "Attribut `.loc[]` verwenden, das uns fortgeschrittene Techniken des Zugriffs\n",
    "bietet. Allerdings müssen wir Python mitteilen, dass diesmal Spalten und nicht\n",
    "Zeilen gemeint sind. Die Dokumentation von `loc[]` zeigt uns, dass Spalten nach\n",
    "einem Komma angegeben werden. Damit alle Zeilen dabei sind, brauchen wir als\n",
    "erstes Argument den Doppelpunkt.\n",
    "\n",
    "Das folgende Beispiel zeigt das Slicing zweier Spalten."
   ]
  },
  {
   "cell_type": "code",
   "execution_count": null,
   "id": "84b1531f",
   "metadata": {},
   "outputs": [],
   "source": [
    "spiele = data.loc[:, 'Matches' : 'Starts']\n",
    "print(spiele)"
   ]
  },
  {
   "cell_type": "markdown",
   "id": "bdd9886d",
   "metadata": {},
   "source": [
    "## Zugriff auf Zellen\n",
    "\n",
    "Es kann auch vorkommen, dass man gezielt auf eine einzelne Zelle oder einen\n",
    "Bereich von Zellen zugreifen möchte. Auch dazu benutzen wir das Attribut\n",
    "`.loc[]`.\n",
    "\n",
    "Eine Zelle ist ein einzelnes Element der Tabelle, sozusagen der Kreuzungspunkt\n",
    "zwischen Zeile und Spalte. Die Zelle mit dem Zeilenindex `Thomas Müller` und dem\n",
    "Spaltenindex `Age` enthält das Alter von Thomas Müller.\n",
    "\n",
    "![Slice von Spalten einer Tabelle](https://gramschs.github.io/book_python/_images/tabelle_spalte_slice.png)\n",
    "Auf mehrere zusammenhängende Spalten der Tabelle wird mit `.loc[:, start:stopp]`\n",
    "zugegriffen. Das nennt man Slicing.\n",
    "\n",
    "Der Trick ist nun, die drei Möglichkeiten (einzeln, Slice und Selektion per\n",
    "Liste) für die Zeilen mit den gleichen drei Möglichkeiten des Zugriffes für\n",
    "Spalten zu kombinieren.\n",
    "\n",
    "Wollen wir beispielsweise das Alter von Thomas Müller aus der Tabelle\n",
    "heraussuchen, so gehen wir folgendermaßen vor."
   ]
  },
  {
   "cell_type": "code",
   "execution_count": null,
   "id": "ddaeffe3",
   "metadata": {},
   "outputs": [],
   "source": [
    "alter_mueller = data.loc['Thomas Müller', 'Age']\n",
    "print(f'Thomas Müller ist {alter_mueller} Jahre alt.')"
   ]
  },
  {
   "cell_type": "markdown",
   "id": "cc828e7b",
   "metadata": {},
   "source": [
    "Wollen wir Beispielsweise das Alter der Fußballprofis von 'David Alaba' bis\n",
    "'Robert Lewandowski' wissen, so gehen wir folgendermaßen vor:"
   ]
  },
  {
   "cell_type": "code",
   "execution_count": null,
   "id": "45f8e3a3",
   "metadata": {},
   "outputs": [],
   "source": [
    "alter_slice = data.loc['David Alaba' : 'Robert Lewandowski', 'Age']\n",
    "print(alter_slice)"
   ]
  },
  {
   "cell_type": "markdown",
   "id": "2e992711",
   "metadata": {},
   "source": [
    "Und möchten wir von den Herren Thomas Müller und Joshua Kimmich sowhl die\n",
    "Nationalität als auch das Alter selektieren, so gehen wir wie folgt vor:"
   ]
  },
  {
   "cell_type": "code",
   "execution_count": null,
   "id": "224eb206",
   "metadata": {},
   "outputs": [],
   "source": [
    "spezialauswahl = data.loc[ ['Thomas Müller', 'Joshua Kimmich'], ['Nationality', 'Age'] ]\n",
    "print(spezialauswahl)"
   ]
  },
  {
   "cell_type": "markdown",
   "id": "6af75745",
   "metadata": {},
   "source": [
    "**Mini-Übung**\n",
    "Lassen Sie sich das Alter von Robert Lewandowski und Thomas Müller anzeigen."
   ]
  },
  {
   "cell_type": "code",
   "execution_count": null,
   "id": "206dee03",
   "metadata": {},
   "outputs": [],
   "source": [
    "# Hier Ihr Code"
   ]
  },
  {
   "cell_type": "markdown",
   "id": "b6c1e80c",
   "metadata": {},
   "source": [
    "## Filtern\n",
    "\n",
    "Vielleicht haben Sie sich schon gefragt, warum wir nur Bayern-Spieler analysiert\n",
    "haben. Die Antwort ist simpel, Bayern stand im Datensatz oben in den ersten\n",
    "Zeilen. Tatsächlich sind aber die Spielerdaten von sieben Vereinen im Datensatz\n",
    "enthalten. Wir können uns die verschiedenen Werte einer Spalte mit der Methode\n",
    "`.unique()` ansehen.\n",
    "\n",
    "In einem ersten Schritt lesen wir die Spalte mit den Vereinen aus (Spalte\n",
    "'Club'). Dann wenden wir auf das Ergnis die Methode `.unique()` an."
   ]
  },
  {
   "cell_type": "code",
   "execution_count": null,
   "id": "fcf8eac1",
   "metadata": {},
   "outputs": [],
   "source": [
    "vereine = data.loc[:, 'Club']\n",
    "vereinsnamen = vereine.unique()\n",
    "print(vereinsnamen)"
   ]
  },
  {
   "cell_type": "markdown",
   "id": "ee160f53",
   "metadata": {},
   "source": [
    "Wenn man möchte, kann man auch beide Schritte in einem Schritt ausführen:"
   ]
  },
  {
   "cell_type": "code",
   "execution_count": null,
   "id": "96a86de5",
   "metadata": {},
   "outputs": [],
   "source": [
    "vereinsnamen = data.loc[:, 'Club'].unique()\n",
    "print(vereinsnamen)"
   ]
  },
  {
   "cell_type": "markdown",
   "id": "644cb74d",
   "metadata": {},
   "source": [
    "Jetzt wo wir wissen, dass auch Eintracht Frankfurt dabei ist, würden wir den\n",
    "Datensatz gerne nach Eintracht Frankfurt filtern. Dazu benutzen wir einen\n",
    "Vergleich und speichern das Ergebnis des Vergleichs in einer Variablen."
   ]
  },
  {
   "cell_type": "code",
   "execution_count": null,
   "id": "35fd93de",
   "metadata": {},
   "outputs": [],
   "source": [
    "filter_eintracht = data.loc[:, 'Club'] == 'Eintracht Frankfurt'\n",
    "print(filter_eintracht)"
   ]
  },
  {
   "cell_type": "markdown",
   "id": "ad6c4013",
   "metadata": {},
   "source": [
    "Das Ergebnis des Vergleichs, der in der Variablen `filter_eintracht` gespeichert\n",
    "ist, ist ein Pandas-Series-Objekt, das für jede Zeile gespeichert hat, ob der\n",
    "Vergleich wahr (True) oder falsch (False) ist. Ist in einer Zeile der Club\n",
    "gleich 'Eintracht Frankfurt', so ist in dem booleschen Objekt an dieser Stelle\n",
    "True eingetragen und ansonsten False. Der Datenyp dtype wird mit `bool`\n",
    "angegeben.\n",
    "\n",
    "Wir können nun anstatt einer Liste diesen booleschen Index nutzen, um Zeilen zu\n",
    "selektieren. Steht in einer Zeile des booleschen Series-Objektes `True`, so wird\n",
    "diese Zeile ausgewählt. Ansonsten wird die Zeile übersprungen. Damit erhalten\n",
    "wir alle Spielerdaten, die zu Eintracht Frankfurt gehören."
   ]
  },
  {
   "cell_type": "code",
   "execution_count": null,
   "id": "dace3580",
   "metadata": {},
   "outputs": [],
   "source": [
    "eintracht_frankfurt = data.loc[filter_eintracht, :]\n",
    "print(eintracht_frankfurt)"
   ]
  },
  {
   "cell_type": "markdown",
   "id": "a9562b1c",
   "metadata": {},
   "source": [
    "Da der print()-Befehl nicht alle Einträge anzeigt, gehen wir jetzt Zeile für\n",
    "Zeile durch. Den Zeilenindex erhalten wir über das Attribut `.index`:"
   ]
  },
  {
   "cell_type": "code",
   "execution_count": null,
   "id": "cbac75f1",
   "metadata": {},
   "outputs": [],
   "source": [
    "for zeilenindex in eintracht_frankfurt.index:\n",
    "    print(zeilenindex)"
   ]
  },
  {
   "cell_type": "markdown",
   "id": "320d385e",
   "metadata": {},
   "source": [
    "## Zusammenfassung und Ausblick\n",
    "\n",
    "In diesem Abschnitt konnten wir nur die Basis-Funktionalitäten streifen.\n",
    "Natürlich ist auch möglich, Bereiche zu sortieren oder gruppieren. Im nächsten\n",
    "Abschnitt erarbeiten wir uns erste statistische Analysen mit Pandas."
   ]
  }
 ],
 "metadata": {
  "jupytext": {
   "formats": "ipynb,md:myst"
  },
  "kernelspec": {
   "display_name": "Python 3 (ipykernel)",
   "language": "python",
   "name": "python3"
  }
 },
 "nbformat": 4,
 "nbformat_minor": 5
}
