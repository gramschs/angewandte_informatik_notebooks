{
 "cells": [
  {
   "cell_type": "markdown",
   "id": "15f9ff3a",
   "metadata": {},
   "source": [
    "# Übungen\n",
    "\n",
    "## Übung 10.1\n",
    "\n",
    "Laden Sie die Datei\n",
    "[20220801_Marktwert_Bundesliga.csv](https://nextcloud.frankfurt-university.de/s/GESBZzRyXq6dLNC)\n",
    "herunter. Die ersten 5 Zeilen sind Kommentare, die beim Einlesen übersprungen\n",
    "werden sollten. Informieren Sie sich im Internet über die Option `skiprows` und\n",
    "importieren Sie die Daten mit Pandas. Lassen Sie die ersten 10 Zeilen anzeigen.\n",
    "\n",
    "* Welche Daten sind in der Tabelle enthalten?\n",
    "* Welche Spalte wäre gut als Zeilenindex geeignet?\n",
    "\n",
    "Importieren Sie die Daten mit einem geeigneten Zeilenindex."
   ]
  },
  {
   "cell_type": "code",
   "execution_count": null,
   "id": "3b72647e",
   "metadata": {},
   "outputs": [],
   "source": [
    "# Code-Zelle"
   ]
  },
  {
   "cell_type": "markdown",
   "id": "160129ae",
   "metadata": {},
   "source": [
    "## Übung 10.2\n",
    "\n",
    "Laden Sie die Datei\n",
    "[20220801_Marktwert_Bundesliga.csv](https://nextcloud.frankfurt-university.de/s/GESBZzRyXq6dLNC)\n",
    "herunter (siehe vorherige Aufgabe).\n",
    "\n",
    "1. Verschaffen Sie sich einen Überblick: wie viele Spalten gibt es, wie viele\n",
    "   Zeilen und wie viele Einträge sind gültig?\n",
    "2. Filtern Sie die Tabelle nach allen Vereine der 2. Bundesliga (`2.\n",
    "   Bundesliga`) und speichern Sie diese Daten in der Variable `zweite`.\n",
    "3. Lassen Sie sich die statistischen Kennzahlen ausgeben. Was ist der höchste\n",
    "   Kaderwert, was der kleinste? Wie viele Spieler hat ein Verein in der 2.\n",
    "   Bundesliga durchschnittlich?\n",
    "4. Lassen Sie sich die Daten des 1. FC Kaiserslautern anzeigen."
   ]
  },
  {
   "cell_type": "code",
   "execution_count": null,
   "id": "3e57e2f8",
   "metadata": {},
   "outputs": [],
   "source": [
    "# Code-Zelle"
   ]
  },
  {
   "cell_type": "markdown",
   "id": "8ea4011c",
   "metadata": {},
   "source": [
    "## Übung 10.3\n",
    "\n",
    "Schreiben Sie ein Python-Programm, dass das Spiel Galgenmännchen umsetzt. Das\n",
    "Spiel funktioniert folgendermaßen:\n",
    "\n",
    "Der Computer wählt aus einer Liste von Wörtern zufällig eines aus. Anstatt das\n",
    "Wort anzuzeigen, werden Unterstriche angezeigt. Wurde beispielsweise zufällig\n",
    "das Wort \"beispiel\" ausgewählt, so wird\n",
    "\n",
    "<code>__ __ __ __ </code>\n",
    "\n",
    "angezeigt. Danach darf der Spieler einen Buchstaben raten. Ist der Buchstabe im\n",
    "gesuchten Wort, so wird er künftig korrekt angezeigt. Wurde beispielweise E\n",
    "geraten, dann sieht die Anzeige so aus:\n",
    "\n",
    "<code>_e_ __ _e_</code>\n",
    "\n",
    "Es dürfen maximal 10 Buchstaben falsch geraten werden. Ein Galgenmännchen muss\n",
    "nicht gezeichnet werden.\n",
    "\n",
    "Tipps:\n",
    "\n",
    "* Eine Liste der richtig geratenen Buchstaben ist hilfreich.\n",
    "* Um zu testen, ob schon alle Buchstaben korrekt geraten wurden, kann auf die\n",
    "  Existenz von `_` getestet werden. Das ist aber nur eine von vielen\n",
    "  Möglichkeiten."
   ]
  },
  {
   "cell_type": "code",
   "execution_count": null,
   "id": "3b414c7b",
   "metadata": {},
   "outputs": [],
   "source": [
    "# Code-Zelle"
   ]
  }
 ],
 "metadata": {
  "jupytext": {
   "formats": "ipynb,md:myst"
  },
  "kernelspec": {
   "display_name": "Python 3 (ipykernel)",
   "language": "python",
   "name": "python3"
  }
 },
 "nbformat": 4,
 "nbformat_minor": 5
}
