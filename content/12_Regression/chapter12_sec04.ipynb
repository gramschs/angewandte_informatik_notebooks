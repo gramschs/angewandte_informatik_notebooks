{
 "cells": [
  {
   "cell_type": "markdown",
   "id": "6b20f2f4",
   "metadata": {},
   "source": [
    "# Übungen\n",
    "\n",
    "## Übung 12.1\n",
    "\n",
    "Gegeben ist der folgende Code mit Zeilennummern, um Messdaten zu visualisieren.\n",
    "Suchen Sie die darin enthaltenen Fehler. Korrigieren Sie anschließend den Code.\n",
    "\n",
    "```python\n",
    "1  # Datenimport Messdaten\n",
    "2  x = [-20, -15, -10, -5, 0, 5]\n",
    "3  y = [152.38, 124.43, 88.91, 37.43, 5.52, -27.41]\n",
    "4    \n",
    "5  # Parabel durch die Messdaten\n",
    "6  y_parabel = x**2\n",
    "7   \n",
    "8  # Plot der Messdaten mit zusätzlicher Parabel\n",
    "9  plt.figure()\n",
    "10 plt.scatter(x,y)\n",
    "11 plt.plot(x, y_parabel)\n",
    "12 plt.xlabel('Temperatur')\n",
    "13 plt.ylabel('Materialeigenschaft')\n",
    "14 plt.titel('Messdaten')\n",
    "15 plt.show()\n",
    "```"
   ]
  },
  {
   "cell_type": "code",
   "execution_count": null,
   "id": "f2461875",
   "metadata": {},
   "outputs": [],
   "source": [
    "# Code-Zelle"
   ]
  },
  {
   "cell_type": "markdown",
   "id": "a95f1bdd",
   "metadata": {},
   "source": [
    "## Übung 12.2\n",
    "\n",
    "Laden Sie den Datensatz `studierendenzahlen_frankfurt_uas.csv` ([→ hier\n",
    "Download](https://nextcloud.frankfurt-university.de/s/MzxHw2rDRdx5eRA)) herunter\n",
    "und importieren Sie ihn mit Pandas. Die ersten drei Zeilen sind Kommentare und\n",
    "müssen daher mit dem Argument `skiprows=3` übersprungen werden.\n",
    "\n",
    "1. Lassen Sie die Studierendenzahlen männlich und weiblich visualisieren.\n",
    "2. Berechnen Sie eine Regressionsgerade jeweils für die Studierendenzahlen\n",
    "   weiblich und männlich. Wächst die Anzahl der männlichen oder der weiblichen\n",
    "   Studierenden schneller?\n",
    "3. Bewerten Sie mit Hilfe des $R^2$-Scores, ob die beiden Regressionsgeraden\n",
    "   brauchbar sind.\n",
    "4. Lassen Sie die Regressionsgeraden zusammen mit den Studierendenzahlen\n",
    "   visualisieren."
   ]
  },
  {
   "cell_type": "code",
   "execution_count": null,
   "id": "a64787be",
   "metadata": {},
   "outputs": [],
   "source": [
    "# Code-Zelle"
   ]
  },
  {
   "cell_type": "markdown",
   "id": "cd878303",
   "metadata": {},
   "source": [
    "## Übung 12.3\n",
    "\n",
    "Laden Sie die Biersteuerstatistik\n",
    "([→ hier Download](https://nextcloud.frankfurt-university.de/s/Ejc2LFEW3Hz3mA9))\n",
    "herunter.\n",
    "\n",
    "1. Importieren Sie die Daten mit Pandas (8 Zeilen müssen übersprungen werden).\n",
    "   Lassen Sie sich einen Überblick anzeigen. Was enthält die Tabelle?\n",
    "2. Filtern Sie die Tabelle nach den Jahren 2020, 2021 und 2022 lassen Sie den\n",
    "   Absatz von Bier in Hektolitern pro Monat visualisieren.\n",
    "3. Stellen Sie eine Vermutung an. Durch welches Regressionspolynom könnte der\n",
    "   Absatz von Bier pro Monat am besten erklärt werden?\n",
    "4. Stellen Sie das Regressionspolynom für 2022 auf und visualisieren Sie es\n",
    "   zusammen mit den Messwerten. Bewerten Sie es mit dem $R^2$-Score."
   ]
  },
  {
   "cell_type": "code",
   "execution_count": null,
   "id": "0fcf9ff6",
   "metadata": {},
   "outputs": [],
   "source": [
    "# Code-Zelle"
   ]
  },
  {
   "cell_type": "markdown",
   "id": "48c87b80",
   "metadata": {},
   "source": [
    "## Übung 12.4\n",
    "\n",
    "Verwenden Sie die Bierstatistik-Daten von 2021 aus Übung 12.3 und vergleichen Sie Regressionspolynome der Grade 1, 2, 3 und 4.\n",
    "\n",
    "1. Berechnen Sie für jeden Polynomgrad die Koeffizienten mit `polyfit()`.\n",
    "2. Erstellen Sie für jeden Grad das entsprechende Modell mit `polyval()`.\n",
    "3. Berechnen Sie jeweils den R²-Wert mit `r2_score()`.\n",
    "4. Erstellen Sie eine Tabelle mit Polynomgrad und R²-Wert.\n",
    "5. Visualisieren Sie alle vier Modelle zusammen mit den Originaldaten in einem Diagramm.\n",
    "6. Diskutieren Sie: Welcher Polynomgrad ist am besten geeignet? Begründen Sie Ihre Antwort anhand der R²-Werte und der Visualisierung.\n",
    "7. Was passiert, wenn Sie den Polynomgrad auf 11 erhöhen? Testen Sie es und erklären Sie das Ergebnis."
   ]
  },
  {
   "cell_type": "code",
   "execution_count": null,
   "id": "aace2de3",
   "metadata": {},
   "outputs": [],
   "source": [
    "# Code-Zelle"
   ]
  },
  {
   "cell_type": "markdown",
   "id": "f4edc4d4",
   "metadata": {},
   "source": [
    "## Übung 12.5\n",
    "\n",
    "Laden Sie den Datensatz `stromverbrauch_hessen.csv` ([→ hier\n",
    "Download](https://nextcloud.frankfurt-university.de/s/ddfDzAAnJtJ4FZQ)) herunter\n",
    "und analysieren Sie die Entwicklung des Stromverbrauchs in Hessen von 2000 bis\n",
    "2021.\n",
    "\n",
    "Hinweis: Die CSV-Datei enthält Kommentarzeilen am Anfang. Verwenden Sie\n",
    "`skiprows=4` beim Einlesen mit Pandas.\n",
    "\n",
    "1. Datenexploration:\n",
    "   - Laden Sie den Datensatz und verschaffen Sie sich einen Überblick.\n",
    "   - In welchem Zeitraum liegen die Daten vor?\n",
    "   - Welche Verbrauchergruppen sind enthalten?\n",
    "\n",
    "2. Visualisierung:\n",
    "   - Erstellen Sie ein Liniendiagramm, das die Entwicklung des\n",
    "     Gesamtstromverbrauchs über die Jahre zeigt.\n",
    "   - Erstellen Sie ein weiteres Diagramm, das die drei Verbrauchergruppen\n",
    "     (Industrie, Verkehr, Haushalte etc.) separat in diesem Diagramm darstellt.\n",
    "\n",
    "3. Trend-Analyse mit linearer Regression:\n",
    "   - Berechnen Sie für jede der vier Kategorien (insgesamt, Industrie, Verkehr,\n",
    "     Haushalte etc.) eine lineare Regressionsgerade.\n",
    "   - Ermitteln Sie jeweils die Steigung und interpretieren Sie diese: Welche\n",
    "     Verbrauchergruppe zeigt den stärksten Rückgang/Anstieg pro Jahr?\n",
    "   - Berechnen Sie für jede Regression den R²-Wert. Welche Kategorie lässt sich\n",
    "     am besten durch einen linearen Trend erklären?\n",
    "\n",
    "4. Prognose:\n",
    "   - Verwenden Sie die lineare Regression für den Gesamtstromverbrauch, um eine\n",
    "     Prognose für das Jahr 2025 zu erstellen.\n",
    "   - Diskutieren Sie: Ist diese Prognose realistisch? Was spricht dafür/dagegen?\n",
    "\n",
    "5. Erweiterte Analyse:\n",
    "   - Der Verkehrssektor zeigt starke Schwankungen. Testen Sie, ob ein Polynom 2.\n",
    "     oder 3. Grades den Verkehrsstromverbrauch besser erklärt als eine Gerade.\n",
    "   - Vergleichen Sie die R²-Werte und visualisieren Sie alle drei Modelle."
   ]
  },
  {
   "cell_type": "code",
   "execution_count": null,
   "id": "3407d5ff",
   "metadata": {},
   "outputs": [],
   "source": [
    "# Code-Zelle"
   ]
  }
 ],
 "metadata": {
  "jupytext": {
   "formats": "ipynb"
  },
  "kernelspec": {
   "display_name": "Python 3 (ipykernel)",
   "language": "python",
   "name": "python3"
  }
 },
 "nbformat": 4,
 "nbformat_minor": 5
}
