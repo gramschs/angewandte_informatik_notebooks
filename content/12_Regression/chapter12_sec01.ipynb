{
 "cells": [
  {
   "cell_type": "markdown",
   "id": "034d196c",
   "metadata": {},
   "source": [
    "# 12.1 Theorie Regression\n",
    "\n",
    "In der Analyse technischer und physikalischer Daten ist die Methode der\n",
    "Regression ein fundamentales Werkzeug. Sie ist ein statistisches Verfahren, das\n",
    "den Zusammenhang zwischen Variablen ermittelt. In diesem Kapitel beschäftigen\n",
    "wir uns zunächst mit der Theorie von Regressionsverfahren.\n",
    "\n",
    "## Lernziele\n",
    "\n",
    "* Sie wissen, was **Regression** ist.\n",
    "* Sie wissen, was das **Bestimmtheitsmaß** $R^2$ ist und können es für **lineare Regression** interpretieren:\n",
    "  * Wenn $R^2 = 1$  ist, dann gibt es den perfekten linearen Zusammenhang und die\n",
    "    Modellfunktion ist eine sehr gute Anpassung an die Messdaten.\n",
    "  * Wenn $R^2 = 0$ oder gar negativ ist, dann funktioniert die lineare\n",
    "    Modellfunktion überhaupt nicht.\n",
    "\n",
    "## Regression kommt aus der Statistik\n",
    "\n",
    "In der Statistik beschäftigen sich Mathematikerinnen und Mathematiker damit,\n",
    "Analyseverfahren zu entwickeln, mit denen experimentelle Daten gut erklärt\n",
    "werden können. Falls wir eine “erklärende” Variable haben und versuchen, die\n",
    "Abhängigkeit einer Messgröße von der erklärenden Variable zu beschreiben, nennen\n",
    "wir das Regressionsanalyse oder kurz **Regression**. Bei vielen Problemen suchen\n",
    "wir nach einem linearen Zusammenhang und sprechen daher von **linearer\n",
    "Regression**. Mehr Details finden Sie auch bei [Wikipedia →\n",
    "Regressionsanalyse](https://de.wikipedia.org/wiki/Regressionsanalyse).\n",
    "\n",
    "Etwas präziser formuliert ist lineare Regression ein Verfahren, bei dem es eine\n",
    "Einflussgröße $x$ und eine Zielgröße $y$ mit $N$ Paaren von dazugehörigen\n",
    "Messwerten $(x^{(1)},y^{(1)})$, $(x^{(2)},y^{(2)})$, $\\ldots$,\n",
    "$(x^{(N)},y^{(N)})$ gibt. Dann sollen zwei Parameter $m$ und $b$ geschätzt\n",
    "werden, so dass möglichst für alle Datenpunkte $(x^{(i)}, y^{(i)})$ die lineare\n",
    "Gleichung $y^{(i)} = m\\cdot x^{(i)}+ b$ gilt. Geometrisch ausgedrückt: durch die\n",
    "Daten soll eine Gerade gelegt werden. Da bei den Messungen auch Messfehler\n",
    "auftreten, werden wir die Gerade nicht perfekt treffen, sondern kleine Fehler\n",
    "machen, die wir hier mit $\\varepsilon^{(i)}$ bezeichnen. Wir suchen also die\n",
    "beiden Parameter $m$ und $b$, so dass  \n",
    "\n",
    "$$y^{(i)} =  m \\cdot x^{(i)} + b + \\varepsilon^{(i)}.$$\n",
    "\n",
    "Die folgende Grafik veranschaulicht das lineare Regressionsmodell. Die Paare von\n",
    "Daten sind in blau gezeichnet, das lineare Regressionsmodell in rot.\n",
    "\n",
    "```{figure} pics/Linear_regression.svg\n",
    "---\n",
    "name: fig_linear_regression\n",
    "---\n",
    "Lineare Regression: die erklärende Variable (= Input oder unabhängige Variable oder Ursache) ist auf der x-Achse, die\n",
    "abhängige Variable (= Output oder Wirkung) ist auf der y-Achse aufgetragen, Paare von Messungen sind in blau\n",
    "gekennzeichnet, das Modell in rot.\n",
    "\n",
    "([Quelle:](https://en.wikipedia.org/wiki/Linear_regression#/media/File:Linear_regression.svg) \"Example of simple linear regression, which has one independent variable\" von Sewaqu. Lizenz: Public domain))\n",
    "```\n",
    "\n",
    "Zu einer Regressionsanalyse gehört mehr als nur die Regressionskoeffizienten zu\n",
    "bestimmen. Daten müssen vorverarbeitet werden, unter mehreren unabhängigen\n",
    "Variablen (Inputs) müssen diejenigen ausgewählt werden, die tatsächlich die\n",
    "Wirkung erklären. Das lineare Regressionsmodell muss trainiert werden, d.h. die\n",
    "Parameter geschätzt werden und natürlich muss das Modell dann auch getestet\n",
    "werden. Bei den meisten Regressionsmodellen gibt es noch Modellparameter, die\n",
    "feinjustiert werden können, um die Prognosefähigkeit verbessern.\n",
    "\n",
    "Im Folgenden erkunden wir einen realistischen Datensatz, um daran zu erklären,\n",
    "wie lineare Regression funktioniert.\n",
    "\n",
    "## Beispiel: weltweiter CO2-Ausstoß\n",
    "\n",
    "Wir betrachten den weltweiten CO2-Ausstoß bis 2020 in metrischen Tonnen pro\n",
    "Einwohner ([hier Download](https://nextcloud.frankfurt-university.de/s/3wd24yXeEoTEwRz))."
   ]
  },
  {
   "cell_type": "code",
   "execution_count": null,
   "id": "d636a0a0",
   "metadata": {},
   "outputs": [],
   "source": [
    "import pandas as pd\n",
    "\n",
    "data = pd.read_csv('data/co2_emissionen_worldwide.csv', skiprows=1, index_col=0)\n",
    "data.head()"
   ]
  },
  {
   "cell_type": "markdown",
   "id": "c9f5aebc",
   "metadata": {},
   "source": [
    "Wir verschaffen uns mit den Funktionen `info()` und `describe()` einen Überblick\n",
    "über den Datensatz. Wie üblich benutzen wir `info()` zuerst."
   ]
  },
  {
   "cell_type": "code",
   "execution_count": null,
   "id": "24865883",
   "metadata": {},
   "outputs": [],
   "source": [
    "data.info()"
   ]
  },
  {
   "cell_type": "markdown",
   "id": "25d3f12b",
   "metadata": {},
   "source": [
    "Offensichtlich enthält der Datensatz 29 Zeilen (= Jahre) mit gültigen Einträgen\n",
    "zu den metrischen Tonnen CO2-Ausstoß pro Einwohner. Die statistischen Kennzahlen\n",
    "sind:"
   ]
  },
  {
   "cell_type": "code",
   "execution_count": null,
   "id": "dad9d844",
   "metadata": {},
   "outputs": [],
   "source": [
    "data.describe()"
   ]
  },
  {
   "cell_type": "markdown",
   "id": "a0428a5e",
   "metadata": {},
   "source": [
    "Nun folgt noch die Visualisierung der Daten."
   ]
  },
  {
   "cell_type": "code",
   "execution_count": null,
   "id": "b9b854b7",
   "metadata": {},
   "outputs": [],
   "source": [
    "import matplotlib.pyplot as plt\n",
    "\n",
    "jahre = data.index\n",
    "co2 = data['Metrische_Tonnen_pro_Einwohner']\n",
    "\n",
    "plt.figure()\n",
    "plt.scatter(jahre, co2)\n",
    "plt.xlabel('Jahre')\n",
    "plt.ylabel('Metrische Tonnen / Einwohner')\n",
    "plt.title('Weltweiter C02-Ausstoß')\n",
    "plt.show();"
   ]
  },
  {
   "cell_type": "markdown",
   "id": "210b4ba3",
   "metadata": {},
   "source": [
    "Fangen wir mit dem einfachsten Modell an, diese Messdaten zu beschreiben, mit\n",
    "einer linearen Funktion. Die “erklärende” Variable ist in dem Beispiel das Jahr.\n",
    "Wir versuchen, die Abhängigkeit einer Messgröße (hier die CO2-Emissionen pro\n",
    "Einwohner) von der erklärenden Variable als lineare Funktion zu beschreiben.\n",
    "\n",
    "**Mini-Übung**\n",
    "Denken Sie sich Werte für die Steigung m und den y-Achsenabschnitt b einer\n",
    "linearen Funktion aus. Erzeugen Sie einen Vektor mit 100 x-Werten von 1990 bis\n",
    "2018 und einen Vektor y mit $y = mx + b$. Lassen Sie diese lineare Funktion als\n",
    "durchgezogene rote Linie in den gleichen Plot wie die gepunkteten Messwerte\n",
    "zeichnen. Welche Werte für $m$ und $b$ müssen Sie wählen, damit die rote Linie\n",
    "passend zu den blauen Punkten ist? Spielen Sie mit $m$ und $b$ herum, bis es\n",
    "passen könnte.\n",
    "\n",
    "Tipp: `linspace(start, stopp, anzahl)` aus dem NumPy-Modul generiert `anzahl`\n",
    "Werte von `start` bis `stopp`."
   ]
  },
  {
   "cell_type": "code",
   "execution_count": null,
   "id": "8f762d29",
   "metadata": {},
   "outputs": [],
   "source": [
    "# Hier Ihr Code"
   ]
  },
  {
   "cell_type": "markdown",
   "id": "382503de",
   "metadata": {},
   "source": [
    "Wenn wir jetzt eine Prognose für das Jahr 2030 wagen wollen, können wir den Wert\n",
    "in die lineare Funktion einsetzen und erhalten für 2030 einen CO2-Ausstoß von\n",
    "5.1 metrischen Tonnen pro Einwohner :-(\n",
    "\n",
    "## Das Bestimmheitsmaß R²\n",
    "\n",
    "Woher wissen wir eigentlich, dass diese Steigung $m$ und dieser\n",
    "y-Achsenabschnitt $b$ am besten passen? Dazu berechnen wir, wie weit weg die\n",
    "Gerade von den Messpunkten ist. Wie das geht, veranschaulichen wir uns mit der\n",
    "folgenden Grafik.\n",
    "\n",
    "```{figure} pics/fig10_regression.png\n",
    "---\n",
    "name: fig10_regression\n",
    "---\n",
    "Messpunkte (blau) und der Abstand (grün) zu einer Modellfunktion (rot)\n",
    "\n",
    "([Quelle:](https://de.wikipedia.org/wiki/Methode_der_kleinsten_Quadrate#/media/Datei:MDKQ1.svg) Autor: Christian Schirm, Lizenz: CC0)\n",
    "```\n",
    "\n",
    "Die rote Modellfunktion trifft die Messpunkte mal mehr und mal weniger gut. Wir\n",
    "können jetzt für jeden Messpunkt berechnen, wie weit die rote Kurve von ihm weg\n",
    "ist (= grüne Strecke), indem wir die Differenz der y-Koordinaten errechnen:\n",
    "\n",
    "$$r = y_{\\text{blau}}-y_{\\text{rot}}.$$\n",
    "\n",
    "Diese Differenz nennt man **Residuum**. Danach summieren wir die Fehler (also\n",
    "die Residuen) auf und erhalten den Gesamtfehler. Leider kann es dabei passieren,\n",
    "dass am Ende als Gesamtfehler 0 herauskommt, weil beispielsweise für den 1.\n",
    "Messpunkt die blaue y-Koordinate unter der roten y-Koordinate liegt und damit\n",
    "ein negatives Residuum herauskommt, aber für den 5. Messpunkt ein positives\n",
    "Residuum. Daher quadrieren wir die Residuen. Und damit nicht der Gesamtfehler\n",
    "größer wird nur, weil wir mehr Messpunkte dazunehmen, teilen wir noch durch die\n",
    "Anzahl der Messpunkte $N$. Mathematisch formuliert haben wir\n",
    "\n",
    "$$\\frac{1}{N}\\sum_{i=1}^{N} (y^{(i)} - f(x^{(i)})^2. $$\n",
    "\n",
    "Wir berechnen die Fehlerquadratsumme in Python mit der `sum()` Funktion aus\n",
    "NumPy. Insgesamt ergibt sich"
   ]
  },
  {
   "cell_type": "code",
   "execution_count": null,
   "id": "7936f5a0",
   "metadata": {},
   "outputs": [],
   "source": [
    "import numpy as np\n",
    "\n",
    "# blaue y-Koordinaten = Messpunkte\n",
    "y_blau = co2\n",
    "\n",
    "# Berechnung der roten y-Koordinaten, indem wir x-Koordinaten der Messpunkte\n",
    "# in die Modellfunktion y = m*x + b einsetzen\n",
    "x = jahre\n",
    "y_rot = 0.0344 * x - 64.7516\n",
    "\n",
    "# Berechnung Gesamtfehler\n",
    "N = 29\n",
    "gesamtfehler = 1/N * np.sum( (y_blau - y_rot)**2 )\n",
    "\n",
    "print(f'Der Gesamtfehler ist {gesamtfehler}.')"
   ]
  },
  {
   "cell_type": "markdown",
   "id": "3a56a341",
   "metadata": {},
   "source": [
    "Ist das jetzt groß oder klein? Liegt eine gute Modellfunktion vor, die die Daten\n",
    "gut nähert oder nicht? Um das zu beurteilen, berechnen wir, wie groß der Fehler\n",
    "wäre, wenn wir nicht die roten y-Koordinaten der Modellfunktion in die\n",
    "Fehlerformel einsetzen würden, sondern einfach nur den Mittelwert als\n",
    "Schätzwert, also\n",
    "\n",
    "$$\\bar{y} = \\frac{1}{N} \\sum_{i=1}^{N} y^{(i)}.$$\n",
    "\n",
    "In Python ergibt sich der folgende Code:"
   ]
  },
  {
   "cell_type": "code",
   "execution_count": null,
   "id": "7733116c",
   "metadata": {},
   "outputs": [],
   "source": [
    "y_mittelwert = y_blau.mean()\n",
    "gesamtfehler_mittelwert = 1/N * np.sum( (y_blau - y_mittelwert)**2 )\n",
    "\n",
    "print(f'Der Gesamtfehler für den Mittelwert als Schätzung ist {gesamtfehler_mittelwert}.')"
   ]
  },
  {
   "cell_type": "markdown",
   "id": "8ced8a0f",
   "metadata": {},
   "source": [
    "Offensichtlich ist der Gesamtfehler für die Modellfunktion kleiner als wenn wir\n",
    "einfach nur immer den Mittelwert prognostizieren würden. Wir rechnen das in\n",
    "Prozent um:"
   ]
  },
  {
   "cell_type": "code",
   "execution_count": null,
   "id": "2d180191",
   "metadata": {},
   "outputs": [],
   "source": [
    "relativer_fehler = gesamtfehler / gesamtfehler_mittelwert\n",
    "\n",
    "print(f'Der relative Fehler der Modellfunktion im Verhältnis zum Fehler beim Mittelwert ist: {relativer_fehler:.4f}')\n",
    "print(f'In Prozent umgerechnet ist das: {relativer_fehler * 100:.2f} %.')"
   ]
  },
  {
   "cell_type": "markdown",
   "id": "420db4da",
   "metadata": {},
   "source": [
    "In der Statistik wurde diese Verhältnis (Gesamtfehler geteilt durch Gesamtfehler\n",
    "Mittelwert) als Qualitätkriterium für ein lineares Regressionsproblem\n",
    "festgelegt. Genaugenommen, rechnet man 1 - Gesamtfehler /  (Gesamtfehler\n",
    "Mittelwert) und nennt diese Zahl **Bestimmtheitsmaß $R^2$**. Details finden Sie\n",
    "bei [Wikipedia\n",
    "(Bestimmtheitsmaß)](https://de.wikipedia.org/wiki/Bestimmtheitsmaß). Die Formel\n",
    "lautet:\n",
    "\n",
    "$$R^2 =1-\\frac{\\sum_{i=1}^N (y^{(i)} - f(x^{(i)})^2}{\\sum_{i=1}^N(y^{(i)}-\\bar{y})^2}.$$\n",
    "\n",
    "Dabei kürzt sich das $\\frac{1}{N}$ im Zähler und Nenner weg. Nachdem der\n",
    "$R^2$-Wert ausgerechnet wurde, können wir nun die Qualität der Anpassung\n",
    "beurteilen:\n",
    "\n",
    "* Wenn $R^2 = 1$  ist, dann gibt es den perfekten linearen Zusammenhang und die\n",
    "  Modellfunktion ist eine sehr gute Anpassung an die Messdaten.\n",
    "* Wenn $R^2 = 0$ oder gar negativ ist, dann funktioniert die lineare\n",
    "  Modellfunktion überhaupt nicht.\n",
    "\n",
    "Für das Beispiel ergibt sich ein Bestimmtheitsmaß $R^2$ von"
   ]
  },
  {
   "cell_type": "code",
   "execution_count": null,
   "id": "a078e97a",
   "metadata": {},
   "outputs": [],
   "source": [
    "R2 = 1 - relativer_fehler\n",
    "print(f'R2 = {R2:.2f}')"
   ]
  },
  {
   "cell_type": "markdown",
   "id": "b8657952",
   "metadata": {},
   "source": [
    "Die lineare Regressionsgerade erklärt die CO2-Messwerte ganz gut, aber eben\n",
    "nicht perfekt.\n",
    "\n",
    "Damit wir nicht händisch den R²-Core berechnen lassen müssen, verwenden wir das\n",
    "Modul Scikit-Learn."
   ]
  },
  {
   "cell_type": "code",
   "execution_count": null,
   "id": "92772048",
   "metadata": {},
   "outputs": [],
   "source": [
    "from sklearn.metrics import r2_score\n",
    "R2 = r2_score(y_blau, y_rot)\n",
    "print(f'R2 aus Scikit-Learn: {R2:.2f}')"
   ]
  },
  {
   "cell_type": "markdown",
   "id": "5c40357c",
   "metadata": {},
   "source": [
    "**Mini-Übung**\n",
    "Auf der Seite [https://mathweb.de](https://mathweb.de) finden Sie eine Reihe von\n",
    "Aufgaben und interaktiven Demonstrationen rund um die Mathematik. Insbesondere\n",
    "gibt es dort auch eine interaktive Demonstration des R²-Scores.\n",
    "\n",
    "Drücken Sie auf den zwei kreisförmigen Pfeile rechts oben. Dadurch wird ein\n",
    "neuer Datensatz erzeugt. Die Messdaten sind durch grüne Punkte dargestellt, das\n",
    "lineare Regressionsmodell durch eine blaue Gerade. Im Titel wird der aktuelle\n",
    "und der optimale R²-Wert angezeigt. Ziehen Sie an den weißen Punkten, um die\n",
    "Gerade zu verändern. Schaffen Sie es, den optimalen R²-Score zu treffen?\n",
    "Beobachten Sie dabei, wie die Fehler (rot) kleiner werden.\n",
    "\n",
    "<iframe width=\"560\" height=\"315\" src=\"https://lti.mint-web.de/examples/index.php?id=01010320\"  allowfullscreen></iframe>\n",
    "\n",
    "## Zusammenfassung und Ausblick\n",
    "\n",
    "In diesem Kapitel haben wir gelernt, was Regression bedeutet und wie das\n",
    "Regressionsergebnis mit dem R²-Score bewertet wird. Im nächsten Kapitel werden\n",
    "wir uns damit beschäftigen, die Steigung und den y-Achsenabschnitt einer\n",
    "linearen Funktion zu bestimmen, die möglichst gut die Meswerte erklärt."
   ]
  }
 ],
 "metadata": {
  "kernelspec": {
   "display_name": "Python 3 (ipykernel)",
   "language": "python",
   "name": "python3"
  }
 },
 "nbformat": 4,
 "nbformat_minor": 5
}
