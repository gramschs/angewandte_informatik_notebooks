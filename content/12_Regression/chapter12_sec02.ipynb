{
 "cells": [
  {
   "cell_type": "markdown",
   "id": "4004fc82",
   "metadata": {},
   "source": [
    "# 12.2 Lineare Regression mit polyfit und polyval\n",
    "\n",
    "Nachdem wir im letzten Kapitel uns mit der Theorie der linearen Regression\n",
    "beschäftigt haben, möchten wir nun konkret eine Regressionsgerade an Messdaten\n",
    "anpassen. Umgangssprachlich wird auch gesagt, dass wir einen Fit durchführen\n",
    "bzw. eine Gerade an die Messdaten anfitten.\n",
    "\n",
    "## Lernziele\n",
    "\n",
    "* Sie können mit **polyfit** die Koeffizienten einer Regressionsgerade zu\n",
    "  gegebenen Messwerten bestimmen.\n",
    "* Sie können mit **polyval** aus den berechneten Koeffizienten die\n",
    "  Regressionsgerade bestimmen.\n",
    "\n",
    "## Koeffizienten der Regressionsgerade berechnen mit polyfit\n",
    "\n",
    "Python bzw. das Modul NumPy unterstützt die Suche nach Regressionspolynomen mit\n",
    "der Funktion `polyfit()`. Eine detaillierte Beschreibung finden Sie in der\n",
    "[NumPy-Dokumentation\n",
    "(polyfit)](https://numpy.org/doc/stable/reference/generated/numpy.polyfit.html#numpy-polyfit).\n",
    "Mittlerweile gibt es modernere Methoden im Modul `numpy.polynomial`, aber wir\n",
    "bleiben in dieser Vorlesung dennoch beim klassischen `polyfit()`, um eine\n",
    "möglichst große Ähnlichkeit zu MATLAB zu wahren.\n",
    "\n",
    "Aufgerufen wird polyfit mit\n",
    "\n",
    "`p = polyfit(x, y, grad)`\n",
    "\n",
    "Dabei sind x und y die Messdaten und `grad` ist ein Integer mit dem Polynomgrad.\n",
    "Für eine lineare Funktion setzen wir `grad = 1`. Das Ergebnis ist ein\n",
    "sogenanntes NumPy-Array, das wir im Folgenden wie eine Liste benutzen. Das Array\n",
    "`p` enthält die Koeffizienten des Polynoms in absteigender Reihenfolge. Damit\n",
    "ist gemeint, dass die höchste Potenz zuerst kommt.\n",
    "\n",
    "Ist der Polynomgrad 1, dann ist `p[0]` die Steigung der linearen\n",
    "Regressionsgerade und der y-Achsenabschnitt ist in `p[1]` gespeichert:\n",
    "\n",
    "$$f(x) = p[0] \\cdot x + p[1].$$\n",
    "\n",
    "Um die Anwendung von `polyfit()` zu zeigen, werden zunächst die folgenden sieben\n",
    "Messpunkte visualisiert:"
   ]
  },
  {
   "cell_type": "code",
   "execution_count": null,
   "id": "7fde28a8",
   "metadata": {},
   "outputs": [],
   "source": [
    "import matplotlib.pyplot as plt\n",
    "\n",
    "x = [-1, 0, 1, 2,  3, 4, 5]\n",
    "y = [-2.52,  0.85,   3.21,  7.19,  8.93, 12.89, 15.40]\n",
    "\n",
    "plt.figure()\n",
    "plt.scatter(x,y)\n",
    "plt.xlabel('Ursache')\n",
    "plt.ylabel('Wirkung')\n",
    "plt.title('Künstliche Messdaten mit linearem Zusammenhang')\n",
    "plt.show()"
   ]
  },
  {
   "cell_type": "markdown",
   "id": "fff84198",
   "metadata": {},
   "source": [
    "Als nächstes verwenden wir `polyfit`, um die Koeffizienten einer\n",
    "Regressionsgerade von Python berechnen zu lassen."
   ]
  },
  {
   "cell_type": "code",
   "execution_count": null,
   "id": "4e6fcf38",
   "metadata": {},
   "outputs": [],
   "source": [
    "import numpy as np\n",
    "\n",
    "koeffizienten = np.polyfit(x,y, 1)\n",
    "print(koeffizienten)"
   ]
  },
  {
   "cell_type": "markdown",
   "id": "0089376b",
   "metadata": {},
   "source": [
    "Die gefundene Regressionsgerade lautet also\n",
    "\n",
    "$$f(x) = 2.98\\cdot x + 0.59.$$\n",
    "\n",
    "**Mini-Übung**\n",
    "Lassen Sie zusätzlich zu den Messwerten die gefundene Regressionsgerade in der\n",
    "Farbe rot visualisieren."
   ]
  },
  {
   "cell_type": "code",
   "execution_count": null,
   "id": "14003bb2",
   "metadata": {},
   "outputs": [],
   "source": [
    "# Hier Ihr Code"
   ]
  },
  {
   "cell_type": "markdown",
   "id": "47e2ac07",
   "metadata": {},
   "source": [
    "## Regressionsgerade aus Koeffizienten mit polyval auswerten\n",
    "\n",
    "Eine weitere Funktion aus dem NumPy-Modul ist die Funktion `polyval()`. Die\n",
    "polyval-Funktion wird dazu benutzt, ein Polynom auszuwerten. Der Aufruf der\n",
    "polyval-Funktion sieht prinzipiell so aus:\n",
    "\n",
    "```python\n",
    "y = np.polyval(koeffizienten, x)\n",
    "```\n",
    "\n",
    "Dabei ist `koeffizienten` die Liste mit den Koeffizienten des Polynoms, die z.B.\n",
    "aus der Berechnung `polyfit()` stammen. Die Koeffizienten sind dabei wieder\n",
    "absteigend sortiert. Zuerst kommt der Koeffizient der höchsten Potenz. `x` ist\n",
    "eine Liste von Zahlen oder ein NumPy-Array, für die das Polynom ausgewertet\n",
    "werden soll.\n",
    "\n",
    "Wenn wir die Regressionsgerade des Beispiels an der Stelle $x = 2.5$ auswerten\n",
    "wollen, so schreiben wir"
   ]
  },
  {
   "cell_type": "code",
   "execution_count": null,
   "id": "325f8db4",
   "metadata": {},
   "outputs": [],
   "source": [
    "y = np.polyval(koeffizienten, 2.5)\n",
    "print(f'Die Regressionsgerade an der Stelle x = 2.5 ist {y:.2f}.')"
   ]
  },
  {
   "cell_type": "markdown",
   "id": "dc3ca126",
   "metadata": {},
   "source": [
    "**Mini-Übung**\n",
    "Lassen Sie die Regressionsgerade mit `polyval` aus den mit `polyfit` für das\n",
    "Intervall $[-1, 5]$ auswerten und visualisieren Sie die Messwerte (in blau)\n",
    "zusammen mit der Regressionsgeraden (in rot)."
   ]
  },
  {
   "cell_type": "code",
   "execution_count": null,
   "id": "0228e6a3",
   "metadata": {},
   "outputs": [],
   "source": [
    "# Hier Ihr Code"
   ]
  },
  {
   "cell_type": "markdown",
   "id": "b5553732",
   "metadata": {},
   "source": [
    "## Anwendung auf CO2-Daten\n",
    "\n",
    "Nachdem wir die NumPy-Funktionen `polyfit()` und `polyval()` kennengelernt\n",
    "haben, können wir diese nun auf unser CO2-Beispiel aus Kapitel 12.1 anwenden und\n",
    "dabei systematisch vorgehen. Anstatt die Parameter der Regressionsgeraden durch\n",
    "Ausprobieren zu finden, berechnen wir sie direkt:"
   ]
  },
  {
   "cell_type": "code",
   "execution_count": null,
   "id": "8552c9f3",
   "metadata": {},
   "outputs": [],
   "source": [
    "import pandas as pd\n",
    "from sklearn.metrics import r2_score\n",
    "\n",
    "# Daten\n",
    "data = pd.read_csv('data/co2_emissionen_worldwide.csv', skiprows=1, index_col=0)\n",
    "jahre = data.index\n",
    "co2 = data['Metrische_Tonnen_pro_Einwohner']\n",
    "\n",
    "# Berechnung der optimalen Regressionskoeffizienten\n",
    "koeffizienten = np.polyfit(jahre, co2, 1)\n",
    "print(f'Steigung m = {koeffizienten[0]:.4f}')\n",
    "print(f'y-Achsenabschnitt b = {koeffizienten[1]:.4f}')\n",
    "\n",
    "# Erstellung der Modellfunktion\n",
    "co2_modell = np.polyval(koeffizienten, jahre)\n",
    "\n",
    "# Berechnung des R2-Wertes zur Bewertung der Anpassungsqualität\n",
    "r2 = r2_score(co2_modell, co2)\n",
    "print(f'R2 = {r2:.4f}')"
   ]
  },
  {
   "cell_type": "markdown",
   "id": "f3f24660",
   "metadata": {},
   "source": [
    "Mit `polyfit()` erhalten wir eine Steigung von etwa 0.0344 und einen\n",
    "y-Achsenabschnitt von -64.75, was unseren durch Ausprobieren gefundenen Werten\n",
    "sehr nahe kommt. Der R²-Wert von 0.77 bestätigt, dass die lineare Regression die\n",
    "CO2-Emissionsdaten gut erklärt, aber nicht sehr gut. Dies macht die\n",
    "Regressionsgerade zu einem brauchbaren Modell für Prognosen, auch wenn die\n",
    "Abweichungen zeigen, dass andere Faktoren ebenfalls eine Rolle spielen.\n",
    "\n",
    "## Zusammenfassung und Ausblick\n",
    "\n",
    "In diesem Kapitel haben wir gelernt, eine lineare Funktion an Messdaten\n",
    "anzupassen. Im nächsten Kapitel werden wir uns mit dem Fit von Polynomen\n",
    "beschäftigen."
   ]
  }
 ],
 "metadata": {
  "jupytext": {
   "formats": "ipynb"
  },
  "kernelspec": {
   "display_name": "Python 3 (ipykernel)",
   "language": "python",
   "name": "python3"
  }
 },
 "nbformat": 4,
 "nbformat_minor": 5
}
