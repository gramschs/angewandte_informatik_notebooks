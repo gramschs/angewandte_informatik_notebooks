{
 "cells": [
  {
   "cell_type": "markdown",
   "id": "8605a17a",
   "metadata": {},
   "source": [
    "# Übungen\n",
    "\n",
    "## Übung 2.1\n",
    "\n",
    "Zu welchen Datentypen gehören folgende Ausdrücke? Stellen Sie erst eine\n",
    "Vermutung auf. Überprüfen Sie dann Ihre Vermutung mit der Funktion `type()`.\n",
    "\n",
    "* 6 + 2\n",
    "* 6 + 2.5\n",
    "* 6 / 2\n",
    "* 6 / 2.0\n",
    "* 4 - 2\n",
    "* 3 * 'Katze'"
   ]
  },
  {
   "cell_type": "markdown",
   "id": "7efc82aa",
   "metadata": {},
   "source": [
    "## Übung 2.2\n",
    "\n",
    "Schreiben Sie einen Witze-Generator. Zuerst soll nach einem Namen gefragt\n",
    "werden. Danach soll der Python-Interpreter den folgenden Witz ausgeben, wobei an\n",
    "der Stelle XXX der abgefragte Name stehen soll.\n",
    "\n",
    "<hr>\n",
    "\n",
    "Fritz macht \n",
    "\n",
    "XXX \n",
    "\n",
    "einen Kaffee. Es bleibt heißes Wasser übrig. Fritz fragt: \"Was\n",
    "soll ich mit dem restlichen Wasser machen?\" \n",
    "\n",
    "XXX \n",
    "\n",
    "antwortet: \"Einfrieren! Heißes Wasser kann man immer gebrauchen.\"\n",
    "\n",
    "<hr> \n",
    "\n",
    "Testen Sie Ihr Programm mit verschiedenen Namen."
   ]
  },
  {
   "cell_type": "markdown",
   "id": "bf37246a",
   "metadata": {},
   "source": [
    "## Übung 2.3\n",
    "\n",
    "Schreiben Sie ein Python-Programm, das eine Länge vom Benutzer abfragt, die in\n",
    "Zoll gemessen wurde. Das Programm soll dann diese Länge in Zentimeter umrechnen\n",
    "und ausgeben. Tipp: 1 Zoll sind 2.54 cm.\n",
    "\n",
    "Testen Sie Ihr Programm beispielsweise mit der Länge 10 Zoll, die 25.4\n",
    "Zentimetern entspricht. "
   ]
  },
  {
   "cell_type": "markdown",
   "id": "2ca98ce5",
   "metadata": {},
   "source": [
    "## Übung 2.4\n",
    "\n",
    "Schreiben Sie ein Programm, das zuerst nach einer Zahl fragt und danach nach\n",
    "einer zweiten Zahl fragt. Anschließend gibt das Programm aus, welche beiden\n",
    "Zahlen gewählt wurden und was das Produkt der beiden Zahlen ist.\n",
    "\n",
    "Testen Sie anschließend Ihr Programm mit kleinen 1x1-Aufgaben, die Sie sich\n",
    "selbst ausdenken."
   ]
  },
  {
   "cell_type": "markdown",
   "id": "287a4160",
   "metadata": {},
   "source": [
    "## Übung 2.5\n",
    "\n",
    "Schreiben Sie ein Programm, dass die Kosten für eine Party ermittelt. Zuerst\n",
    "soll der Python-Interpreter nach der Raummiete fragen, dann nach den\n",
    "Gesamtkosten des Pizzadienstes und den Gesamtkosten des Getränkelieferanten.\n",
    "Lassen Sie dann die Gesamtkosten der Party ausgeben und zuletzt die Kosten pro\n",
    "Gast.\n",
    "\n",
    "Testen Sie anschließend, ob Ihr Programm für die folgenden Angaben korrekt rechnet:\n",
    "* Eingabe Raummiete: 230 EUR\n",
    "* Eingabe Pizzadienst: 168 EUR\n",
    "* Eingabe Getränkelieferant: 80 EUR\n",
    "* Eingabe Anzahl Gäste: 12\n",
    "* Ausgabe: Gesamtkosten für die Party: 478 EUR\n",
    "* Ausgabe: Kosten pro Gast: 39.833333 EUR"
   ]
  }
 ],
 "metadata": {
  "jupytext": {
   "formats": "ipynb,md:myst"
  },
  "kernelspec": {
   "display_name": "Python 3 (ipykernel)",
   "language": "python",
   "name": "python3"
  }
 },
 "nbformat": 4,
 "nbformat_minor": 5
}
