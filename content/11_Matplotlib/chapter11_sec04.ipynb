{
 "cells": [
  {
   "cell_type": "markdown",
   "id": "b17aaa64",
   "metadata": {},
   "source": [
    "# Übungen\n",
    "\n",
    "Für alle Übungsaufgaben verwenden wir den Datensatz\n",
    "`schlaf_gesundheit_lifestyle_datensatz.csv`, der Informationen über\n",
    "Schlafgewohnheiten und Lebensstil von 374 Personen enthält. Der Datensatz ist\n",
    "eine deutsche Übersetzung des Datensatzes \"Health and Sleep Relation\" von\n",
    "[Kaggle](https://www.kaggle.com/datasets/orvile/health-and-sleep-relation-2024/data).\n",
    "\n",
    "Laden Sie ihn hier herunter: {download}`Download\n",
    "schlaf_gesundheit_lifestyle_datensatz.csv<https://nextcloud.frankfurt-university.de/s/SGjPamEi4saWwaj>`\n",
    "\n",
    "```python\n",
    "import pandas as pd\n",
    "import matplotlib.pyplot as plt\n",
    "import numpy as np\n",
    "\n",
    "# Datensatz einlesen\n",
    "data = pd.read_csv('schlaf_gesundheit_lifestyle_datensatz.csv')\n",
    "```\n",
    "\n",
    "## Übung 11.1\n",
    "\n",
    "Laden Sie die Datei `schlaf_gesundheit_lifestyle_datensatz.csv` herunter.\n",
    "\n",
    "1. Verschaffen Sie sich erst einen Überblick über die Daten mit `data.info()`\n",
    "   und `data.head()`.\n",
    "2. Erstellen Sie ein Streudiagramm, das die Beziehung zwischen Alter (x-Achse)\n",
    "   und Schlafdauer (y-Achse) zeigt. Verwenden Sie blaue Kreise als Marker und\n",
    "   beschriften Sie die Achsen: \"Alter [Jahre]\" und \"Schlafdauer [Stunden]\".\n",
    "   Titel: \"Zusammenhang zwischen Alter und Schlafdauer\". Fügen Sie mit\n",
    "   `plt.grid(True, alpha=0.3)` Gitterlinien hinzu.\n",
    "3. Erstellen Sie ein zweites Streudiagramm, das die Beziehung zwischen\n",
    "   Stresslevel (x-Achse) und Herzfrequenz (y-Achse) zeigt. Verwenden Sie rote\n",
    "   Dreiecke als Marker (marker='^'). Beschriften Sie die Achsen entsprechend und\n",
    "   setzen Sie einen aussagekräftigen Titel."
   ]
  },
  {
   "cell_type": "code",
   "execution_count": null,
   "id": "8f4a9713",
   "metadata": {},
   "outputs": [],
   "source": [
    "# Code-Zelle"
   ]
  },
  {
   "cell_type": "markdown",
   "id": "e3c83117",
   "metadata": {},
   "source": [
    "## Übung 11.2\n",
    "\n",
    "1. Erstellen Sie ein Balkendiagramm für eine Auswahl von 5 Personen aus dem\n",
    "   Datensatz. Filtern Sie die ersten 5 Zeilen mit `data.head(5)` und stellen Sie\n",
    "   deren Alter auf der x-Achse und Schlafdauer auf der y-Achse dar. Verwenden\n",
    "   Sie verschiedene Farben, drehen Sie die x-Achsenbeschriftung um 45° und\n",
    "   setzen Sie den Titel \"Schlafdauer der ersten 5 Personen\".\n",
    "\n",
    "2. Erstellen Sie ein Histogramm der Schlafdauer aus dem Datensatz mit 15 Bins,\n",
    "   Transparenz (alpha=0.7), grüner Farbe mit schwarzen Rändern. Berechnen Sie\n",
    "   den Durchschnitt der Schlafdauer mit `data['Schlafdauer'].mean()` und fügen\n",
    "   Sie eine vertikale Linie für diesen Durchschnittswert hinzu. Erstellen Sie\n",
    "   eine Legende, die den Durchschnittswert anzeigt."
   ]
  },
  {
   "cell_type": "code",
   "execution_count": null,
   "id": "7b123862",
   "metadata": {},
   "outputs": [],
   "source": [
    "# Code-Zelle"
   ]
  },
  {
   "cell_type": "markdown",
   "id": "9ee9871d",
   "metadata": {},
   "source": [
    "## Übung 11.3\n",
    "\n",
    "Analysieren Sie die durchschnittliche Schlafqualität nach Berufsgruppen.\n",
    "\n",
    "1. Berechnen Sie die durchschnittliche Schlafqualität pro Beruf.\n",
    "2. Erstellen Sie ein horizontales Balkendiagramm (`plt.barh`) und sortieren Sie\n",
    "   die Berufe nach Schlafqualität (bester zuerst).\n",
    "3. Fügen Sie eine horizontale Linie für den Gesamtdurchschnitt hinzu.\n",
    "4. Verwenden Sie ein professionelles Styling-Theme\n",
    "   (`plt.style.use('seaborn-v0_8')`).\n",
    "5. Titel: \"Durchschnittliche Schlafqualität nach Beruf\"."
   ]
  },
  {
   "cell_type": "code",
   "execution_count": null,
   "id": "7b3515c2",
   "metadata": {},
   "outputs": [],
   "source": [
    "# Code-Zelle"
   ]
  },
  {
   "cell_type": "markdown",
   "id": "f334d5bd",
   "metadata": {},
   "source": [
    "## Übung 11.4\n",
    "\n",
    "Erstellen Sie ein 2x2 Subplot-Dashboard mit folgenden Visualisierungen:\n",
    "\n",
    "- Subplot 1 (oben links): Histogramm der Schlafdauer für alle Personen\n",
    "- Subplot 2 (oben rechts): Streudiagramm Stresslevel vs. Schlafqualität  \n",
    "- Subplot 3 (unten links): Balkendiagramm der Herzfrequenz für die ersten 6 Personen\n",
    "- Subplot 4 (unten rechts): Streudiagramm Alter vs. Aktivitätslevel\n",
    "\n",
    "Zusätzliche Anforderungen:\n",
    "\n",
    "- Figur-Größe: 15x12 Zoll\n",
    "- Gemeinsamer Haupttitel: \"Schlaf- und Gesundheitsdashboard\""
   ]
  },
  {
   "cell_type": "code",
   "execution_count": null,
   "id": "18eea06b",
   "metadata": {},
   "outputs": [],
   "source": [
    "# Code-Zelle"
   ]
  },
  {
   "cell_type": "markdown",
   "id": "e00c13bb",
   "metadata": {},
   "source": [
    "## Übung 11.5\n",
    "\n",
    "Teilaufgabe 1:\n",
    "\n",
    "Programmieren Sie eine Funktion, die einen Random Walk mit dem Turtle-Modul\n",
    "implementiert (siehe Übung 7.5). Der Roboter soll 100x zufällig eine Richtung\n",
    "Osten, Süden, Westen oder Norden wählen und dann 10 Schritte laufen. Lassen Sie\n",
    "dann den Abstand zum Ursprung berechnen und von der Funktion zurückgeben.\n",
    "\n",
    "Tipp: Die aktuelle Position des Roboters kann mit der Methode `.position()`\n",
    "bestimmt werden. Die Anweisung `x,y = robo.position()` speichert die x-Position\n",
    "in x und entsprechend die y-Position in y, wenn Ihr Roboter `robo` heißt.\n",
    "\n",
    "Teilaufgabe 2:\n",
    "\n",
    "Lassen Sie nun den Roboter 10 x seinen Random Walk ausführen und jeweils die\n",
    "Entfernung zum Ursprung zurückgeben. Sammeln Sie die Entfernungen in einer\n",
    "Liste. Untersuchen Sie mit einem Histogramm, wie die Entfernungen verteilt sind.\n",
    "Wenn die Rechenzeiten auf Ihrer Hardware annehmbar sind, erhöhen Sie bitte die\n",
    "Anzahl der Random Walks (vorsichtig!).\n",
    "\n",
    "Tipp: Setzen Sie innerhalb der Random-Walk-Funktion die Geschwindigkeit des\n",
    "Roboters auf `0`, also `robo.speed(0)`, falls Ihr Roboter `robo` heißt. Fügen\n",
    "Sie außerdem nach der letzten Bewegung den Befehl `robo.done()`ein. Dann wird\n",
    "die Bewegung nicht mehr animiert und nur der Laufweg angezeigt."
   ]
  },
  {
   "cell_type": "code",
   "execution_count": null,
   "id": "70788499",
   "metadata": {},
   "outputs": [],
   "source": [
    "# Code-Zelle"
   ]
  }
 ],
 "metadata": {
  "jupytext": {
   "formats": "ipynb"
  },
  "kernelspec": {
   "display_name": "Python 3 (ipykernel)",
   "language": "python",
   "name": "python3"
  }
 },
 "nbformat": 4,
 "nbformat_minor": 5
}
