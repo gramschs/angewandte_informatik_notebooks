{
 "cells": [
  {
   "cell_type": "markdown",
   "id": "b6af07bf",
   "metadata": {},
   "source": [
    "# 11.2 Diskrete Daten und Häufigkeiten\n",
    "\n",
    "## Lernziele\n",
    "\n",
    "* Sie können diskrete Daten als **Balkendiagramm** visualisieren.\n",
    "* Sie können kontinuierliche Daten als **Histogramm** darstellen.\n",
    "* Sie verstehen den Unterschied zwischen Balkendiagrammen und Histogrammen.\n",
    "* Sie können die **Anzahl der Bins** bei Histogrammen anpassen.\n",
    "* Sie können Balken- und Histogramme mit **Farben** gestalten.\n",
    "\n",
    "## Balkendiagramme\n",
    "\n",
    "Ein Balkendiagramm wird mit der Funktion `bar()` erstellt. Balkendiagramme\n",
    "eignen sich zur Darstellung von diskreten, kategorialen Daten. Angenommen, wir\n",
    "möchten auswerten, wie viele Nutzer/innen in campUAS auf die Jupyter Notebooks\n",
    "zum Download zugegriffen haben:\n",
    "\n",
    "| Woche | Anzahl Nutzer/innen |\n",
    "| --- | --- |\n",
    "| 2 | 14 |\n",
    "| 3 | 12 |\n",
    "| 4 | 10 |\n",
    "| 5 | 10 |\n",
    "| 6 | 9  |\n",
    "\n",
    "Dann wird das Balkendiagramm mit folgendem Code erzeugt:"
   ]
  },
  {
   "cell_type": "code",
   "execution_count": null,
   "id": "a86a7750",
   "metadata": {},
   "outputs": [],
   "source": [
    "import matplotlib.pyplot as plt\n",
    "\n",
    "# Daten\n",
    "x = [2, 3, 4, 5, 6]\n",
    "y = [14, 12, 10, 10, 9]\n",
    "\n",
    "# Balkendiagramm\n",
    "plt.figure()\n",
    "plt.bar(x, y)\n",
    "plt.xlabel('Woche')\n",
    "plt.ylabel('Anzahl Nutzer/innen')\n",
    "plt.title('Zugriff auf Jupyter Notebooks zum Download WiSe 2021/22')\n",
    "plt.show()"
   ]
  },
  {
   "cell_type": "markdown",
   "id": "1b058283",
   "metadata": {},
   "source": [
    "Farben können mit dem optionalen Argument `color=` eingestellt werden. Dabei\n",
    "funktionieren häufig einfach die englischen Bezeichnungen für grundlegende\n",
    "Farben wie beispielsweise red, green, blue. Eine Alternative dazu ist, den\n",
    "RGB-Wert zu spezifizieren, also den Rot-Anteil, den Grün-Anteil und den\n",
    "Blau-Anteil. Details finden Sie in der Matplotlib-Dokumentation:\n",
    "\n",
    "> <https://matplotlib.org/stable/tutorials/colors/colors.html>\n",
    "\n",
    "Im folgenden Balkendiagramm sind die Balken grau dargestellt."
   ]
  },
  {
   "cell_type": "code",
   "execution_count": null,
   "id": "b39b8580",
   "metadata": {},
   "outputs": [],
   "source": [
    "# Daten\n",
    "x = [2, 3, 4, 5, 6]\n",
    "y = [14, 12, 10, 10, 9]\n",
    "\n",
    "# Balkendiagramm mit Farbe\n",
    "plt.figure()\n",
    "plt.bar(x, y, color='gray')\n",
    "plt.xlabel('Woche')\n",
    "plt.ylabel('Anzahl Nutzer/innen')\n",
    "plt.title('Zugriff auf Jupyter Notebooks zum Download WiSe 2021/22')\n",
    "plt.show()"
   ]
  },
  {
   "cell_type": "markdown",
   "id": "a41fc7a2",
   "metadata": {},
   "source": [
    "Balkendiagramme eignen sich besonders gut für den Vergleich von Kategorien. Hier\n",
    "ein weiteres Beispiel mit verschiedenen Programmiersprachen und ihrer\n",
    "Beliebtheit. Bei diesem Beispiel färben wir auch noch die Balken ein. Dazu\n",
    "übergeben wir dem Argument `color` eine Liste mit Strings, die die Farben\n",
    "Hex-Code spezifiziert. Mehr Details zu Hex-Codes für Farben finden Sie hier:\n",
    "[https://www.color-hex.com](https://www.color-hex.com)."
   ]
  },
  {
   "cell_type": "code",
   "execution_count": null,
   "id": "4e8a555f",
   "metadata": {},
   "outputs": [],
   "source": [
    "# Daten (fiktive Umfrage)\n",
    "sprachen = ['Python', 'Java', 'C++', 'JavaScript', 'C#']\n",
    "beliebtheit = [85, 78, 65, 82, 58]\n",
    "\n",
    "# Balkendiagramm\n",
    "plt.figure()\n",
    "plt.bar(sprachen, beliebtheit, color=['#3776ab', '#f89820', '#00599c', '#f7df1e', '#239120'])\n",
    "plt.xlabel('Programmiersprache')\n",
    "plt.ylabel('Beliebtheit (%)')\n",
    "plt.title('Beliebtheit von Programmiersprachen unter Studierenden')\n",
    "plt.show()"
   ]
  },
  {
   "cell_type": "markdown",
   "id": "9864e9ca",
   "metadata": {},
   "source": [
    "**Mini-Übung**\n",
    "Hier ist eine Tabelle mit den Zugriffszahlen auf die Jupyter Notebooks in der\n",
    "Vorlesung Angewandte Informatik. Bitte stellen Sie die Daten als Balkendiagramm\n",
    "inklusive Beschriftungen dar. Färben Sie die Balken schwarz.\n",
    "\n",
    "|Woche |Anzahl Nutzer/innen|\n",
    "| --- | --- |\n",
    "| 3 | 9  |\n",
    "| 4 | 17 |\n",
    "| 5 | 15 |\n",
    "| 6 | 10 |\n",
    "| 7 | 11 |"
   ]
  },
  {
   "cell_type": "code",
   "execution_count": null,
   "id": "e6847dec",
   "metadata": {},
   "outputs": [],
   "source": [
    "# Hier Ihr Code:"
   ]
  },
  {
   "cell_type": "markdown",
   "id": "ed04df38",
   "metadata": {},
   "source": [
    "## Histogramme\n",
    "\n",
    "Während Balkendiagramme für diskrete, kategoriale Daten verwendet werden,\n",
    "dienen Histogramme zur Darstellung der Verteilung kontinuierlicher Daten.\n",
    "Ein Histogramm zeigt, wie häufig bestimmte Wertebereiche in einem Datensatz\n",
    "vorkommen.\n",
    "\n",
    "Der wichtigste Unterschied: Bei Balkendiagrammen sind die Kategorien fest\n",
    "vorgegeben (z.B. Wochentage, Programmiersprachen), bei Histogrammen werden\n",
    "die kontinuierlichen Daten in Intervalle (sogenannte \"Bins\") unterteilt.\n",
    "\n",
    "Erstellen wir zunächst einen Datensatz mit kontinuierlichen Daten:"
   ]
  },
  {
   "cell_type": "code",
   "execution_count": null,
   "id": "806dabee",
   "metadata": {},
   "outputs": [],
   "source": [
    "import numpy as np\n",
    "import matplotlib.pyplot as plt\n",
    "\n",
    "# Simuliere Körpergrößen von 1000 Personen (normalverteilt)\n",
    "np.random.seed(42)  # Für reproduzierbare Ergebnisse\n",
    "koerpergroessen = np.random.normal(175, 8, 1000)  # Mittelwert 175cm, Standardabweichung 8cm\n",
    "\n",
    "# Histogramm erstellen\n",
    "plt.figure()\n",
    "plt.hist(koerpergroessen, bins=30)\n",
    "plt.xlabel('Körpergröße [cm]')\n",
    "plt.ylabel('Häufigkeit')\n",
    "plt.title('Verteilung der Körpergrößen')\n",
    "plt.show()"
   ]
  },
  {
   "cell_type": "markdown",
   "id": "7b0b79b3",
   "metadata": {},
   "source": [
    "Die Funktion `hist()` nimmt die Rohdaten und erstellt automatisch ein\n",
    "Histogramm. Der Parameter `bins` bestimmt, in wie viele Intervalle die Daten\n",
    "aufgeteilt werden. Mehr Bins führen zu einer feineren Aufteilung, weniger Bins\n",
    "zu einer gröberen.\n",
    "\n",
    "Schauen wir uns den Effekt verschiedener Bin-Anzahlen an. Zusätzlich nutzen wir\n",
    "noch die Optionen `alpha` (Transparenzgrad), `color` (Farbe) und `edgecolor`\n",
    "(Farbe des Rahmens um die Balken), um die Bins besser zu visualisieren."
   ]
  },
  {
   "cell_type": "code",
   "execution_count": null,
   "id": "aac6302f",
   "metadata": {},
   "outputs": [],
   "source": [
    "# Verschiedene Bin-Anzahlen vergleichen\n",
    "anzahl_bins = [10, 20, 50, 100]\n",
    "titel = ['10 Bins', '20 Bins', '50 Bins', '100 Bins']\n",
    "\n",
    "for i in range(4):\n",
    "  plt.figure()\n",
    "  plt.hist(koerpergroessen, bins=anzahl_bins[i], alpha=0.7, color='skyblue', edgecolor='black')\n",
    "  plt.xlabel('Körpergröße [cm]')\n",
    "  plt.ylabel('Häufigkeit')\n",
    "  plt.title(titel[i])"
   ]
  },
  {
   "cell_type": "markdown",
   "id": "6d84c3b5",
   "metadata": {},
   "source": [
    "**Mini-Übung**\n",
    "Erstellen Sie ein Histogramm für simulierte Reaktionszeiten:\n",
    "\n",
    "* Generieren Sie 500 Zufallszahlen mit Mittelwert 0.25 und Standardabweichung 0.05\n",
    "* Verwenden Sie 25 Bins\n",
    "* Färben Sie das Histogramm orange\n",
    "* Beschriften Sie die Achsen: x-Achse \"Reaktionszeit [s]\", y-Achse \"Häufigkeit\"\n",
    "* Titel: \"Verteilung der Reaktionszeiten\""
   ]
  },
  {
   "cell_type": "code",
   "execution_count": null,
   "id": "307371ee",
   "metadata": {},
   "outputs": [],
   "source": [
    "# Hier Ihr Code"
   ]
  },
  {
   "cell_type": "markdown",
   "id": "9165a9d2",
   "metadata": {},
   "source": [
    "## Was ist der Unterschied zwischen Balkendiagramm und Histogramm?\n",
    "\n",
    "Um den Unterschied zwischen Balkendiagramm und Histogramm zu verdeutlichen,\n",
    "schauen wir uns Daten von Autos als Beispiel an.\n",
    "\n",
    "Mit dem Balkendiagramm visualisieren wir diskrete Daten wie beispielsweise die\n",
    "Anzahl der verkauften Autos pro Marke."
   ]
  },
  {
   "cell_type": "code",
   "execution_count": null,
   "id": "5073a750",
   "metadata": {},
   "outputs": [],
   "source": [
    "# Anzahl verkaufter Autos pro Marke (diskrete Kategorien)\n",
    "marken = ['BMW', 'Mercedes', 'Audi', 'VW', 'Ford']\n",
    "verkaufte_autos = [45, 38, 52, 67, 23]\n",
    "\n",
    "plt.figure()\n",
    "plt.bar(marken, verkaufte_autos)\n",
    "plt.xlabel('Automarke')\n",
    "plt.ylabel('Anzahl verkaufter Autos')\n",
    "plt.title('Balkendiagramm: Diskrete Kategorien')\n",
    "plt.show();"
   ]
  },
  {
   "cell_type": "markdown",
   "id": "42f6699e",
   "metadata": {},
   "source": [
    "Wenn es aber nun darum geht, darzustellen, wie viele Autos ein bestimmtes Alter\n",
    "in Jahren haben, ist ein Balkendiagramm unübersichtlich. Besser ist es, die Jahre\n",
    "zuerst zu clustern."
   ]
  },
  {
   "cell_type": "code",
   "execution_count": null,
   "id": "043395d7",
   "metadata": {},
   "outputs": [],
   "source": [
    "# Alter der Autos (kontinuierliche Daten)\n",
    "np.random.seed(123)\n",
    "alter = np.random.normal(12, 4, 100) \n",
    "\n",
    "plt.figure()\n",
    "plt.hist(alter, bins=15, alpha=0.7, color='skyblue', edgecolor='black')\n",
    "plt.xlabel('Alter [Jahre]')\n",
    "plt.ylabel('Anzahl Autos')\n",
    "plt.title('Histogramm: Kontinuierliche Daten')\n",
    "plt.show();"
   ]
  },
  {
   "cell_type": "markdown",
   "id": "8e863392",
   "metadata": {},
   "source": [
    "## Zusammenfassung und Ausblick\n",
    "\n",
    "In diesem Kapitel haben wir zwei wichtige Visualisierungstypen für verschiedene\n",
    "Datenarten kennengelernt. Balkendiagramme eignen sich für diskrete, kategoriale\n",
    "Daten und ermöglichen den direkten Vergleich zwischen verschiedenen Kategorien.\n",
    "Histogramme zeigen die Verteilung kontinuierlicher Daten und helfen dabei,\n",
    "Muster und Häufigkeiten in großen Datensätzen zu erkennen. Im nächsten Kapitel\n",
    "werden wir lernen, wie wir diese Techniken auf reale Datensätze anwenden können."
   ]
  }
 ],
 "metadata": {
  "kernelspec": {
   "display_name": "Python 3 (ipykernel)",
   "language": "python",
   "name": "python3"
  }
 },
 "nbformat": 4,
 "nbformat_minor": 5
}
