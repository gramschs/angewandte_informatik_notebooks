{
 "cells": [
  {
   "cell_type": "markdown",
   "id": "c67b9089",
   "metadata": {},
   "source": [
    "# 11.3 DataFrames visualisieren\n",
    "\n",
    "Bisher haben wir die Daten für die Visualisierung manuell erzeugt. In diesem\n",
    "Kapitel beschäftigen wir uns damit, wie Pandas-DataFrames professionell\n",
    "visualisiert werden. Wir lernen fortgeschrittene Techniken kennen, die beispielsweise für das Anfertigen einer Bachelorarbeit wichtig sind.\n",
    "\n",
    "## Lernziele\n",
    "\n",
    "* Sie können den Zeilenindex **.index** und den Spaltenindex **.columns** aus\n",
    "  einem DataFrame extrahieren.\n",
    "* Sie können den Text der Achsenbeschriftung drehen.\n",
    "* Sie können mit **axhline()** und **axvline()** Referenzlinien zu Plots hinzufügen.\n",
    "* Sie können **Subplots** für komplexere Visualisierungen erstellen.\n",
    "* Sie können **Korrelationsanalysen** graphisch aufbereiten.\n",
    "* Sie können Plots für Bachelorarbeiten und Präsentationen optimieren.\n",
    "\n",
    "## Visualisierung von DataFrames\n",
    "\n",
    "Aber wie kombinieren wir jetzt die Funktionalitäten des Pandas-Moduls mit denen\n",
    "des Matplotlib-Moduls? Der grundlegende Datentyp für Matplotlib ist das\n",
    "NumPy-Array und auch in den Pandas-Datenobjekten stecken im Kern NumPy-Arrays.\n",
    "Daher funktionieren die Plotting-Funktionalitäten von Matplotlib direkt.\n",
    "Wünschenswert wäre allerdings, den Zeilen- oder den Spaltenindex für die\n",
    "Beschriftung zu nehmen. Beides ist in dem DataFrame-Objekt abgespeichert. Wir\n",
    "können mit\n",
    "\n",
    "* `.index` auf den Zeilenindex und\n",
    "* `.columns` auf den Spaltenindex\n",
    "\n",
    "zugreifen. Die Methode `.to_numpy()` liefert die Werte in der Tabelle als\n",
    "NumPy-Array zurück. Das brauchen wir für die Visualisierung jedoch nicht, denn die\n",
    "Tabellendaten können direkt visualisiert werden.\n",
    "\n",
    "Wir verwenden einen realistischen Datensatz und importieren den uns schon\n",
    "bekannten Datensatz der Top7-Fußballvereine der Bundesliga 2020/21 ([→\n",
    "Download](https://nextcloud.frankfurt-university.de/s/yJjkkMSkWqcSxGL)). Dann\n",
    "lassen wir den Zeilen- und Spaltenindex direkt anzeigen:"
   ]
  },
  {
   "cell_type": "code",
   "execution_count": null,
   "id": "02e7f743",
   "metadata": {},
   "outputs": [],
   "source": [
    "import pandas as pd\n",
    "import numpy as np\n",
    "\n",
    "data = pd.read_csv('bundesliga_top7_offensive.csv', index_col=0)\n",
    "\n",
    "print('Zeilenindex: ')\n",
    "print(data.index)\n",
    "\n",
    "print('\\nSpaltenindex:')\n",
    "print(data.columns)"
   ]
  },
  {
   "cell_type": "markdown",
   "id": "475dab93",
   "metadata": {},
   "source": [
    "Nun können wir die Daten aus dem Pandas-DataFrame extrahieren und visualisieren.\n",
    "Wenn wir beispielsweise wissen wollen, wie alt die Spieler der Eintracht\n",
    "Frankfurt sind, filtern wir zuerst nach Eintracht Frankfurt. Dann speichern wir\n",
    "die Namen der Spieler mit dem Zeilenindex in der Variablen `x` und das Alter\n",
    "`Age` in `y`."
   ]
  },
  {
   "cell_type": "code",
   "execution_count": null,
   "id": "919de5d5",
   "metadata": {},
   "outputs": [],
   "source": [
    "# Daten filtern\n",
    "data_eintracht_frankfurt = data.loc[ data['Club'] == 'Eintracht Frankfurt' ]\n",
    "x = data_eintracht_frankfurt.index\n",
    "y = data_eintracht_frankfurt['Age']"
   ]
  },
  {
   "cell_type": "markdown",
   "id": "06008287",
   "metadata": {},
   "source": [
    "Da es sich bei den Spielern um Kategorien, also diskrete Daten handelt,\n",
    "verwenden wir ein Balkendiagramm zur Visualisierung. Für eine ansprechende\n",
    "Darstellung nutzen wir ein vordefiniertes Theme, das wir über `matplotlib.style`\n",
    "importieren."
   ]
  },
  {
   "cell_type": "code",
   "execution_count": null,
   "id": "15c81171",
   "metadata": {},
   "outputs": [],
   "source": [
    "import matplotlib.pyplot as plt\n",
    "\n",
    "# vordefiniertes Styling-Theme auswählen z.B. 'ggplot', 'seaborn-v0_8', 'dark_background'\n",
    "import matplotlib.style as style\n",
    "style.use('seaborn-v0_8') \n",
    "\n",
    "# Visualisierung\n",
    "plt.figure()\n",
    "plt.bar(x, y)\n",
    "plt.xlabel('Spieler')\n",
    "plt.ylabel('Alter')\n",
    "plt.title('Spielerdaten Eintracht Frankfurt 20/21')\n",
    "\n",
    "# Rotation der x-Achsenbeschriftung um 45 Grad mit rechtsbündiger Ausrichtung\n",
    "plt.xticks(rotation=45, ha='right')\n",
    "plt.tight_layout()\n",
    "plt.show()"
   ]
  },
  {
   "cell_type": "markdown",
   "id": "d7c89064",
   "metadata": {},
   "source": [
    "Die Funktion `xticks()` manipuliert die Beschriftung der x-Achse. Im obigen\n",
    "Code-Beispiel wird der Beschriftungstext um 45 Grad gedreht und rechtsbündig\n",
    "ausgerichtet. `tight_layout()` führt zu weniger Abständen zwischen dem Plot der\n",
    "umgebenden Zeichenfläche.\n",
    "\n",
    "## Referenzlinien hinzufügen\n",
    "\n",
    "Als nächstes möchten wir in den Plot Zusatzinformationen einblenden. So würden\n",
    "wir gerne hervorheben, wo das Durchschnittsalter der Fußballspieler liegt.\n",
    "Dadurch können wir schnell ablesen, welcher Spieler über dem Durchschnitt liegt\n",
    "und welcher jünger als der Durchschnitt ist.\n",
    "\n",
    "Dazu müssen wir zunächst die Zusatzinformation, in diesem Beispiel den\n",
    "Mittelwert, aus den Daten berechnen."
   ]
  },
  {
   "cell_type": "code",
   "execution_count": null,
   "id": "dcddd349",
   "metadata": {},
   "outputs": [],
   "source": [
    "mittelwert_alter = data_eintracht_frankfurt['Age'].mean()\n",
    "print(f'Mittleres Alter der Spieler: {mittelwert_alter:.1f} Jahre')"
   ]
  },
  {
   "cell_type": "markdown",
   "id": "58d76946",
   "metadata": {},
   "source": [
    "Nun ergänzen wir den Plot der Altersangaben mit dem Mittelwert. Wir zeichnen\n",
    "eine horizontale Linie mit der Höhe des Altersdurchschnitts. Dazu verwenden wir\n",
    "die Funktion `axhline()`. Für vertikale Linien gibt es entsprechend `axvline()`.\n",
    "Zusätzlich fügen wir mit `legend()` eine Legende ein, um zu erklären, welche\n",
    "Bedeutung die Linie hat. Das sogenannte Label, also die Beschriftung der\n",
    "Legende, wir zuvor als Argument in `axhline()` übergeben. Auch die Formatierung\n",
    "der Linie mit roter Farbe `color='red'`, der Linienstil `linestyle='--'` und die\n",
    "Linienbreite `linewidth=2` werden an dieser Stelle als Argumente eingefügt, so\n",
    "dass wir insgesamt den folgenden Plot erhalten:"
   ]
  },
  {
   "cell_type": "code",
   "execution_count": null,
   "id": "922423ab",
   "metadata": {},
   "outputs": [],
   "source": [
    "# Daten\n",
    "x = data_eintracht_frankfurt.index\n",
    "y = data_eintracht_frankfurt['Age']\n",
    "\n",
    "# Visualisierung\n",
    "plt.figure()\n",
    "plt.bar(x, y)\n",
    "plt.xlabel('Spieler')\n",
    "plt.ylabel('Alter')\n",
    "plt.title('Spielerdaten Eintracht Frankfurt 20/21')\n",
    "\n",
    "# Rotation der x-Achsenbeschriftung um 45 Grad mit rechtsbündiger Ausrichtung\n",
    "plt.xticks(rotation=45, ha='right')\n",
    "\n",
    "# Horizontale Linie für den Mittelwert\n",
    "plt.axhline(mittelwert_alter, color='red', linestyle='--', linewidth=2, \n",
    "            label=f'Durchschnittsalter: {mittelwert_alter:.1f} Jahre')\n",
    "plt.legend()\n",
    "plt.tight_layout()\n",
    "plt.show()"
   ]
  },
  {
   "cell_type": "markdown",
   "id": "84f0ef30",
   "metadata": {},
   "source": [
    "**Mini-Übung**\n",
    "Berechnen Sie jetzt den Mittelwert der Minuten, die ein Spieler der Eintracht\n",
    "Frankfurt durchschnittlich im Einsatz war. Erstellen Sie ein Balkendiagramm der\n",
    "Spielzeiten und ergänzen Sie eine horizontale schwarze Linie für den Mittelwert."
   ]
  },
  {
   "cell_type": "code",
   "execution_count": null,
   "id": "40e2df15",
   "metadata": {},
   "outputs": [],
   "source": [
    "# Hier Ihr Code"
   ]
  },
  {
   "cell_type": "markdown",
   "id": "006a9ba8",
   "metadata": {},
   "source": [
    "## Subplots für komplexere Darstellungen\n",
    "\n",
    "Hier sehen wir eine wichtige Erweiterung zu den bisherigen Plots: Subplots\n",
    "ermöglichen es uns, mehrere Diagramme nebeneinander in einer Abbildung\n",
    "darzustellen. Der entscheidende Unterschied zu unseren bisherigen Plots ist,\n",
    "dass wir nun die Zeichenfläche mit\n",
    "\n",
    "```python\n",
    "fig, axes = plt.subplots(1, 2, figsize=(15, 10))\n",
    "```\n",
    "\n",
    "erzeugen und die *objektorientierte* Schnittstelle benutzen. Die obige\n",
    "Code-Zeile erstellt eine Abbildung (`fig`) mit 1 Zeile und 2 Spalten von Plots.\n",
    "Das `axes`-Array enthält die beiden einzelnen Plot-Bereiche. Auf die einzelnen\n",
    "Plots können wir folgendermaßen zugreifen:\n",
    "\n",
    "* `axes[0]`: der erste Plot (links)\n",
    "* `axes[1]`: der zweite Plot (rechts)\n",
    "\n",
    "Anstelle der gewohnten Funktion `plt.bar()` verwenden wir nun\n",
    "`axes[0].bar(...)`oder `axes[1].bar(...)`. Auch werden die Funktionen wir\n",
    "`plt.title()`zu Methoden, die sich auf das konkrete Objekt beziehen, wie\n",
    "`axes[0].set_title()`. Wir verwenden noch weitere Optionen zum Styling der\n",
    "Plots."
   ]
  },
  {
   "cell_type": "code",
   "execution_count": null,
   "id": "a212d41f",
   "metadata": {},
   "outputs": [],
   "source": [
    "# Daten für Eintracht Frankfurt\n",
    "eintracht_frankfurt = data[data['Club'] == 'Eintracht Frankfurt']\n",
    "\n",
    "# 1x2 Subplot-Layout erstellen\n",
    "fig, axes = plt.subplots(1, 2, figsize=(15, 10))\n",
    "\n",
    "# Plot 1: Alter\n",
    "axes[0].bar(eintracht_frankfurt.index, eintracht_frankfurt['Age'],\n",
    "               color='skyblue', alpha=0.7)\n",
    "axes[0].set_title('Alter der Spieler')\n",
    "axes[0].set_ylabel('Alter')\n",
    "\n",
    "# Erst die Tick-Positionen setzen, dann die Labels\n",
    "axes[0].set_xticks(range(len(eintracht_frankfurt)))\n",
    "axes[0].set_xticklabels(eintracht_frankfurt.index, rotation=45, ha='right', fontsize=8)\n",
    "\n",
    "# Plot 2: Spielminuten\n",
    "axes[1].bar(eintracht_frankfurt.index, eintracht_frankfurt['Mins'],\n",
    "               color='lightgreen', alpha=0.7)\n",
    "axes[1].set_title('Spielminuten')\n",
    "axes[1].set_ylabel('Minuten')\n",
    "axes[1].set_xticks(range(len(eintracht_frankfurt)))\n",
    "axes[1].set_xticklabels(eintracht_frankfurt.index, rotation=45, ha='right', fontsize=8)\n",
    "\n",
    "plt.suptitle('Spielerstatistiken Eintracht Frankfurt 20/21', fontsize=16)\n",
    "plt.tight_layout()\n",
    "plt.show()"
   ]
  },
  {
   "cell_type": "markdown",
   "id": "f9165d39",
   "metadata": {},
   "source": [
    "## Korrelationsanalyse mit Streudiagrammen\n",
    "\n",
    "Hier sehen wir eine wichtige statistische Methode: Korrelationsanalysen\n",
    "untersuchen, ob und wie stark zwei Variablen miteinander zusammenhängen. In\n",
    "unserem Beispiel fragen wir uns: Gibt es einen Zusammenhang zwischen\n",
    "Spielminuten und Toren? Oder zwischen Alter und Einsatzzeit?"
   ]
  },
  {
   "cell_type": "code",
   "execution_count": null,
   "id": "7094fc03",
   "metadata": {},
   "outputs": [],
   "source": [
    "ig, axes = plt.subplots(2, 2, figsize=(12, 8))\n",
    "\n",
    "# Streudiagramm: Spielminuten vs. Tore\n",
    "axes[0, 0].scatter(data['Mins'], data['Goals'], alpha=0.6, color='red')\n",
    "axes[0, 0].set_xlabel('Spielminuten')\n",
    "axes[0, 0].set_ylabel('Tore')\n",
    "axes[0, 0].set_title('Spielminuten vs. Tore')\n",
    "\n",
    "# Streudiagramm: Alter vs. Spielminuten\n",
    "axes[0, 1].scatter(data['Age'], data['Mins'], alpha=0.6, color='blue')\n",
    "axes[0, 1].set_xlabel('Alter')\n",
    "axes[0, 1].set_ylabel('Spielminuten')\n",
    "axes[0, 1].set_title('Alter vs. Spielminuten')\n",
    "\n",
    "# Streudiagramm: Tore vs. Torvorbereitungen (= Assists)\n",
    "axes[1, 0].scatter(data['Goals'], data['Assists'], alpha=0.6, color='green')\n",
    "axes[1, 0].set_xlabel('Tore')\n",
    "axes[1, 0].set_ylabel('Assists')\n",
    "axes[1, 0].set_title('Tore vs. Assists')\n",
    "\n",
    "# Streudiagramm: Spielminuten vs. Torvorbereitungen (= Assists)\n",
    "axes[1, 1].scatter(data['Mins'], data['Assists'], alpha=0.6, color='orange')\n",
    "axes[1, 1].set_xlabel('Spielminuten')\n",
    "axes[1, 1].set_ylabel('Assists')\n",
    "axes[1, 1].set_title('Spielminuten vs. Assists')\n",
    "\n",
    "plt.suptitle('Korrelationsanalyse Bundesliga-Spieler', fontsize=16)\n",
    "plt.tight_layout()\n",
    "plt.show()"
   ]
  },
  {
   "cell_type": "markdown",
   "id": "de9ed7f3",
   "metadata": {},
   "source": [
    "Hier sehen wir die wichtigsten Muster in Streudiagrammen:\n",
    "\n",
    "* **Positive Korrelation**: Die Punkte bilden eine aufsteigende Linie: je höher\n",
    "  die Ursache, desto höher die Wirkung. Beim Beispiel Spielminuten vs. Tore\n",
    "  können wir interpretieren: \"Wer mehr spielt, erzielt tendenziell mehr Tore\".\n",
    "* **Negative Korrelation**: Die Punkte bilden eine absteigende Linie: je höher\n",
    "  die Ursache, desto niedriger die Wirkung. Beim Beispiel Alter vs. Spielminuten\n",
    "  können wir interpretieren: \"Ältere Spieler bekommen tendenziell weniger\n",
    "  Einsatzzeit\".\n",
    "* **Keine Korrelation**: Die Punkte sind zufällig verteilt: kein erkennbares\n",
    "  Muster. Wir interpretieren: \"Zwischen den Variablen gibt es keinen\n",
    "  systematischen Zusammenhang\".\n",
    "\n",
    "## Export von Grafiken\n",
    "\n",
    "Für die Verwendung in Dokumenten oder Präsentationen müssen Grafiken exportiert\n",
    "werden:"
   ]
  },
  {
   "cell_type": "code",
   "execution_count": null,
   "id": "17a5fe17",
   "metadata": {},
   "outputs": [],
   "source": [
    "# Beispiel-Plot erstellen\n",
    "plt.figure(figsize=(10, 6))\n",
    "verein_tore = data.groupby('Club')['Goals'].sum().sort_values(ascending=False)\n",
    "\n",
    "plt.bar(verein_tore.index, verein_tore.values, color='steelblue', alpha=0.8)\n",
    "plt.xlabel('Verein')\n",
    "plt.ylabel('Gesamtzahl Tore')\n",
    "plt.title('Tore pro Verein - Bundesliga 2020/21')\n",
    "plt.xticks(rotation=45, ha='right')\n",
    "plt.grid(True, alpha=0.3)\n",
    "plt.tight_layout()\n",
    "\n",
    "# Export in verschiedenen Formaten\n",
    "plt.savefig('bundesliga_tore.png', dpi=300, bbox_inches='tight')  # Für Web/Präsentationen\n",
    "plt.savefig('bundesliga_tore.pdf', bbox_inches='tight')           # Für LaTeX/Publikationen\n",
    "plt.savefig('bundesliga_tore.svg', bbox_inches='tight')           # Für Vektorgrafiken\n",
    "\n",
    "plt.show()"
   ]
  },
  {
   "cell_type": "markdown",
   "id": "cf46bb16",
   "metadata": {},
   "source": [
    "## Zusammenfassung und Ausblick\n",
    "\n",
    "In diesem Kapitel haben wir gelernt, wie man DataFrames professionell\n",
    "visualisiert. Diese Techniken bilden die Grundlage für die Datenvisualisierung\n",
    "in der Praxis. Mit DataFrames und Matplotlib können wir reale Datensätze\n",
    "ansprechend präsentieren. Mit der Korrelationsanalyse haben wir auch einen\n",
    "ersten Schritt Richtung Data Science gemacht. Wie wir Trends und Muster in Daten\n",
    "finden, werden wir im nächsten Kapitel lernen, wenn wir uns der Regression\n",
    "widmen."
   ]
  }
 ],
 "metadata": {
  "kernelspec": {
   "display_name": "Python 3 (ipykernel)",
   "language": "python",
   "name": "python3"
  }
 },
 "nbformat": 4,
 "nbformat_minor": 5
}
