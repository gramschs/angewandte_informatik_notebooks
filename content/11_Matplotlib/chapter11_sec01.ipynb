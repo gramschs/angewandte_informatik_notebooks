{
 "cells": [
  {
   "cell_type": "markdown",
   "id": "f6aaf0d0",
   "metadata": {},
   "source": [
    "# 11.1 Kontinuierliche Daten visualisieren\n",
    "\n",
    "## Lernziele\n",
    "\n",
    "* Sie können **Matplotlib** mit der üblichen Abkürzung **plt** importieren.\n",
    "* Sie können Funktionen als **Liniendiagramm** visualisieren.\n",
    "* Sie können Messwerte als **Streudiagramm** darstellen.\n",
    "* Sie verstehen den Unterschied zwischen Linien- und Streudiagrammen.\n",
    "\n",
    "## Liniendiagramme\n",
    "\n",
    "Liniendiagramme werden zur Visualisierung benutzt, wenn die Daten kontinuierlich\n",
    "sind und zu jedem x-Wert ein y-Wert vorliegt. Am häufigsten ist dies der Fall,\n",
    "wenn die Daten von einer mathematischen Funktion stammen oder wenn Messungen über\n",
    "die Zeit erfasst werden. Obwohl die Daten theoretisch für jeden x-Wert vorliegen\n",
    "und wir daher Millionen von (x,y)-Punkten zeichnen könnten, benutzen wir eine\n",
    "Wertetabelle mit wenigen (x,y)-Paaren. Die Anzahl der (x,y)-Paare bestimmt dann,\n",
    "wie \"glatt\" die Visualisierung wirkt.\n",
    "\n",
    "Erzeugen wir eine Liste mit x-Werten und dazugehörigen y-Werten."
   ]
  },
  {
   "cell_type": "code",
   "execution_count": null,
   "id": "48fd3918",
   "metadata": {},
   "outputs": [],
   "source": [
    "x = [-2, -1, 0, 1, 2]\n",
    "y = [4, 1, 0, 1, 4]"
   ]
  },
  {
   "cell_type": "markdown",
   "id": "93dbb6e4",
   "metadata": {},
   "source": [
    "Danach lassen wir den Python-Interpreter diese Werte zeichnen. Dazu benötigen\n",
    "wir das Modul `matplotlib`, genauer gesagt nur einen Teil dieses Moduls namens\n",
    "`pyplot`. Daher laden wir es zuerst mit der typischen Abkürzung `plt`."
   ]
  },
  {
   "cell_type": "code",
   "execution_count": null,
   "id": "7c8d3570",
   "metadata": {},
   "outputs": [],
   "source": [
    "import matplotlib.pyplot as plt"
   ]
  },
  {
   "cell_type": "markdown",
   "id": "a0df04b4",
   "metadata": {},
   "source": [
    "Matplotlib bietet zwei Schnittstellen an, die Funktionen und Methoden des Moduls\n",
    "zu benutzen. Die erste Schnittstelle ist **zustandsorientiert**, die zweite\n",
    "**objektorientiert**. Die zustandsorientierte Schnittstelle ist älter. Die\n",
    "Entwicklerinnen und Entwickler des Matplotlib-Moduls orientierten sich zunächst\n",
    "an der kommerziellen Software MATLAB und griffen erst in einer späteren Phase\n",
    "auf Objektorientierung zurück.\n",
    "\n",
    "Bei der zustandsorientierten Schnittstelle werden Funktionen benutzt, die auf\n",
    "das aktuelle Objekt wirken. Das hat Nachteile, wenn beispielsweise mehrere Plots\n",
    "in einer Grafik gegenübergestellt werden. Dann ist es schwierig zuzuordnen, was\n",
    "gerade das aktuelle Objekt ist. Daher hilft die zweite Matplotlib-Schnittstelle,\n",
    "die objektorientierte Schnittstelle, mehrere Objekte auseinanderzuhalten.\n",
    "\n",
    "Zunächst werden wir die zustandsorientierte Schnittstelle benutzen, um den\n",
    "Vorteil auszunutzen, MATLAB-ähnliche Syntax verwenden zu können.\n",
    "\n",
    "Zunächst erstellen wir ein Liniendiagramm mit der Funktion `plt.plot()`. Zuvor\n",
    "öffnen wir mit `plt.figure()` eine neue Zeichenfläche, die Figure genannt wird."
   ]
  },
  {
   "cell_type": "code",
   "execution_count": null,
   "id": "bcd1a652",
   "metadata": {},
   "outputs": [],
   "source": [
    "plt.figure()\n",
    "plt.plot(x, y)\n",
    "plt.show()"
   ]
  },
  {
   "cell_type": "markdown",
   "id": "e35f83b6",
   "metadata": {},
   "source": [
    "Aber zurück zum Plot, sieht krakelig aus. Eigentlich sollte dies eine Parabel im\n",
    "Intervall [-2,2] werden. Mit nur fünf Punkten und der Tatsache, dass diese fünf\n",
    "Punkte mit geraden Linien verbunden werden, sieht es etwas unschön aus. Besser\n",
    "wird es mit mehr Punkten, aber die wollen wir jetzt nicht von Hand erzeugen. Wir\n",
    "verwenden das Modul `numpy` für numerisches Python, das wir wieder einmal zuerst\n",
    "laden müssen.\n",
    "\n",
    "Die Funktion `np.linspace(a, b, Anzahl)` erzeugt Punkte im Intervall [a,b] und\n",
    "zwar genauso viele, wie durch die Option `Anzahl` vorgegeben werden. Damit\n",
    "können wir jetzt eine feiner aufgelöste Wertetabelle erstellen und\n",
    "visualisieren."
   ]
  },
  {
   "cell_type": "code",
   "execution_count": null,
   "id": "82021db6",
   "metadata": {},
   "outputs": [],
   "source": [
    "import numpy as np\n",
    "\n",
    "x = np.linspace(-2, 2, 100) \n",
    "y = x**2\n",
    "\n",
    "plt.figure()\n",
    "plt.plot(x, y)\n",
    "plt.show()"
   ]
  },
  {
   "cell_type": "markdown",
   "id": "4c9d6047",
   "metadata": {},
   "source": [
    "Als nächstes beschäftigen wir uns mit Beschriftungen. Mit den Funktionen\n",
    "`xlabel()` und `ylabel()` beschriften wir die x- und y-Achse. Mit `title()` wird\n",
    "der Titel gesetzt."
   ]
  },
  {
   "cell_type": "code",
   "execution_count": null,
   "id": "a6cfdb10",
   "metadata": {},
   "outputs": [],
   "source": [
    "# Daten\n",
    "x = np.linspace(-10, 10, 200)\n",
    "y = np.sin(x)\n",
    "\n",
    "# Visualisierung\n",
    "plt.figure()\n",
    "plt.plot(x, y)\n",
    "plt.xlabel('Zeit in Sekunden')\n",
    "plt.ylabel('Stromstärke in Ampere')\n",
    "plt.title('Wechselstrom')\n",
    "plt.show()"
   ]
  },
  {
   "cell_type": "markdown",
   "id": "77d973e5",
   "metadata": {},
   "source": [
    "**Mini-Übung**\n",
    "Plotten Sie folgende Funktionen im Bereich x ∈ [-3, 3]:\n",
    "\n",
    "* lineare Funktion, z.B. f(x) = 2x + 1\n",
    "* Kosinus,\n",
    "* Exponentialfunktion und\n",
    "* Wurzelfunktion.\n",
    "\n",
    "Bei welcher Funktion müssen Sie besonders auf das Definitionsgebiet der\n",
    "Funktion achten?"
   ]
  },
  {
   "cell_type": "code",
   "execution_count": null,
   "id": "fc6b497f",
   "metadata": {},
   "outputs": [],
   "source": [
    "# Hier Ihr Code:"
   ]
  },
  {
   "cell_type": "markdown",
   "id": "46a74362",
   "metadata": {},
   "source": [
    "## Streudiagramme\n",
    "\n",
    "Bei Streudiagrammen werden nicht die Punkte (x₁,y₁) mit (x₂,y₂) mit\n",
    "(x₃,y₃) usw. durch Linien verbunden, sondern jeder Punkt wird einzeln an seiner\n",
    "Koordinatenstelle dargestellt. Ob dazu ein Punkt, Kreis, Dreieck oder\n",
    "Quadrat oder ein anderes Symbol verwendet wird, bleibt dem Anwender überlassen.\n",
    "Streudiagramme heißen im Englischen Scatter-Plot, daher lautet die entsprechende\n",
    "Matplotlib-Funktion auch `scatter()`."
   ]
  },
  {
   "cell_type": "code",
   "execution_count": null,
   "id": "25e847d8",
   "metadata": {},
   "outputs": [],
   "source": [
    "import numpy as np\n",
    "import matplotlib.pyplot as plt\n",
    "\n",
    "# Daten\n",
    "x = np.linspace(-2*np.pi, 2*np.pi, 25)\n",
    "y = np.sin(x)\n",
    "\n",
    "# Streudiagramm\n",
    "plt.figure()\n",
    "plt.scatter(x, y)\n",
    "plt.xlabel('x')\n",
    "plt.ylabel('sin(x)')\n",
    "plt.title('Sinus-Funktion als Streudiagramm')\n",
    "plt.show()"
   ]
  },
  {
   "cell_type": "markdown",
   "id": "351b6931",
   "metadata": {},
   "source": [
    "Über die Option `marker=` lässt sich das Symbol einstellen, mit dem das\n",
    "Streudiagramm erzeugt wird. Voreingestellt ist ein ausgefüllter Kreis. Weitere\n",
    "Optionen für die Marker-Symbole sind in der Matplotlib-Dokumentation gelistet:\n",
    "\n",
    "> <https://matplotlib.org/stable/api/markers_api.html#module-matplotlib.markers>\n",
    "\n",
    "Wir probieren einige Symbole aus:"
   ]
  },
  {
   "cell_type": "code",
   "execution_count": null,
   "id": "dc95a5c6",
   "metadata": {},
   "outputs": [],
   "source": [
    "# Daten\n",
    "x = np.linspace(-2*np.pi, 2*np.pi, 25)\n",
    "y = np.sin(x)\n",
    "\n",
    "# Streudiagramm mit x-Markern\n",
    "plt.figure()\n",
    "plt.scatter(x, y, marker='x')\n",
    "plt.xlabel('x')\n",
    "plt.ylabel('sin(x)')\n",
    "plt.title('Sinus-Funktion mit x-Markern')\n",
    "plt.show()"
   ]
  },
  {
   "cell_type": "markdown",
   "id": "07b0d65a",
   "metadata": {},
   "source": [
    "**Mini-Übung**\n",
    "Erstellen Sie ein Streudiagramm mit folgenden Spezifikationen:\n",
    "\n",
    "* x-Werte: Zahlen von 1 bis 20\n",
    "* y-Werte: Zufallszahlen zwischen 10 und 30 (verwenden Sie `np.random.uniform(10, 30, 20)`)\n",
    "* Marker: rote Dreiecke (marker='^')\n",
    "* Titel: \"Zufällige Messwerte\""
   ]
  },
  {
   "cell_type": "code",
   "execution_count": null,
   "id": "ae702020",
   "metadata": {},
   "outputs": [],
   "source": [
    "# Hier Ihr Code"
   ]
  },
  {
   "cell_type": "markdown",
   "id": "81227d7d",
   "metadata": {},
   "source": [
    "## Wann verwendet man welchen Diagrammtyp?\n",
    "\n",
    "Für bekannte Funktionen wie Sinus oder Kosinus würde man normalerweise\n",
    "Liniendiagramme verwenden. Streudiagramme eignen sich eher für die Visualisierung\n",
    "von Messungen oder wenn man Korrelationen zwischen zwei Variablen untersuchen möchte.\n",
    "\n",
    "Wenn wir beispielsweise an jedem Wochentag die Temperatur an zwei Orten messen,\n",
    "bietet es sich an, beide Messreihen in einem Diagramm zu visualisieren.\n",
    "Dazu werden wir unterschiedliche Marker und unterschiedliche Farben verwenden."
   ]
  },
  {
   "cell_type": "code",
   "execution_count": null,
   "id": "5553a4b0",
   "metadata": {},
   "outputs": [],
   "source": [
    "# Daten - simulierte Temperaturmessungen\n",
    "x = ['Mo', 'Di', 'Mi', 'Do', 'Fr', 'Sa', 'So']\n",
    "y1 = [18, 22, 19, 21, 20, 23, 24]  # Frankfurt\n",
    "y2 = [16, 20, 17, 19, 18, 21, 22]  # Offenbach\n",
    "\n",
    "# Streudiagramme\n",
    "plt.figure()\n",
    "plt.scatter(x, y1, marker='+', s=100, color='blue')\n",
    "plt.scatter(x, y2, marker='o', s=50, color='red')\n",
    "plt.xlabel('Wochentag')\n",
    "plt.ylabel('Temperatur [°C]')\n",
    "plt.title('Temperaturmessungen')\n",
    "plt.show()"
   ]
  },
  {
   "cell_type": "markdown",
   "id": "ad8dfdc5",
   "metadata": {},
   "source": [
    "Dann ist es aber auch gut, die Visualisierung zu beschriften. Dazu kennzeichnet\n",
    "man jeden einzelnen Plot-Aufruf mit einem sogenannten Label, z.B.\n",
    "`plt.scatter(x, y1, label='Frankfurt')`. Zuletzt verwendet man die Funktion\n",
    "`legend()`, die eine Legende mit allen Label-Einträgen erzeugt, bei denen die\n",
    "Farben der Kurven und die Marker korrekt zu den Namen (Labels) zugeordnet\n",
    "werden."
   ]
  },
  {
   "cell_type": "code",
   "execution_count": null,
   "id": "854811d4",
   "metadata": {},
   "outputs": [],
   "source": [
    "# Daten\n",
    "x = ['Mo', 'Di', 'Mi', 'Do', 'Fr', 'Sa', 'So']\n",
    "y1 = [18, 22, 19, 21, 20, 23, 24]  # Frankfurt\n",
    "y2 = [16, 20, 17, 19, 18, 21, 22]  # Offenbach\n",
    "\n",
    "# Streudiagramme mit Legende\n",
    "plt.figure()\n",
    "plt.scatter(x, y1, marker='+', s=100, color='blue', label='Frankfurt')\n",
    "plt.scatter(x, y2, marker='o', s=50, color='red', label='Offenbach')\n",
    "plt.xlabel('Wochentag')\n",
    "plt.ylabel('Temperatur [°C]')\n",
    "plt.title('Temperaturmessungen in der Region')\n",
    "plt.legend()\n",
    "plt.show()"
   ]
  },
  {
   "cell_type": "markdown",
   "id": "c7eedd35",
   "metadata": {},
   "source": [
    "## Zusammenfassung und Ausblick\n",
    "\n",
    "In diesem Kapitel haben wir die Grundlagen der Datenvisualisierung mit\n",
    "Matplotlib kennengelernt. Liniendiagramme eignen sich für kontinuierliche Daten,\n",
    "mathematische Funktionen und Zeitreihen, bei denen die Datenpunkte sinnvoll\n",
    "miteinander verbunden werden können. Streudiagramme sind ideal für diskrete\n",
    "Messpunkte, Korrelationsanalysen und Situationen, in denen die Einzelpunkte im\n",
    "Fokus stehen. Im nächsten Kapitel werden wir uns mit Balkendiagrammen und\n",
    "Histogrammen beschäftigen, die für andere Datentypen geeignet sind."
   ]
  }
 ],
 "metadata": {
  "kernelspec": {
   "display_name": "Python 3 (ipykernel)",
   "language": "python",
   "name": "python3"
  },
  "language_info": {
   "codemirror_mode": {
    "name": "ipython",
    "version": 3
   },
   "file_extension": ".py",
   "mimetype": "text/x-python",
   "name": "python",
   "nbconvert_exporter": "python",
   "pygments_lexer": "ipython3",
   "version": "3.12.2"
  }
 },
 "nbformat": 4,
 "nbformat_minor": 5
}
